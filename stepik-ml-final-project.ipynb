{
 "cells": [
  {
   "cell_type": "markdown",
   "id": "ff21b044",
   "metadata": {
    "papermill": {
     "duration": 0.068112,
     "end_time": "2022-03-09T14:31:03.485197",
     "exception": false,
     "start_time": "2022-03-09T14:31:03.417085",
     "status": "completed"
    },
    "tags": []
   },
   "source": [
    "# **PROJECT:** \n",
    "# Problem 1. Search for problematic steps for e-learning course\n",
    "# Problem 2. Prediction of users behaviour (course drop-out) using the data from first 3 days\n"
   ]
  },
  {
   "cell_type": "code",
   "execution_count": null,
   "id": "c0991306",
   "metadata": {
    "papermill": {
     "duration": 0.06503,
     "end_time": "2022-03-09T14:31:03.618493",
     "exception": false,
     "start_time": "2022-03-09T14:31:03.553463",
     "status": "completed"
    },
    "tags": []
   },
   "outputs": [],
   "source": []
  },
  {
   "cell_type": "code",
   "execution_count": null,
   "id": "1e666e49",
   "metadata": {
    "papermill": {
     "duration": 0.064237,
     "end_time": "2022-03-09T14:31:03.747589",
     "exception": false,
     "start_time": "2022-03-09T14:31:03.683352",
     "status": "completed"
    },
    "tags": []
   },
   "outputs": [],
   "source": []
  },
  {
   "cell_type": "markdown",
   "id": "cd9cd6fc",
   "metadata": {
    "papermill": {
     "duration": 0.08449,
     "end_time": "2022-03-09T14:31:03.897989",
     "exception": false,
     "start_time": "2022-03-09T14:31:03.813499",
     "status": "completed"
    },
    "tags": []
   },
   "source": [
    "# Loading libraries and datasets"
   ]
  },
  {
   "cell_type": "code",
   "execution_count": 1,
   "id": "51dea5fd",
   "metadata": {
    "execution": {
     "iopub.execute_input": "2022-03-09T14:31:04.033793Z",
     "iopub.status.busy": "2022-03-09T14:31:04.032681Z",
     "iopub.status.idle": "2022-03-09T14:31:04.044216Z",
     "shell.execute_reply": "2022-03-09T14:31:04.044933Z",
     "shell.execute_reply.started": "2022-03-09T14:25:59.020195Z"
    },
    "papermill": {
     "duration": 0.080393,
     "end_time": "2022-03-09T14:31:04.045256",
     "exception": false,
     "start_time": "2022-03-09T14:31:03.964863",
     "status": "completed"
    },
    "tags": []
   },
   "outputs": [
    {
     "name": "stdout",
     "output_type": "stream",
     "text": [
      "/kaggle/input/ml-step/submissions_data_train.csv\n",
      "/kaggle/input/ml-step/event_data_train.csv\n"
     ]
    }
   ],
   "source": [
    "import numpy as np # linear algebra\n",
    "import pandas as pd # data processing, CSV file I/O (e.g. pd.read_csv)\n",
    "\n",
    "# receiving relative path to datasets\n",
    "import os\n",
    "\n",
    "for dirname, _, filenames in os.walk('/kaggle/input'):\n",
    "    for filename in filenames:\n",
    "        print(os.path.join(dirname, filename))"
   ]
  },
  {
   "cell_type": "code",
   "execution_count": 2,
   "id": "ffabd6b8",
   "metadata": {
    "execution": {
     "iopub.execute_input": "2022-03-09T14:31:04.187216Z",
     "iopub.status.busy": "2022-03-09T14:31:04.186308Z",
     "iopub.status.idle": "2022-03-09T14:31:08.319408Z",
     "shell.execute_reply": "2022-03-09T14:31:08.318912Z",
     "shell.execute_reply.started": "2022-03-09T14:25:59.090051Z"
    },
    "papermill": {
     "duration": 4.206131,
     "end_time": "2022-03-09T14:31:08.319552",
     "exception": false,
     "start_time": "2022-03-09T14:31:04.113421",
     "status": "completed"
    },
    "tags": []
   },
   "outputs": [
    {
     "data": {
      "text/html": [
       "<div>\n",
       "<style scoped>\n",
       "    .dataframe tbody tr th:only-of-type {\n",
       "        vertical-align: middle;\n",
       "    }\n",
       "\n",
       "    .dataframe tbody tr th {\n",
       "        vertical-align: top;\n",
       "    }\n",
       "\n",
       "    .dataframe thead th {\n",
       "        text-align: right;\n",
       "    }\n",
       "</style>\n",
       "<table border=\"1\" class=\"dataframe\">\n",
       "  <thead>\n",
       "    <tr style=\"text-align: right;\">\n",
       "      <th></th>\n",
       "      <th>step_id</th>\n",
       "      <th>timestamp</th>\n",
       "      <th>action</th>\n",
       "      <th>user_id</th>\n",
       "      <th>date</th>\n",
       "      <th>day</th>\n",
       "    </tr>\n",
       "  </thead>\n",
       "  <tbody>\n",
       "    <tr>\n",
       "      <th>0</th>\n",
       "      <td>32815</td>\n",
       "      <td>1434340848</td>\n",
       "      <td>viewed</td>\n",
       "      <td>17632</td>\n",
       "      <td>2015-06-15 04:00:48</td>\n",
       "      <td>2015-06-15</td>\n",
       "    </tr>\n",
       "    <tr>\n",
       "      <th>1</th>\n",
       "      <td>32815</td>\n",
       "      <td>1434340848</td>\n",
       "      <td>passed</td>\n",
       "      <td>17632</td>\n",
       "      <td>2015-06-15 04:00:48</td>\n",
       "      <td>2015-06-15</td>\n",
       "    </tr>\n",
       "    <tr>\n",
       "      <th>2</th>\n",
       "      <td>32815</td>\n",
       "      <td>1434340848</td>\n",
       "      <td>discovered</td>\n",
       "      <td>17632</td>\n",
       "      <td>2015-06-15 04:00:48</td>\n",
       "      <td>2015-06-15</td>\n",
       "    </tr>\n",
       "    <tr>\n",
       "      <th>3</th>\n",
       "      <td>32811</td>\n",
       "      <td>1434340895</td>\n",
       "      <td>discovered</td>\n",
       "      <td>17632</td>\n",
       "      <td>2015-06-15 04:01:35</td>\n",
       "      <td>2015-06-15</td>\n",
       "    </tr>\n",
       "    <tr>\n",
       "      <th>4</th>\n",
       "      <td>32811</td>\n",
       "      <td>1434340895</td>\n",
       "      <td>viewed</td>\n",
       "      <td>17632</td>\n",
       "      <td>2015-06-15 04:01:35</td>\n",
       "      <td>2015-06-15</td>\n",
       "    </tr>\n",
       "    <tr>\n",
       "      <th>...</th>\n",
       "      <td>...</td>\n",
       "      <td>...</td>\n",
       "      <td>...</td>\n",
       "      <td>...</td>\n",
       "      <td>...</td>\n",
       "      <td>...</td>\n",
       "    </tr>\n",
       "    <tr>\n",
       "      <th>3480698</th>\n",
       "      <td>33375</td>\n",
       "      <td>1526772685</td>\n",
       "      <td>viewed</td>\n",
       "      <td>11677</td>\n",
       "      <td>2018-05-19 23:31:25</td>\n",
       "      <td>2018-05-19</td>\n",
       "    </tr>\n",
       "    <tr>\n",
       "      <th>3480699</th>\n",
       "      <td>32815</td>\n",
       "      <td>1526772750</td>\n",
       "      <td>viewed</td>\n",
       "      <td>5198</td>\n",
       "      <td>2018-05-19 23:32:30</td>\n",
       "      <td>2018-05-19</td>\n",
       "    </tr>\n",
       "    <tr>\n",
       "      <th>3480700</th>\n",
       "      <td>32815</td>\n",
       "      <td>1526772750</td>\n",
       "      <td>discovered</td>\n",
       "      <td>5198</td>\n",
       "      <td>2018-05-19 23:32:30</td>\n",
       "      <td>2018-05-19</td>\n",
       "    </tr>\n",
       "    <tr>\n",
       "      <th>3480701</th>\n",
       "      <td>32815</td>\n",
       "      <td>1526772750</td>\n",
       "      <td>passed</td>\n",
       "      <td>5198</td>\n",
       "      <td>2018-05-19 23:32:30</td>\n",
       "      <td>2018-05-19</td>\n",
       "    </tr>\n",
       "    <tr>\n",
       "      <th>3480702</th>\n",
       "      <td>33892</td>\n",
       "      <td>1526772811</td>\n",
       "      <td>viewed</td>\n",
       "      <td>18526</td>\n",
       "      <td>2018-05-19 23:33:31</td>\n",
       "      <td>2018-05-19</td>\n",
       "    </tr>\n",
       "  </tbody>\n",
       "</table>\n",
       "<p>3480703 rows × 6 columns</p>\n",
       "</div>"
      ],
      "text/plain": [
       "         step_id   timestamp      action  user_id                date  \\\n",
       "0          32815  1434340848      viewed    17632 2015-06-15 04:00:48   \n",
       "1          32815  1434340848      passed    17632 2015-06-15 04:00:48   \n",
       "2          32815  1434340848  discovered    17632 2015-06-15 04:00:48   \n",
       "3          32811  1434340895  discovered    17632 2015-06-15 04:01:35   \n",
       "4          32811  1434340895      viewed    17632 2015-06-15 04:01:35   \n",
       "...          ...         ...         ...      ...                 ...   \n",
       "3480698    33375  1526772685      viewed    11677 2018-05-19 23:31:25   \n",
       "3480699    32815  1526772750      viewed     5198 2018-05-19 23:32:30   \n",
       "3480700    32815  1526772750  discovered     5198 2018-05-19 23:32:30   \n",
       "3480701    32815  1526772750      passed     5198 2018-05-19 23:32:30   \n",
       "3480702    33892  1526772811      viewed    18526 2018-05-19 23:33:31   \n",
       "\n",
       "                day  \n",
       "0        2015-06-15  \n",
       "1        2015-06-15  \n",
       "2        2015-06-15  \n",
       "3        2015-06-15  \n",
       "4        2015-06-15  \n",
       "...             ...  \n",
       "3480698  2018-05-19  \n",
       "3480699  2018-05-19  \n",
       "3480700  2018-05-19  \n",
       "3480701  2018-05-19  \n",
       "3480702  2018-05-19  \n",
       "\n",
       "[3480703 rows x 6 columns]"
      ]
     },
     "execution_count": 2,
     "metadata": {},
     "output_type": "execute_result"
    }
   ],
   "source": [
    "# loading datasets\n",
    "events_data = pd.read_csv('/kaggle/input/ml-step/event_data_train.csv')\n",
    "submissions_data = pd.read_csv('/kaggle/input/ml-step/submissions_data_train.csv')\n",
    "\n",
    "# adding new columns (date /day)\n",
    "events_data['date'] = pd.to_datetime(events_data.timestamp, unit='s')\n",
    "events_data['day'] = events_data.date.dt.date\n",
    "events_data"
   ]
  },
  {
   "cell_type": "code",
   "execution_count": 3,
   "id": "270e95f4",
   "metadata": {
    "execution": {
     "iopub.execute_input": "2022-03-09T14:31:08.457760Z",
     "iopub.status.busy": "2022-03-09T14:31:08.456799Z",
     "iopub.status.idle": "2022-03-09T14:31:08.630852Z",
     "shell.execute_reply": "2022-03-09T14:31:08.631343Z",
     "shell.execute_reply.started": "2022-03-09T14:26:04.872725Z"
    },
    "papermill": {
     "duration": 0.244338,
     "end_time": "2022-03-09T14:31:08.631533",
     "exception": false,
     "start_time": "2022-03-09T14:31:08.387195",
     "status": "completed"
    },
    "tags": []
   },
   "outputs": [
    {
     "data": {
      "text/html": [
       "<div>\n",
       "<style scoped>\n",
       "    .dataframe tbody tr th:only-of-type {\n",
       "        vertical-align: middle;\n",
       "    }\n",
       "\n",
       "    .dataframe tbody tr th {\n",
       "        vertical-align: top;\n",
       "    }\n",
       "\n",
       "    .dataframe thead th {\n",
       "        text-align: right;\n",
       "    }\n",
       "</style>\n",
       "<table border=\"1\" class=\"dataframe\">\n",
       "  <thead>\n",
       "    <tr style=\"text-align: right;\">\n",
       "      <th></th>\n",
       "      <th>step_id</th>\n",
       "      <th>timestamp</th>\n",
       "      <th>submission_status</th>\n",
       "      <th>user_id</th>\n",
       "      <th>date</th>\n",
       "      <th>day</th>\n",
       "    </tr>\n",
       "  </thead>\n",
       "  <tbody>\n",
       "    <tr>\n",
       "      <th>0</th>\n",
       "      <td>31971</td>\n",
       "      <td>1434349275</td>\n",
       "      <td>correct</td>\n",
       "      <td>15853</td>\n",
       "      <td>2015-06-15 06:21:15</td>\n",
       "      <td>2015-06-15</td>\n",
       "    </tr>\n",
       "    <tr>\n",
       "      <th>1</th>\n",
       "      <td>31972</td>\n",
       "      <td>1434348300</td>\n",
       "      <td>correct</td>\n",
       "      <td>15853</td>\n",
       "      <td>2015-06-15 06:05:00</td>\n",
       "      <td>2015-06-15</td>\n",
       "    </tr>\n",
       "    <tr>\n",
       "      <th>2</th>\n",
       "      <td>31972</td>\n",
       "      <td>1478852149</td>\n",
       "      <td>wrong</td>\n",
       "      <td>15853</td>\n",
       "      <td>2016-11-11 08:15:49</td>\n",
       "      <td>2016-11-11</td>\n",
       "    </tr>\n",
       "    <tr>\n",
       "      <th>3</th>\n",
       "      <td>31972</td>\n",
       "      <td>1478852164</td>\n",
       "      <td>correct</td>\n",
       "      <td>15853</td>\n",
       "      <td>2016-11-11 08:16:04</td>\n",
       "      <td>2016-11-11</td>\n",
       "    </tr>\n",
       "    <tr>\n",
       "      <th>4</th>\n",
       "      <td>31976</td>\n",
       "      <td>1434348123</td>\n",
       "      <td>wrong</td>\n",
       "      <td>15853</td>\n",
       "      <td>2015-06-15 06:02:03</td>\n",
       "      <td>2015-06-15</td>\n",
       "    </tr>\n",
       "    <tr>\n",
       "      <th>...</th>\n",
       "      <td>...</td>\n",
       "      <td>...</td>\n",
       "      <td>...</td>\n",
       "      <td>...</td>\n",
       "      <td>...</td>\n",
       "      <td>...</td>\n",
       "    </tr>\n",
       "    <tr>\n",
       "      <th>509099</th>\n",
       "      <td>120745</td>\n",
       "      <td>1501946959</td>\n",
       "      <td>wrong</td>\n",
       "      <td>2615</td>\n",
       "      <td>2017-08-05 15:29:19</td>\n",
       "      <td>2017-08-05</td>\n",
       "    </tr>\n",
       "    <tr>\n",
       "      <th>509100</th>\n",
       "      <td>120745</td>\n",
       "      <td>1503059927</td>\n",
       "      <td>correct</td>\n",
       "      <td>13177</td>\n",
       "      <td>2017-08-18 12:38:47</td>\n",
       "      <td>2017-08-18</td>\n",
       "    </tr>\n",
       "    <tr>\n",
       "      <th>509101</th>\n",
       "      <td>120745</td>\n",
       "      <td>1506348153</td>\n",
       "      <td>wrong</td>\n",
       "      <td>15253</td>\n",
       "      <td>2017-09-25 14:02:33</td>\n",
       "      <td>2017-09-25</td>\n",
       "    </tr>\n",
       "    <tr>\n",
       "      <th>509102</th>\n",
       "      <td>120745</td>\n",
       "      <td>1523035316</td>\n",
       "      <td>wrong</td>\n",
       "      <td>1424</td>\n",
       "      <td>2018-04-06 17:21:56</td>\n",
       "      <td>2018-04-06</td>\n",
       "    </tr>\n",
       "    <tr>\n",
       "      <th>509103</th>\n",
       "      <td>120745</td>\n",
       "      <td>1523382825</td>\n",
       "      <td>wrong</td>\n",
       "      <td>9422</td>\n",
       "      <td>2018-04-10 17:53:45</td>\n",
       "      <td>2018-04-10</td>\n",
       "    </tr>\n",
       "  </tbody>\n",
       "</table>\n",
       "<p>509104 rows × 6 columns</p>\n",
       "</div>"
      ],
      "text/plain": [
       "        step_id   timestamp submission_status  user_id                date  \\\n",
       "0         31971  1434349275           correct    15853 2015-06-15 06:21:15   \n",
       "1         31972  1434348300           correct    15853 2015-06-15 06:05:00   \n",
       "2         31972  1478852149             wrong    15853 2016-11-11 08:15:49   \n",
       "3         31972  1478852164           correct    15853 2016-11-11 08:16:04   \n",
       "4         31976  1434348123             wrong    15853 2015-06-15 06:02:03   \n",
       "...         ...         ...               ...      ...                 ...   \n",
       "509099   120745  1501946959             wrong     2615 2017-08-05 15:29:19   \n",
       "509100   120745  1503059927           correct    13177 2017-08-18 12:38:47   \n",
       "509101   120745  1506348153             wrong    15253 2017-09-25 14:02:33   \n",
       "509102   120745  1523035316             wrong     1424 2018-04-06 17:21:56   \n",
       "509103   120745  1523382825             wrong     9422 2018-04-10 17:53:45   \n",
       "\n",
       "               day  \n",
       "0       2015-06-15  \n",
       "1       2015-06-15  \n",
       "2       2016-11-11  \n",
       "3       2016-11-11  \n",
       "4       2015-06-15  \n",
       "...            ...  \n",
       "509099  2017-08-05  \n",
       "509100  2017-08-18  \n",
       "509101  2017-09-25  \n",
       "509102  2018-04-06  \n",
       "509103  2018-04-10  \n",
       "\n",
       "[509104 rows x 6 columns]"
      ]
     },
     "execution_count": 3,
     "metadata": {},
     "output_type": "execute_result"
    }
   ],
   "source": [
    "submissions_data['date'] = pd.to_datetime(submissions_data.timestamp, unit='s')\n",
    "submissions_data['day'] = submissions_data.date.dt.date\n",
    "submissions_data"
   ]
  },
  {
   "cell_type": "markdown",
   "id": "56d5ca20",
   "metadata": {
    "papermill": {
     "duration": 0.068561,
     "end_time": "2022-03-09T14:31:08.767475",
     "exception": false,
     "start_time": "2022-03-09T14:31:08.698914",
     "status": "completed"
    },
    "tags": []
   },
   "source": [
    "# Preparation of user data"
   ]
  },
  {
   "cell_type": "code",
   "execution_count": 4,
   "id": "34e0bb50",
   "metadata": {
    "execution": {
     "iopub.execute_input": "2022-03-09T14:31:08.912009Z",
     "iopub.status.busy": "2022-03-09T14:31:08.910870Z",
     "iopub.status.idle": "2022-03-09T14:31:09.020071Z",
     "shell.execute_reply": "2022-03-09T14:31:09.019587Z",
     "shell.execute_reply.started": "2022-03-09T14:26:05.157532Z"
    },
    "papermill": {
     "duration": 0.186217,
     "end_time": "2022-03-09T14:31:09.020198",
     "exception": false,
     "start_time": "2022-03-09T14:31:08.833981",
     "status": "completed"
    },
    "tags": []
   },
   "outputs": [
    {
     "data": {
      "text/html": [
       "<div>\n",
       "<style scoped>\n",
       "    .dataframe tbody tr th:only-of-type {\n",
       "        vertical-align: middle;\n",
       "    }\n",
       "\n",
       "    .dataframe tbody tr th {\n",
       "        vertical-align: top;\n",
       "    }\n",
       "\n",
       "    .dataframe thead th {\n",
       "        text-align: right;\n",
       "    }\n",
       "</style>\n",
       "<table border=\"1\" class=\"dataframe\">\n",
       "  <thead>\n",
       "    <tr style=\"text-align: right;\">\n",
       "      <th>submission_status</th>\n",
       "      <th>user_id</th>\n",
       "      <th>correct</th>\n",
       "      <th>wrong</th>\n",
       "    </tr>\n",
       "  </thead>\n",
       "  <tbody>\n",
       "    <tr>\n",
       "      <th>0</th>\n",
       "      <td>2</td>\n",
       "      <td>2</td>\n",
       "      <td>0</td>\n",
       "    </tr>\n",
       "    <tr>\n",
       "      <th>1</th>\n",
       "      <td>3</td>\n",
       "      <td>29</td>\n",
       "      <td>23</td>\n",
       "    </tr>\n",
       "    <tr>\n",
       "      <th>2</th>\n",
       "      <td>5</td>\n",
       "      <td>2</td>\n",
       "      <td>2</td>\n",
       "    </tr>\n",
       "    <tr>\n",
       "      <th>3</th>\n",
       "      <td>8</td>\n",
       "      <td>9</td>\n",
       "      <td>21</td>\n",
       "    </tr>\n",
       "    <tr>\n",
       "      <th>4</th>\n",
       "      <td>14</td>\n",
       "      <td>0</td>\n",
       "      <td>1</td>\n",
       "    </tr>\n",
       "    <tr>\n",
       "      <th>...</th>\n",
       "      <td>...</td>\n",
       "      <td>...</td>\n",
       "      <td>...</td>\n",
       "    </tr>\n",
       "    <tr>\n",
       "      <th>9935</th>\n",
       "      <td>26787</td>\n",
       "      <td>3</td>\n",
       "      <td>0</td>\n",
       "    </tr>\n",
       "    <tr>\n",
       "      <th>9936</th>\n",
       "      <td>26790</td>\n",
       "      <td>1</td>\n",
       "      <td>0</td>\n",
       "    </tr>\n",
       "    <tr>\n",
       "      <th>9937</th>\n",
       "      <td>26794</td>\n",
       "      <td>33</td>\n",
       "      <td>9</td>\n",
       "    </tr>\n",
       "    <tr>\n",
       "      <th>9938</th>\n",
       "      <td>26797</td>\n",
       "      <td>2</td>\n",
       "      <td>0</td>\n",
       "    </tr>\n",
       "    <tr>\n",
       "      <th>9939</th>\n",
       "      <td>26798</td>\n",
       "      <td>2</td>\n",
       "      <td>1</td>\n",
       "    </tr>\n",
       "  </tbody>\n",
       "</table>\n",
       "<p>9940 rows × 3 columns</p>\n",
       "</div>"
      ],
      "text/plain": [
       "submission_status  user_id  correct  wrong\n",
       "0                        2        2      0\n",
       "1                        3       29     23\n",
       "2                        5        2      2\n",
       "3                        8        9     21\n",
       "4                       14        0      1\n",
       "...                    ...      ...    ...\n",
       "9935                 26787        3      0\n",
       "9936                 26790        1      0\n",
       "9937                 26794       33      9\n",
       "9938                 26797        2      0\n",
       "9939                 26798        2      1\n",
       "\n",
       "[9940 rows x 3 columns]"
      ]
     },
     "execution_count": 4,
     "metadata": {},
     "output_type": "execute_result"
    }
   ],
   "source": [
    "# count correct submission for every user \n",
    "users_scores = submissions_data.pivot_table(index='user_id',\n",
    "                        columns='submission_status',\n",
    "                        values='step_id',\n",
    "                        aggfunc='count',\n",
    "                        fill_value=0).reset_index()\n",
    "\n",
    "users_scores"
   ]
  },
  {
   "cell_type": "code",
   "execution_count": 5,
   "id": "f3bf5777",
   "metadata": {
    "execution": {
     "iopub.execute_input": "2022-03-09T14:31:09.159793Z",
     "iopub.status.busy": "2022-03-09T14:31:09.159187Z",
     "iopub.status.idle": "2022-03-09T14:31:09.260736Z",
     "shell.execute_reply": "2022-03-09T14:31:09.260144Z",
     "shell.execute_reply.started": "2022-03-09T14:26:05.308196Z"
    },
    "papermill": {
     "duration": 0.17266,
     "end_time": "2022-03-09T14:31:09.260869",
     "exception": false,
     "start_time": "2022-03-09T14:31:09.088209",
     "status": "completed"
    },
    "tags": []
   },
   "outputs": [
    {
     "data": {
      "text/html": [
       "<div>\n",
       "<style scoped>\n",
       "    .dataframe tbody tr th:only-of-type {\n",
       "        vertical-align: middle;\n",
       "    }\n",
       "\n",
       "    .dataframe tbody tr th {\n",
       "        vertical-align: top;\n",
       "    }\n",
       "\n",
       "    .dataframe thead th {\n",
       "        text-align: right;\n",
       "    }\n",
       "</style>\n",
       "<table border=\"1\" class=\"dataframe\">\n",
       "  <thead>\n",
       "    <tr style=\"text-align: right;\">\n",
       "      <th></th>\n",
       "      <th>user_id</th>\n",
       "      <th>last_timestamp</th>\n",
       "    </tr>\n",
       "  </thead>\n",
       "  <tbody>\n",
       "    <tr>\n",
       "      <th>0</th>\n",
       "      <td>1</td>\n",
       "      <td>1472827464</td>\n",
       "    </tr>\n",
       "    <tr>\n",
       "      <th>1</th>\n",
       "      <td>2</td>\n",
       "      <td>1519226966</td>\n",
       "    </tr>\n",
       "    <tr>\n",
       "      <th>2</th>\n",
       "      <td>3</td>\n",
       "      <td>1444581588</td>\n",
       "    </tr>\n",
       "    <tr>\n",
       "      <th>3</th>\n",
       "      <td>5</td>\n",
       "      <td>1499859939</td>\n",
       "    </tr>\n",
       "    <tr>\n",
       "      <th>4</th>\n",
       "      <td>7</td>\n",
       "      <td>1521634660</td>\n",
       "    </tr>\n",
       "    <tr>\n",
       "      <th>...</th>\n",
       "      <td>...</td>\n",
       "      <td>...</td>\n",
       "    </tr>\n",
       "    <tr>\n",
       "      <th>19229</th>\n",
       "      <td>26790</td>\n",
       "      <td>1517495987</td>\n",
       "    </tr>\n",
       "    <tr>\n",
       "      <th>19230</th>\n",
       "      <td>26793</td>\n",
       "      <td>1510225034</td>\n",
       "    </tr>\n",
       "    <tr>\n",
       "      <th>19231</th>\n",
       "      <td>26794</td>\n",
       "      <td>1512035039</td>\n",
       "    </tr>\n",
       "    <tr>\n",
       "      <th>19232</th>\n",
       "      <td>26797</td>\n",
       "      <td>1509995096</td>\n",
       "    </tr>\n",
       "    <tr>\n",
       "      <th>19233</th>\n",
       "      <td>26798</td>\n",
       "      <td>1520978742</td>\n",
       "    </tr>\n",
       "  </tbody>\n",
       "</table>\n",
       "<p>19234 rows × 2 columns</p>\n",
       "</div>"
      ],
      "text/plain": [
       "       user_id  last_timestamp\n",
       "0            1      1472827464\n",
       "1            2      1519226966\n",
       "2            3      1444581588\n",
       "3            5      1499859939\n",
       "4            7      1521634660\n",
       "...        ...             ...\n",
       "19229    26790      1517495987\n",
       "19230    26793      1510225034\n",
       "19231    26794      1512035039\n",
       "19232    26797      1509995096\n",
       "19233    26798      1520978742\n",
       "\n",
       "[19234 rows x 2 columns]"
      ]
     },
     "execution_count": 5,
     "metadata": {},
     "output_type": "execute_result"
    }
   ],
   "source": [
    "# calculate last event for every user\n",
    "users_data = events_data.groupby('user_id', as_index=False)\\\n",
    "                        .agg({'timestamp': 'max'})\\\n",
    "                        .rename(columns={'timestamp': 'last_timestamp'})\n",
    "users_data"
   ]
  },
  {
   "cell_type": "code",
   "execution_count": 6,
   "id": "3abbd4d6",
   "metadata": {
    "execution": {
     "iopub.execute_input": "2022-03-09T14:31:09.408273Z",
     "iopub.status.busy": "2022-03-09T14:31:09.407491Z",
     "iopub.status.idle": "2022-03-09T14:31:09.410589Z",
     "shell.execute_reply": "2022-03-09T14:31:09.411021Z",
     "shell.execute_reply.started": "2022-03-09T14:26:05.406596Z"
    },
    "papermill": {
     "duration": 0.082441,
     "end_time": "2022-03-09T14:31:09.411170",
     "exception": false,
     "start_time": "2022-03-09T14:31:09.328729",
     "status": "completed"
    },
    "tags": []
   },
   "outputs": [
    {
     "data": {
      "text/html": [
       "<div>\n",
       "<style scoped>\n",
       "    .dataframe tbody tr th:only-of-type {\n",
       "        vertical-align: middle;\n",
       "    }\n",
       "\n",
       "    .dataframe tbody tr th {\n",
       "        vertical-align: top;\n",
       "    }\n",
       "\n",
       "    .dataframe thead th {\n",
       "        text-align: right;\n",
       "    }\n",
       "</style>\n",
       "<table border=\"1\" class=\"dataframe\">\n",
       "  <thead>\n",
       "    <tr style=\"text-align: right;\">\n",
       "      <th></th>\n",
       "      <th>user_id</th>\n",
       "      <th>last_timestamp</th>\n",
       "      <th>is_gone_user</th>\n",
       "    </tr>\n",
       "  </thead>\n",
       "  <tbody>\n",
       "    <tr>\n",
       "      <th>0</th>\n",
       "      <td>1</td>\n",
       "      <td>1472827464</td>\n",
       "      <td>True</td>\n",
       "    </tr>\n",
       "    <tr>\n",
       "      <th>1</th>\n",
       "      <td>2</td>\n",
       "      <td>1519226966</td>\n",
       "      <td>True</td>\n",
       "    </tr>\n",
       "    <tr>\n",
       "      <th>2</th>\n",
       "      <td>3</td>\n",
       "      <td>1444581588</td>\n",
       "      <td>True</td>\n",
       "    </tr>\n",
       "    <tr>\n",
       "      <th>3</th>\n",
       "      <td>5</td>\n",
       "      <td>1499859939</td>\n",
       "      <td>True</td>\n",
       "    </tr>\n",
       "    <tr>\n",
       "      <th>4</th>\n",
       "      <td>7</td>\n",
       "      <td>1521634660</td>\n",
       "      <td>True</td>\n",
       "    </tr>\n",
       "    <tr>\n",
       "      <th>...</th>\n",
       "      <td>...</td>\n",
       "      <td>...</td>\n",
       "      <td>...</td>\n",
       "    </tr>\n",
       "    <tr>\n",
       "      <th>19229</th>\n",
       "      <td>26790</td>\n",
       "      <td>1517495987</td>\n",
       "      <td>True</td>\n",
       "    </tr>\n",
       "    <tr>\n",
       "      <th>19230</th>\n",
       "      <td>26793</td>\n",
       "      <td>1510225034</td>\n",
       "      <td>True</td>\n",
       "    </tr>\n",
       "    <tr>\n",
       "      <th>19231</th>\n",
       "      <td>26794</td>\n",
       "      <td>1512035039</td>\n",
       "      <td>True</td>\n",
       "    </tr>\n",
       "    <tr>\n",
       "      <th>19232</th>\n",
       "      <td>26797</td>\n",
       "      <td>1509995096</td>\n",
       "      <td>True</td>\n",
       "    </tr>\n",
       "    <tr>\n",
       "      <th>19233</th>\n",
       "      <td>26798</td>\n",
       "      <td>1520978742</td>\n",
       "      <td>True</td>\n",
       "    </tr>\n",
       "  </tbody>\n",
       "</table>\n",
       "<p>19234 rows × 3 columns</p>\n",
       "</div>"
      ],
      "text/plain": [
       "       user_id  last_timestamp  is_gone_user\n",
       "0            1      1472827464          True\n",
       "1            2      1519226966          True\n",
       "2            3      1444581588          True\n",
       "3            5      1499859939          True\n",
       "4            7      1521634660          True\n",
       "...        ...             ...           ...\n",
       "19229    26790      1517495987          True\n",
       "19230    26793      1510225034          True\n",
       "19231    26794      1512035039          True\n",
       "19232    26797      1509995096          True\n",
       "19233    26798      1520978742          True\n",
       "\n",
       "[19234 rows x 3 columns]"
      ]
     },
     "execution_count": 6,
     "metadata": {},
     "output_type": "execute_result"
    }
   ],
   "source": [
    "# is this user gone or not?\n",
    "NOW = 1526772811  # last timestamp for all data\n",
    "DROP_OUT_DAYS = 30\n",
    "drop_out_treshold = DROP_OUT_DAYS * 24 * 60 * 60 # пороговое значение\n",
    "users_data['is_gone_user'] = (NOW - users_data.last_timestamp) > drop_out_treshold\n",
    "users_data"
   ]
  },
  {
   "cell_type": "code",
   "execution_count": 7,
   "id": "26099cba",
   "metadata": {
    "execution": {
     "iopub.execute_input": "2022-03-09T14:31:09.564312Z",
     "iopub.status.busy": "2022-03-09T14:31:09.563724Z",
     "iopub.status.idle": "2022-03-09T14:31:09.566072Z",
     "shell.execute_reply": "2022-03-09T14:31:09.566510Z",
     "shell.execute_reply.started": "2022-03-09T14:26:05.422393Z"
    },
    "papermill": {
     "duration": 0.088042,
     "end_time": "2022-03-09T14:31:09.566663",
     "exception": false,
     "start_time": "2022-03-09T14:31:09.478621",
     "status": "completed"
    },
    "tags": []
   },
   "outputs": [
    {
     "data": {
      "text/html": [
       "<div>\n",
       "<style scoped>\n",
       "    .dataframe tbody tr th:only-of-type {\n",
       "        vertical-align: middle;\n",
       "    }\n",
       "\n",
       "    .dataframe tbody tr th {\n",
       "        vertical-align: top;\n",
       "    }\n",
       "\n",
       "    .dataframe thead th {\n",
       "        text-align: right;\n",
       "    }\n",
       "</style>\n",
       "<table border=\"1\" class=\"dataframe\">\n",
       "  <thead>\n",
       "    <tr style=\"text-align: right;\">\n",
       "      <th></th>\n",
       "      <th>user_id</th>\n",
       "      <th>last_timestamp</th>\n",
       "      <th>is_gone_user</th>\n",
       "      <th>correct</th>\n",
       "      <th>wrong</th>\n",
       "    </tr>\n",
       "  </thead>\n",
       "  <tbody>\n",
       "    <tr>\n",
       "      <th>0</th>\n",
       "      <td>1</td>\n",
       "      <td>1472827464</td>\n",
       "      <td>True</td>\n",
       "      <td>0.0</td>\n",
       "      <td>0.0</td>\n",
       "    </tr>\n",
       "    <tr>\n",
       "      <th>1</th>\n",
       "      <td>2</td>\n",
       "      <td>1519226966</td>\n",
       "      <td>True</td>\n",
       "      <td>2.0</td>\n",
       "      <td>0.0</td>\n",
       "    </tr>\n",
       "    <tr>\n",
       "      <th>2</th>\n",
       "      <td>3</td>\n",
       "      <td>1444581588</td>\n",
       "      <td>True</td>\n",
       "      <td>29.0</td>\n",
       "      <td>23.0</td>\n",
       "    </tr>\n",
       "    <tr>\n",
       "      <th>3</th>\n",
       "      <td>5</td>\n",
       "      <td>1499859939</td>\n",
       "      <td>True</td>\n",
       "      <td>2.0</td>\n",
       "      <td>2.0</td>\n",
       "    </tr>\n",
       "    <tr>\n",
       "      <th>4</th>\n",
       "      <td>7</td>\n",
       "      <td>1521634660</td>\n",
       "      <td>True</td>\n",
       "      <td>0.0</td>\n",
       "      <td>0.0</td>\n",
       "    </tr>\n",
       "  </tbody>\n",
       "</table>\n",
       "</div>"
      ],
      "text/plain": [
       "   user_id  last_timestamp  is_gone_user  correct  wrong\n",
       "0        1      1472827464          True      0.0    0.0\n",
       "1        2      1519226966          True      2.0    0.0\n",
       "2        3      1444581588          True     29.0   23.0\n",
       "3        5      1499859939          True      2.0    2.0\n",
       "4        7      1521634660          True      0.0    0.0"
      ]
     },
     "execution_count": 7,
     "metadata": {},
     "output_type": "execute_result"
    }
   ],
   "source": [
    "# adding submissions for every users\n",
    "users_data = users_data.merge(users_scores, on='user_id', how='outer')\n",
    "users_data = users_data.fillna(0)\n",
    "users_data.head()"
   ]
  },
  {
   "cell_type": "code",
   "execution_count": 8,
   "id": "a7d3a361",
   "metadata": {
    "execution": {
     "iopub.execute_input": "2022-03-09T14:31:09.706132Z",
     "iopub.status.busy": "2022-03-09T14:31:09.705602Z",
     "iopub.status.idle": "2022-03-09T14:31:10.479093Z",
     "shell.execute_reply": "2022-03-09T14:31:10.479621Z",
     "shell.execute_reply.started": "2022-03-09T14:26:05.450572Z"
    },
    "papermill": {
     "duration": 0.844874,
     "end_time": "2022-03-09T14:31:10.479780",
     "exception": false,
     "start_time": "2022-03-09T14:31:09.634906",
     "status": "completed"
    },
    "tags": []
   },
   "outputs": [
    {
     "data": {
      "text/html": [
       "<div>\n",
       "<style scoped>\n",
       "    .dataframe tbody tr th:only-of-type {\n",
       "        vertical-align: middle;\n",
       "    }\n",
       "\n",
       "    .dataframe tbody tr th {\n",
       "        vertical-align: top;\n",
       "    }\n",
       "\n",
       "    .dataframe thead th {\n",
       "        text-align: right;\n",
       "    }\n",
       "</style>\n",
       "<table border=\"1\" class=\"dataframe\">\n",
       "  <thead>\n",
       "    <tr style=\"text-align: right;\">\n",
       "      <th>action</th>\n",
       "      <th>user_id</th>\n",
       "      <th>discovered</th>\n",
       "      <th>passed</th>\n",
       "      <th>started_attempt</th>\n",
       "      <th>viewed</th>\n",
       "    </tr>\n",
       "  </thead>\n",
       "  <tbody>\n",
       "    <tr>\n",
       "      <th>0</th>\n",
       "      <td>1</td>\n",
       "      <td>1</td>\n",
       "      <td>0</td>\n",
       "      <td>0</td>\n",
       "      <td>1</td>\n",
       "    </tr>\n",
       "    <tr>\n",
       "      <th>1</th>\n",
       "      <td>2</td>\n",
       "      <td>9</td>\n",
       "      <td>9</td>\n",
       "      <td>2</td>\n",
       "      <td>10</td>\n",
       "    </tr>\n",
       "    <tr>\n",
       "      <th>2</th>\n",
       "      <td>3</td>\n",
       "      <td>91</td>\n",
       "      <td>87</td>\n",
       "      <td>30</td>\n",
       "      <td>192</td>\n",
       "    </tr>\n",
       "    <tr>\n",
       "      <th>3</th>\n",
       "      <td>5</td>\n",
       "      <td>11</td>\n",
       "      <td>11</td>\n",
       "      <td>4</td>\n",
       "      <td>12</td>\n",
       "    </tr>\n",
       "    <tr>\n",
       "      <th>4</th>\n",
       "      <td>7</td>\n",
       "      <td>1</td>\n",
       "      <td>1</td>\n",
       "      <td>0</td>\n",
       "      <td>1</td>\n",
       "    </tr>\n",
       "  </tbody>\n",
       "</table>\n",
       "</div>"
      ],
      "text/plain": [
       "action  user_id  discovered  passed  started_attempt  viewed\n",
       "0             1           1       0                0       1\n",
       "1             2           9       9                2      10\n",
       "2             3          91      87               30     192\n",
       "3             5          11      11                4      12\n",
       "4             7           1       1                0       1"
      ]
     },
     "execution_count": 8,
     "metadata": {},
     "output_type": "execute_result"
    }
   ],
   "source": [
    "# making pivot table for user events\n",
    "users_events_data = events_data.pivot_table(index='user_id',\n",
    "                        columns='action',\n",
    "                        values='step_id', \n",
    "                        aggfunc='count', \n",
    "                        fill_value=0).reset_index()\n",
    "users_events_data.head()"
   ]
  },
  {
   "cell_type": "code",
   "execution_count": 9,
   "id": "b444fe5c",
   "metadata": {
    "execution": {
     "iopub.execute_input": "2022-03-09T14:31:10.622542Z",
     "iopub.status.busy": "2022-03-09T14:31:10.621947Z",
     "iopub.status.idle": "2022-03-09T14:31:10.639670Z",
     "shell.execute_reply": "2022-03-09T14:31:10.639173Z",
     "shell.execute_reply.started": "2022-03-09T14:26:06.274579Z"
    },
    "papermill": {
     "duration": 0.090028,
     "end_time": "2022-03-09T14:31:10.639808",
     "exception": false,
     "start_time": "2022-03-09T14:31:10.549780",
     "status": "completed"
    },
    "tags": []
   },
   "outputs": [
    {
     "data": {
      "text/html": [
       "<div>\n",
       "<style scoped>\n",
       "    .dataframe tbody tr th:only-of-type {\n",
       "        vertical-align: middle;\n",
       "    }\n",
       "\n",
       "    .dataframe tbody tr th {\n",
       "        vertical-align: top;\n",
       "    }\n",
       "\n",
       "    .dataframe thead th {\n",
       "        text-align: right;\n",
       "    }\n",
       "</style>\n",
       "<table border=\"1\" class=\"dataframe\">\n",
       "  <thead>\n",
       "    <tr style=\"text-align: right;\">\n",
       "      <th></th>\n",
       "      <th>user_id</th>\n",
       "      <th>last_timestamp</th>\n",
       "      <th>is_gone_user</th>\n",
       "      <th>correct</th>\n",
       "      <th>wrong</th>\n",
       "      <th>discovered</th>\n",
       "      <th>passed</th>\n",
       "      <th>started_attempt</th>\n",
       "      <th>viewed</th>\n",
       "    </tr>\n",
       "  </thead>\n",
       "  <tbody>\n",
       "    <tr>\n",
       "      <th>0</th>\n",
       "      <td>1</td>\n",
       "      <td>1472827464</td>\n",
       "      <td>True</td>\n",
       "      <td>0.0</td>\n",
       "      <td>0.0</td>\n",
       "      <td>1</td>\n",
       "      <td>0</td>\n",
       "      <td>0</td>\n",
       "      <td>1</td>\n",
       "    </tr>\n",
       "    <tr>\n",
       "      <th>1</th>\n",
       "      <td>2</td>\n",
       "      <td>1519226966</td>\n",
       "      <td>True</td>\n",
       "      <td>2.0</td>\n",
       "      <td>0.0</td>\n",
       "      <td>9</td>\n",
       "      <td>9</td>\n",
       "      <td>2</td>\n",
       "      <td>10</td>\n",
       "    </tr>\n",
       "    <tr>\n",
       "      <th>2</th>\n",
       "      <td>3</td>\n",
       "      <td>1444581588</td>\n",
       "      <td>True</td>\n",
       "      <td>29.0</td>\n",
       "      <td>23.0</td>\n",
       "      <td>91</td>\n",
       "      <td>87</td>\n",
       "      <td>30</td>\n",
       "      <td>192</td>\n",
       "    </tr>\n",
       "    <tr>\n",
       "      <th>3</th>\n",
       "      <td>5</td>\n",
       "      <td>1499859939</td>\n",
       "      <td>True</td>\n",
       "      <td>2.0</td>\n",
       "      <td>2.0</td>\n",
       "      <td>11</td>\n",
       "      <td>11</td>\n",
       "      <td>4</td>\n",
       "      <td>12</td>\n",
       "    </tr>\n",
       "    <tr>\n",
       "      <th>4</th>\n",
       "      <td>7</td>\n",
       "      <td>1521634660</td>\n",
       "      <td>True</td>\n",
       "      <td>0.0</td>\n",
       "      <td>0.0</td>\n",
       "      <td>1</td>\n",
       "      <td>1</td>\n",
       "      <td>0</td>\n",
       "      <td>1</td>\n",
       "    </tr>\n",
       "  </tbody>\n",
       "</table>\n",
       "</div>"
      ],
      "text/plain": [
       "   user_id  last_timestamp  is_gone_user  correct  wrong  discovered  passed  \\\n",
       "0        1      1472827464          True      0.0    0.0           1       0   \n",
       "1        2      1519226966          True      2.0    0.0           9       9   \n",
       "2        3      1444581588          True     29.0   23.0          91      87   \n",
       "3        5      1499859939          True      2.0    2.0          11      11   \n",
       "4        7      1521634660          True      0.0    0.0           1       1   \n",
       "\n",
       "   started_attempt  viewed  \n",
       "0                0       1  \n",
       "1                2      10  \n",
       "2               30     192  \n",
       "3                4      12  \n",
       "4                0       1  "
      ]
     },
     "execution_count": 9,
     "metadata": {},
     "output_type": "execute_result"
    }
   ],
   "source": [
    "users_data = users_data.merge(users_events_data, how='outer')\n",
    "users_data.head()"
   ]
  },
  {
   "cell_type": "code",
   "execution_count": 10,
   "id": "c89d46a9",
   "metadata": {
    "execution": {
     "iopub.execute_input": "2022-03-09T14:31:10.782271Z",
     "iopub.status.busy": "2022-03-09T14:31:10.781697Z",
     "iopub.status.idle": "2022-03-09T14:31:11.494250Z",
     "shell.execute_reply": "2022-03-09T14:31:11.493679Z",
     "shell.execute_reply.started": "2022-03-09T14:26:06.295965Z"
    },
    "papermill": {
     "duration": 0.784118,
     "end_time": "2022-03-09T14:31:11.494398",
     "exception": false,
     "start_time": "2022-03-09T14:31:10.710280",
     "status": "completed"
    },
    "tags": []
   },
   "outputs": [
    {
     "data": {
      "text/html": [
       "<div>\n",
       "<style scoped>\n",
       "    .dataframe tbody tr th:only-of-type {\n",
       "        vertical-align: middle;\n",
       "    }\n",
       "\n",
       "    .dataframe tbody tr th {\n",
       "        vertical-align: top;\n",
       "    }\n",
       "\n",
       "    .dataframe thead th {\n",
       "        text-align: right;\n",
       "    }\n",
       "</style>\n",
       "<table border=\"1\" class=\"dataframe\">\n",
       "  <thead>\n",
       "    <tr style=\"text-align: right;\">\n",
       "      <th></th>\n",
       "      <th>user_id</th>\n",
       "      <th>last_timestamp</th>\n",
       "      <th>is_gone_user</th>\n",
       "      <th>correct</th>\n",
       "      <th>wrong</th>\n",
       "      <th>discovered</th>\n",
       "      <th>passed</th>\n",
       "      <th>started_attempt</th>\n",
       "      <th>viewed</th>\n",
       "      <th>day</th>\n",
       "      <th>passed_course</th>\n",
       "    </tr>\n",
       "  </thead>\n",
       "  <tbody>\n",
       "    <tr>\n",
       "      <th>0</th>\n",
       "      <td>1</td>\n",
       "      <td>1472827464</td>\n",
       "      <td>True</td>\n",
       "      <td>0.0</td>\n",
       "      <td>0.0</td>\n",
       "      <td>1</td>\n",
       "      <td>0</td>\n",
       "      <td>0</td>\n",
       "      <td>1</td>\n",
       "      <td>1</td>\n",
       "      <td>False</td>\n",
       "    </tr>\n",
       "    <tr>\n",
       "      <th>1</th>\n",
       "      <td>2</td>\n",
       "      <td>1519226966</td>\n",
       "      <td>True</td>\n",
       "      <td>2.0</td>\n",
       "      <td>0.0</td>\n",
       "      <td>9</td>\n",
       "      <td>9</td>\n",
       "      <td>2</td>\n",
       "      <td>10</td>\n",
       "      <td>2</td>\n",
       "      <td>False</td>\n",
       "    </tr>\n",
       "    <tr>\n",
       "      <th>2</th>\n",
       "      <td>3</td>\n",
       "      <td>1444581588</td>\n",
       "      <td>True</td>\n",
       "      <td>29.0</td>\n",
       "      <td>23.0</td>\n",
       "      <td>91</td>\n",
       "      <td>87</td>\n",
       "      <td>30</td>\n",
       "      <td>192</td>\n",
       "      <td>7</td>\n",
       "      <td>False</td>\n",
       "    </tr>\n",
       "    <tr>\n",
       "      <th>3</th>\n",
       "      <td>5</td>\n",
       "      <td>1499859939</td>\n",
       "      <td>True</td>\n",
       "      <td>2.0</td>\n",
       "      <td>2.0</td>\n",
       "      <td>11</td>\n",
       "      <td>11</td>\n",
       "      <td>4</td>\n",
       "      <td>12</td>\n",
       "      <td>2</td>\n",
       "      <td>False</td>\n",
       "    </tr>\n",
       "    <tr>\n",
       "      <th>4</th>\n",
       "      <td>7</td>\n",
       "      <td>1521634660</td>\n",
       "      <td>True</td>\n",
       "      <td>0.0</td>\n",
       "      <td>0.0</td>\n",
       "      <td>1</td>\n",
       "      <td>1</td>\n",
       "      <td>0</td>\n",
       "      <td>1</td>\n",
       "      <td>1</td>\n",
       "      <td>False</td>\n",
       "    </tr>\n",
       "  </tbody>\n",
       "</table>\n",
       "</div>"
      ],
      "text/plain": [
       "   user_id  last_timestamp  is_gone_user  correct  wrong  discovered  passed  \\\n",
       "0        1      1472827464          True      0.0    0.0           1       0   \n",
       "1        2      1519226966          True      2.0    0.0           9       9   \n",
       "2        3      1444581588          True     29.0   23.0          91      87   \n",
       "3        5      1499859939          True      2.0    2.0          11      11   \n",
       "4        7      1521634660          True      0.0    0.0           1       1   \n",
       "\n",
       "   started_attempt  viewed  day  passed_course  \n",
       "0                0       1    1          False  \n",
       "1                2      10    2          False  \n",
       "2               30     192    7          False  \n",
       "3                4      12    2          False  \n",
       "4                0       1    1          False  "
      ]
     },
     "execution_count": 10,
     "metadata": {},
     "output_type": "execute_result"
    }
   ],
   "source": [
    "# whether user has passed more than 175 steps? \n",
    "users_days = events_data.groupby('user_id').day.nunique().to_frame().reset_index()\n",
    "users_data = users_data.merge(users_days, how='outer')\n",
    "\n",
    "users_data['passed_course'] = users_data.passed > 175\n",
    "users_data.head()"
   ]
  },
  {
   "cell_type": "code",
   "execution_count": 11,
   "id": "046ce770",
   "metadata": {
    "execution": {
     "iopub.execute_input": "2022-03-09T14:31:11.640286Z",
     "iopub.status.busy": "2022-03-09T14:31:11.639720Z",
     "iopub.status.idle": "2022-03-09T14:31:11.644680Z",
     "shell.execute_reply": "2022-03-09T14:31:11.645184Z",
     "shell.execute_reply.started": "2022-03-09T14:26:06.929119Z"
    },
    "papermill": {
     "duration": 0.078072,
     "end_time": "2022-03-09T14:31:11.645335",
     "exception": false,
     "start_time": "2022-03-09T14:31:11.567263",
     "status": "completed"
    },
    "tags": []
   },
   "outputs": [
    {
     "data": {
      "text/plain": [
       "19234"
      ]
     },
     "execution_count": 11,
     "metadata": {},
     "output_type": "execute_result"
    }
   ],
   "source": [
    "# data check\n",
    "users_data.user_id.nunique()"
   ]
  },
  {
   "cell_type": "code",
   "execution_count": 12,
   "id": "7aaa3f8c",
   "metadata": {
    "execution": {
     "iopub.execute_input": "2022-03-09T14:31:11.789186Z",
     "iopub.status.busy": "2022-03-09T14:31:11.788638Z",
     "iopub.status.idle": "2022-03-09T14:31:11.815796Z",
     "shell.execute_reply": "2022-03-09T14:31:11.816265Z",
     "shell.execute_reply.started": "2022-03-09T14:26:06.933851Z"
    },
    "papermill": {
     "duration": 0.10026,
     "end_time": "2022-03-09T14:31:11.816449",
     "exception": false,
     "start_time": "2022-03-09T14:31:11.716189",
     "status": "completed"
    },
    "tags": []
   },
   "outputs": [
    {
     "data": {
      "text/plain": [
       "19234"
      ]
     },
     "execution_count": 12,
     "metadata": {},
     "output_type": "execute_result"
    }
   ],
   "source": [
    "events_data.user_id.nunique()"
   ]
  },
  {
   "cell_type": "code",
   "execution_count": 13,
   "id": "1a305c2f",
   "metadata": {
    "execution": {
     "iopub.execute_input": "2022-03-09T14:31:11.962786Z",
     "iopub.status.busy": "2022-03-09T14:31:11.962193Z",
     "iopub.status.idle": "2022-03-09T14:31:11.968286Z",
     "shell.execute_reply": "2022-03-09T14:31:11.968843Z",
     "shell.execute_reply.started": "2022-03-09T14:26:06.966081Z"
    },
    "papermill": {
     "duration": 0.080382,
     "end_time": "2022-03-09T14:31:11.968993",
     "exception": false,
     "start_time": "2022-03-09T14:31:11.888611",
     "status": "completed"
    },
    "tags": []
   },
   "outputs": [
    {
     "data": {
      "text/plain": [
       "21.0"
      ]
     },
     "execution_count": 13,
     "metadata": {},
     "output_type": "execute_result"
    }
   ],
   "source": [
    "users_data[users_data.passed_course].day.median()"
   ]
  },
  {
   "cell_type": "markdown",
   "id": "1f05d361",
   "metadata": {
    "papermill": {
     "duration": 0.071739,
     "end_time": "2022-03-09T14:31:12.113034",
     "exception": false,
     "start_time": "2022-03-09T14:31:12.041295",
     "status": "completed"
    },
    "tags": []
   },
   "source": [
    "# Problem 1: Searching for problematic steps \n"
   ]
  },
  {
   "cell_type": "code",
   "execution_count": 14,
   "id": "bcc0c59d",
   "metadata": {
    "execution": {
     "iopub.execute_input": "2022-03-09T14:31:12.256622Z",
     "iopub.status.busy": "2022-03-09T14:31:12.256006Z",
     "iopub.status.idle": "2022-03-09T14:31:12.421648Z",
     "shell.execute_reply": "2022-03-09T14:31:12.421047Z",
     "shell.execute_reply.started": "2022-03-09T14:26:06.976218Z"
    },
    "papermill": {
     "duration": 0.238318,
     "end_time": "2022-03-09T14:31:12.421795",
     "exception": false,
     "start_time": "2022-03-09T14:31:12.183477",
     "status": "completed"
    },
    "tags": []
   },
   "outputs": [],
   "source": [
    "# searching for problematic steps causing drop-out\n",
    "# problematic step: \"last_submission\" == 'wrong' & \"user is gone\" == True & \"passed_course\" == 'False'\n",
    "\n",
    "last_data = submissions_data.merge(submissions_data\\\n",
    "                            .groupby('user_id')\\\n",
    "                            .agg({'timestamp':'max'})\\\n",
    "                            .rename(columns={'timestamp': 'last_timestamp'}),\n",
    "                             how='outer', on='user_id')\n",
    "\n",
    "last_data = last_data[(last_data.submission_status == 'wrong') \\\n",
    "                    & (last_data.timestamp == last_data.last_timestamp)]\\\n",
    "                    .groupby('step_id')\\\n",
    "                    .count()\\\n",
    "                    .sort_values(by='timestamp', ascending=False)"
   ]
  },
  {
   "cell_type": "code",
   "execution_count": 15,
   "id": "1d649722",
   "metadata": {
    "execution": {
     "iopub.execute_input": "2022-03-09T14:31:12.570552Z",
     "iopub.status.busy": "2022-03-09T14:31:12.569925Z",
     "iopub.status.idle": "2022-03-09T14:31:12.579245Z",
     "shell.execute_reply": "2022-03-09T14:31:12.579773Z",
     "shell.execute_reply.started": "2022-03-09T14:26:07.188740Z"
    },
    "papermill": {
     "duration": 0.085622,
     "end_time": "2022-03-09T14:31:12.579930",
     "exception": false,
     "start_time": "2022-03-09T14:31:12.494308",
     "status": "completed"
    },
    "tags": []
   },
   "outputs": [
    {
     "data": {
      "text/html": [
       "<div>\n",
       "<style scoped>\n",
       "    .dataframe tbody tr th:only-of-type {\n",
       "        vertical-align: middle;\n",
       "    }\n",
       "\n",
       "    .dataframe tbody tr th {\n",
       "        vertical-align: top;\n",
       "    }\n",
       "\n",
       "    .dataframe thead th {\n",
       "        text-align: right;\n",
       "    }\n",
       "</style>\n",
       "<table border=\"1\" class=\"dataframe\">\n",
       "  <thead>\n",
       "    <tr style=\"text-align: right;\">\n",
       "      <th></th>\n",
       "      <th>timestamp</th>\n",
       "      <th>submission_status</th>\n",
       "      <th>user_id</th>\n",
       "      <th>date</th>\n",
       "      <th>day</th>\n",
       "      <th>last_timestamp</th>\n",
       "    </tr>\n",
       "    <tr>\n",
       "      <th>step_id</th>\n",
       "      <th></th>\n",
       "      <th></th>\n",
       "      <th></th>\n",
       "      <th></th>\n",
       "      <th></th>\n",
       "      <th></th>\n",
       "    </tr>\n",
       "  </thead>\n",
       "  <tbody>\n",
       "    <tr>\n",
       "      <th>31978</th>\n",
       "      <td>154</td>\n",
       "      <td>154</td>\n",
       "      <td>154</td>\n",
       "      <td>154</td>\n",
       "      <td>154</td>\n",
       "      <td>154</td>\n",
       "    </tr>\n",
       "    <tr>\n",
       "      <th>32812</th>\n",
       "      <td>133</td>\n",
       "      <td>133</td>\n",
       "      <td>133</td>\n",
       "      <td>133</td>\n",
       "      <td>133</td>\n",
       "      <td>133</td>\n",
       "    </tr>\n",
       "    <tr>\n",
       "      <th>32031</th>\n",
       "      <td>97</td>\n",
       "      <td>97</td>\n",
       "      <td>97</td>\n",
       "      <td>97</td>\n",
       "      <td>97</td>\n",
       "      <td>97</td>\n",
       "    </tr>\n",
       "    <tr>\n",
       "      <th>32202</th>\n",
       "      <td>92</td>\n",
       "      <td>92</td>\n",
       "      <td>92</td>\n",
       "      <td>92</td>\n",
       "      <td>92</td>\n",
       "      <td>92</td>\n",
       "    </tr>\n",
       "    <tr>\n",
       "      <th>33481</th>\n",
       "      <td>78</td>\n",
       "      <td>78</td>\n",
       "      <td>78</td>\n",
       "      <td>78</td>\n",
       "      <td>78</td>\n",
       "      <td>78</td>\n",
       "    </tr>\n",
       "    <tr>\n",
       "      <th>...</th>\n",
       "      <td>...</td>\n",
       "      <td>...</td>\n",
       "      <td>...</td>\n",
       "      <td>...</td>\n",
       "      <td>...</td>\n",
       "      <td>...</td>\n",
       "    </tr>\n",
       "    <tr>\n",
       "      <th>33482</th>\n",
       "      <td>1</td>\n",
       "      <td>1</td>\n",
       "      <td>1</td>\n",
       "      <td>1</td>\n",
       "      <td>1</td>\n",
       "      <td>1</td>\n",
       "    </tr>\n",
       "    <tr>\n",
       "      <th>33686</th>\n",
       "      <td>1</td>\n",
       "      <td>1</td>\n",
       "      <td>1</td>\n",
       "      <td>1</td>\n",
       "      <td>1</td>\n",
       "      <td>1</td>\n",
       "    </tr>\n",
       "    <tr>\n",
       "      <th>33684</th>\n",
       "      <td>1</td>\n",
       "      <td>1</td>\n",
       "      <td>1</td>\n",
       "      <td>1</td>\n",
       "      <td>1</td>\n",
       "      <td>1</td>\n",
       "    </tr>\n",
       "    <tr>\n",
       "      <th>33676</th>\n",
       "      <td>1</td>\n",
       "      <td>1</td>\n",
       "      <td>1</td>\n",
       "      <td>1</td>\n",
       "      <td>1</td>\n",
       "      <td>1</td>\n",
       "    </tr>\n",
       "    <tr>\n",
       "      <th>31988</th>\n",
       "      <td>1</td>\n",
       "      <td>1</td>\n",
       "      <td>1</td>\n",
       "      <td>1</td>\n",
       "      <td>1</td>\n",
       "      <td>1</td>\n",
       "    </tr>\n",
       "  </tbody>\n",
       "</table>\n",
       "<p>72 rows × 6 columns</p>\n",
       "</div>"
      ],
      "text/plain": [
       "         timestamp  submission_status  user_id  date  day  last_timestamp\n",
       "step_id                                                                  \n",
       "31978          154                154      154   154  154             154\n",
       "32812          133                133      133   133  133             133\n",
       "32031           97                 97       97    97   97              97\n",
       "32202           92                 92       92    92   92              92\n",
       "33481           78                 78       78    78   78              78\n",
       "...            ...                ...      ...   ...  ...             ...\n",
       "33482            1                  1        1     1    1               1\n",
       "33686            1                  1        1     1    1               1\n",
       "33684            1                  1        1     1    1               1\n",
       "33676            1                  1        1     1    1               1\n",
       "31988            1                  1        1     1    1               1\n",
       "\n",
       "[72 rows x 6 columns]"
      ]
     },
     "execution_count": 15,
     "metadata": {},
     "output_type": "execute_result"
    }
   ],
   "source": [
    "#problematic steps (sorted on numbers of dropped users)\n",
    "last_data"
   ]
  },
  {
   "cell_type": "code",
   "execution_count": 16,
   "id": "6fc5c376",
   "metadata": {
    "execution": {
     "iopub.execute_input": "2022-03-09T14:31:12.725363Z",
     "iopub.status.busy": "2022-03-09T14:31:12.724779Z",
     "iopub.status.idle": "2022-03-09T14:31:12.910929Z",
     "shell.execute_reply": "2022-03-09T14:31:12.910445Z",
     "shell.execute_reply.started": "2022-03-09T14:26:07.204193Z"
    },
    "papermill": {
     "duration": 0.259112,
     "end_time": "2022-03-09T14:31:12.911063",
     "exception": false,
     "start_time": "2022-03-09T14:31:12.651951",
     "status": "completed"
    },
    "tags": []
   },
   "outputs": [
    {
     "data": {
      "text/plain": [
       "31978    154\n",
       "32812    133\n",
       "32031     97\n",
       "32202     92\n",
       "33481     78\n",
       "        ... \n",
       "33684      1\n",
       "33686      1\n",
       "31988      1\n",
       "32929      1\n",
       "33482      1\n",
       "Name: step_id, Length: 72, dtype: int64"
      ]
     },
     "execution_count": 16,
     "metadata": {},
     "output_type": "execute_result"
    }
   ],
   "source": [
    "# searching for problematic steps causing drop-out (variant 2)\n",
    "submissions_data.sort_values(by='timestamp')\\\n",
    "                .groupby('user_id').last()\\\n",
    "                .query(\"submission_status == 'wrong'\")\\\n",
    "                .step_id.value_counts()"
   ]
  },
  {
   "cell_type": "code",
   "execution_count": 17,
   "id": "d90be931",
   "metadata": {
    "execution": {
     "iopub.execute_input": "2022-03-09T14:31:13.062507Z",
     "iopub.status.busy": "2022-03-09T14:31:13.061914Z",
     "iopub.status.idle": "2022-03-09T14:31:13.970846Z",
     "shell.execute_reply": "2022-03-09T14:31:13.969912Z",
     "shell.execute_reply.started": "2022-03-09T14:26:07.436892Z"
    },
    "papermill": {
     "duration": 0.988084,
     "end_time": "2022-03-09T14:31:13.970983",
     "exception": false,
     "start_time": "2022-03-09T14:31:12.982899",
     "status": "completed"
    },
    "tags": []
   },
   "outputs": [],
   "source": [
    "# loading visualisation libraries\n",
    "%matplotlib inline\n",
    "import matplotlib.pyplot as plt\n",
    "import seaborn as sns"
   ]
  },
  {
   "cell_type": "code",
   "execution_count": 18,
   "id": "3eb7daab",
   "metadata": {
    "execution": {
     "iopub.execute_input": "2022-03-09T14:31:14.122240Z",
     "iopub.status.busy": "2022-03-09T14:31:14.121560Z",
     "iopub.status.idle": "2022-03-09T14:31:14.313904Z",
     "shell.execute_reply": "2022-03-09T14:31:14.313300Z",
     "shell.execute_reply.started": "2022-03-09T14:26:08.490194Z"
    },
    "papermill": {
     "duration": 0.268418,
     "end_time": "2022-03-09T14:31:14.314059",
     "exception": false,
     "start_time": "2022-03-09T14:31:14.045641",
     "status": "completed"
    },
    "tags": []
   },
   "outputs": [
    {
     "data": {
      "text/plain": [
       "<AxesSubplot:>"
      ]
     },
     "execution_count": 18,
     "metadata": {},
     "output_type": "execute_result"
    },
    {
     "data": {
      "image/png": "[encoded data removed]",
      "text/plain": [
       "<Figure size 432x288 with 1 Axes>"
      ]
     },
     "metadata": {
      "needs_background": "light"
     },
     "output_type": "display_data"
    }
   ],
   "source": [
    "# total lenght of course for successful users\n",
    "users_data[users_data.passed_course].day.hist()"
   ]
  },
  {
   "cell_type": "markdown",
   "id": "127c784f",
   "metadata": {
    "papermill": {
     "duration": 0.071919,
     "end_time": "2022-03-09T14:31:14.460108",
     "exception": false,
     "start_time": "2022-03-09T14:31:14.388189",
     "status": "completed"
    },
    "tags": []
   },
   "source": [
    "# Problem 2. Prediction of users behaviour (course drop-out) using the data from first 3 days"
   ]
  },
  {
   "cell_type": "markdown",
   "id": "ce99a222",
   "metadata": {
    "papermill": {
     "duration": 0.071663,
     "end_time": "2022-03-09T14:31:14.603977",
     "exception": false,
     "start_time": "2022-03-09T14:31:14.532314",
     "status": "completed"
    },
    "tags": []
   },
   "source": [
    "**Selecting of events and sumbissions for first 3 days**"
   ]
  },
  {
   "cell_type": "code",
   "execution_count": 19,
   "id": "04a20ea0",
   "metadata": {
    "execution": {
     "iopub.execute_input": "2022-03-09T14:31:14.754154Z",
     "iopub.status.busy": "2022-03-09T14:31:14.753551Z",
     "iopub.status.idle": "2022-03-09T14:31:14.841849Z",
     "shell.execute_reply": "2022-03-09T14:31:14.841329Z",
     "shell.execute_reply.started": "2022-03-09T14:26:08.741737Z"
    },
    "papermill": {
     "duration": 0.165487,
     "end_time": "2022-03-09T14:31:14.841979",
     "exception": false,
     "start_time": "2022-03-09T14:31:14.676492",
     "status": "completed"
    },
    "tags": []
   },
   "outputs": [
    {
     "data": {
      "text/html": [
       "<div>\n",
       "<style scoped>\n",
       "    .dataframe tbody tr th:only-of-type {\n",
       "        vertical-align: middle;\n",
       "    }\n",
       "\n",
       "    .dataframe tbody tr th {\n",
       "        vertical-align: top;\n",
       "    }\n",
       "\n",
       "    .dataframe thead th {\n",
       "        text-align: right;\n",
       "    }\n",
       "</style>\n",
       "<table border=\"1\" class=\"dataframe\">\n",
       "  <thead>\n",
       "    <tr style=\"text-align: right;\">\n",
       "      <th></th>\n",
       "      <th>user_id</th>\n",
       "      <th>min_timestamp</th>\n",
       "    </tr>\n",
       "  </thead>\n",
       "  <tbody>\n",
       "    <tr>\n",
       "      <th>0</th>\n",
       "      <td>1</td>\n",
       "      <td>1472827464</td>\n",
       "    </tr>\n",
       "    <tr>\n",
       "      <th>1</th>\n",
       "      <td>2</td>\n",
       "      <td>1514383364</td>\n",
       "    </tr>\n",
       "    <tr>\n",
       "      <th>2</th>\n",
       "      <td>3</td>\n",
       "      <td>1434358476</td>\n",
       "    </tr>\n",
       "    <tr>\n",
       "      <th>3</th>\n",
       "      <td>5</td>\n",
       "      <td>1466156809</td>\n",
       "    </tr>\n",
       "    <tr>\n",
       "      <th>4</th>\n",
       "      <td>7</td>\n",
       "      <td>1521634660</td>\n",
       "    </tr>\n",
       "  </tbody>\n",
       "</table>\n",
       "</div>"
      ],
      "text/plain": [
       "   user_id  min_timestamp\n",
       "0        1     1472827464\n",
       "1        2     1514383364\n",
       "2        3     1434358476\n",
       "3        5     1466156809\n",
       "4        7     1521634660"
      ]
     },
     "execution_count": 19,
     "metadata": {},
     "output_type": "execute_result"
    }
   ],
   "source": [
    "# calculation starting time for every user\n",
    "user_min_time = events_data.groupby('user_id', as_index=False) \\\n",
    "    .agg({'timestamp': 'min'}) \\\n",
    "    .rename({'timestamp': 'min_timestamp'}, axis=1)\n",
    "user_min_time.head()"
   ]
  },
  {
   "cell_type": "code",
   "execution_count": 20,
   "id": "45289e0d",
   "metadata": {
    "execution": {
     "iopub.execute_input": "2022-03-09T14:31:14.994687Z",
     "iopub.status.busy": "2022-03-09T14:31:14.993871Z",
     "iopub.status.idle": "2022-03-09T14:31:15.010145Z",
     "shell.execute_reply": "2022-03-09T14:31:15.010706Z",
     "shell.execute_reply.started": "2022-03-09T14:26:08.831102Z"
    },
    "papermill": {
     "duration": 0.095364,
     "end_time": "2022-03-09T14:31:15.010864",
     "exception": false,
     "start_time": "2022-03-09T14:31:14.915500",
     "status": "completed"
    },
    "tags": []
   },
   "outputs": [
    {
     "data": {
      "text/html": [
       "<div>\n",
       "<style scoped>\n",
       "    .dataframe tbody tr th:only-of-type {\n",
       "        vertical-align: middle;\n",
       "    }\n",
       "\n",
       "    .dataframe tbody tr th {\n",
       "        vertical-align: top;\n",
       "    }\n",
       "\n",
       "    .dataframe thead th {\n",
       "        text-align: right;\n",
       "    }\n",
       "</style>\n",
       "<table border=\"1\" class=\"dataframe\">\n",
       "  <thead>\n",
       "    <tr style=\"text-align: right;\">\n",
       "      <th></th>\n",
       "      <th>user_id</th>\n",
       "      <th>last_timestamp</th>\n",
       "      <th>is_gone_user</th>\n",
       "      <th>correct</th>\n",
       "      <th>wrong</th>\n",
       "      <th>discovered</th>\n",
       "      <th>passed</th>\n",
       "      <th>started_attempt</th>\n",
       "      <th>viewed</th>\n",
       "      <th>day</th>\n",
       "      <th>passed_course</th>\n",
       "      <th>min_timestamp</th>\n",
       "    </tr>\n",
       "  </thead>\n",
       "  <tbody>\n",
       "    <tr>\n",
       "      <th>0</th>\n",
       "      <td>1</td>\n",
       "      <td>1472827464</td>\n",
       "      <td>True</td>\n",
       "      <td>0.0</td>\n",
       "      <td>0.0</td>\n",
       "      <td>1</td>\n",
       "      <td>0</td>\n",
       "      <td>0</td>\n",
       "      <td>1</td>\n",
       "      <td>1</td>\n",
       "      <td>False</td>\n",
       "      <td>1472827464</td>\n",
       "    </tr>\n",
       "    <tr>\n",
       "      <th>1</th>\n",
       "      <td>2</td>\n",
       "      <td>1519226966</td>\n",
       "      <td>True</td>\n",
       "      <td>2.0</td>\n",
       "      <td>0.0</td>\n",
       "      <td>9</td>\n",
       "      <td>9</td>\n",
       "      <td>2</td>\n",
       "      <td>10</td>\n",
       "      <td>2</td>\n",
       "      <td>False</td>\n",
       "      <td>1514383364</td>\n",
       "    </tr>\n",
       "    <tr>\n",
       "      <th>2</th>\n",
       "      <td>3</td>\n",
       "      <td>1444581588</td>\n",
       "      <td>True</td>\n",
       "      <td>29.0</td>\n",
       "      <td>23.0</td>\n",
       "      <td>91</td>\n",
       "      <td>87</td>\n",
       "      <td>30</td>\n",
       "      <td>192</td>\n",
       "      <td>7</td>\n",
       "      <td>False</td>\n",
       "      <td>1434358476</td>\n",
       "    </tr>\n",
       "    <tr>\n",
       "      <th>3</th>\n",
       "      <td>5</td>\n",
       "      <td>1499859939</td>\n",
       "      <td>True</td>\n",
       "      <td>2.0</td>\n",
       "      <td>2.0</td>\n",
       "      <td>11</td>\n",
       "      <td>11</td>\n",
       "      <td>4</td>\n",
       "      <td>12</td>\n",
       "      <td>2</td>\n",
       "      <td>False</td>\n",
       "      <td>1466156809</td>\n",
       "    </tr>\n",
       "    <tr>\n",
       "      <th>4</th>\n",
       "      <td>7</td>\n",
       "      <td>1521634660</td>\n",
       "      <td>True</td>\n",
       "      <td>0.0</td>\n",
       "      <td>0.0</td>\n",
       "      <td>1</td>\n",
       "      <td>1</td>\n",
       "      <td>0</td>\n",
       "      <td>1</td>\n",
       "      <td>1</td>\n",
       "      <td>False</td>\n",
       "      <td>1521634660</td>\n",
       "    </tr>\n",
       "  </tbody>\n",
       "</table>\n",
       "</div>"
      ],
      "text/plain": [
       "   user_id  last_timestamp  is_gone_user  correct  wrong  discovered  passed  \\\n",
       "0        1      1472827464          True      0.0    0.0           1       0   \n",
       "1        2      1519226966          True      2.0    0.0           9       9   \n",
       "2        3      1444581588          True     29.0   23.0          91      87   \n",
       "3        5      1499859939          True      2.0    2.0          11      11   \n",
       "4        7      1521634660          True      0.0    0.0           1       1   \n",
       "\n",
       "   started_attempt  viewed  day  passed_course  min_timestamp  \n",
       "0                0       1    1          False     1472827464  \n",
       "1                2      10    2          False     1514383364  \n",
       "2               30     192    7          False     1434358476  \n",
       "3                4      12    2          False     1466156809  \n",
       "4                0       1    1          False     1521634660  "
      ]
     },
     "execution_count": 20,
     "metadata": {},
     "output_type": "execute_result"
    }
   ],
   "source": [
    "users_data = users_data.merge(user_min_time, how='outer')\n",
    "users_data.head()"
   ]
  },
  {
   "cell_type": "code",
   "execution_count": 21,
   "id": "d40f1e5b",
   "metadata": {
    "execution": {
     "iopub.execute_input": "2022-03-09T14:31:15.161306Z",
     "iopub.status.busy": "2022-03-09T14:31:15.160752Z",
     "iopub.status.idle": "2022-03-09T14:31:15.164970Z",
     "shell.execute_reply": "2022-03-09T14:31:15.165501Z",
     "shell.execute_reply.started": "2022-03-09T14:26:08.854233Z"
    },
    "papermill": {
     "duration": 0.080373,
     "end_time": "2022-03-09T14:31:15.165666",
     "exception": false,
     "start_time": "2022-03-09T14:31:15.085293",
     "status": "completed"
    },
    "tags": []
   },
   "outputs": [
    {
     "data": {
      "text/plain": [
       "259200"
      ]
     },
     "execution_count": 21,
     "metadata": {},
     "output_type": "execute_result"
    }
   ],
   "source": [
    "# set threshold time (days for training)\n",
    "THRESHOLD_DAYS = 3\n",
    "learning_time_threshold = THRESHOLD_DAYS * 24 * 60 * 60    # threshold in seconds\n",
    "learning_time_threshold"
   ]
  },
  {
   "cell_type": "code",
   "execution_count": 22,
   "id": "0debbf6c",
   "metadata": {
    "execution": {
     "iopub.execute_input": "2022-03-09T14:31:15.315452Z",
     "iopub.status.busy": "2022-03-09T14:31:15.314887Z",
     "iopub.status.idle": "2022-03-09T14:31:15.328567Z",
     "shell.execute_reply": "2022-03-09T14:31:15.329103Z",
     "shell.execute_reply.started": "2022-03-09T14:26:08.862020Z"
    },
    "papermill": {
     "duration": 0.090144,
     "end_time": "2022-03-09T14:31:15.329254",
     "exception": false,
     "start_time": "2022-03-09T14:31:15.239110",
     "status": "completed"
    },
    "tags": []
   },
   "outputs": [
    {
     "data": {
      "text/html": [
       "<div>\n",
       "<style scoped>\n",
       "    .dataframe tbody tr th:only-of-type {\n",
       "        vertical-align: middle;\n",
       "    }\n",
       "\n",
       "    .dataframe tbody tr th {\n",
       "        vertical-align: top;\n",
       "    }\n",
       "\n",
       "    .dataframe thead th {\n",
       "        text-align: right;\n",
       "    }\n",
       "</style>\n",
       "<table border=\"1\" class=\"dataframe\">\n",
       "  <thead>\n",
       "    <tr style=\"text-align: right;\">\n",
       "      <th></th>\n",
       "      <th>user_id</th>\n",
       "      <th>last_timestamp</th>\n",
       "      <th>is_gone_user</th>\n",
       "      <th>correct</th>\n",
       "      <th>wrong</th>\n",
       "      <th>discovered</th>\n",
       "      <th>passed</th>\n",
       "      <th>started_attempt</th>\n",
       "      <th>viewed</th>\n",
       "      <th>day</th>\n",
       "      <th>passed_course</th>\n",
       "      <th>min_timestamp</th>\n",
       "      <th>user_learning_time_threshold</th>\n",
       "    </tr>\n",
       "  </thead>\n",
       "  <tbody>\n",
       "    <tr>\n",
       "      <th>0</th>\n",
       "      <td>1</td>\n",
       "      <td>1472827464</td>\n",
       "      <td>True</td>\n",
       "      <td>0.0</td>\n",
       "      <td>0.0</td>\n",
       "      <td>1</td>\n",
       "      <td>0</td>\n",
       "      <td>0</td>\n",
       "      <td>1</td>\n",
       "      <td>1</td>\n",
       "      <td>False</td>\n",
       "      <td>1472827464</td>\n",
       "      <td>1473086664</td>\n",
       "    </tr>\n",
       "    <tr>\n",
       "      <th>1</th>\n",
       "      <td>2</td>\n",
       "      <td>1519226966</td>\n",
       "      <td>True</td>\n",
       "      <td>2.0</td>\n",
       "      <td>0.0</td>\n",
       "      <td>9</td>\n",
       "      <td>9</td>\n",
       "      <td>2</td>\n",
       "      <td>10</td>\n",
       "      <td>2</td>\n",
       "      <td>False</td>\n",
       "      <td>1514383364</td>\n",
       "      <td>1514642564</td>\n",
       "    </tr>\n",
       "    <tr>\n",
       "      <th>2</th>\n",
       "      <td>3</td>\n",
       "      <td>1444581588</td>\n",
       "      <td>True</td>\n",
       "      <td>29.0</td>\n",
       "      <td>23.0</td>\n",
       "      <td>91</td>\n",
       "      <td>87</td>\n",
       "      <td>30</td>\n",
       "      <td>192</td>\n",
       "      <td>7</td>\n",
       "      <td>False</td>\n",
       "      <td>1434358476</td>\n",
       "      <td>1434617676</td>\n",
       "    </tr>\n",
       "    <tr>\n",
       "      <th>3</th>\n",
       "      <td>5</td>\n",
       "      <td>1499859939</td>\n",
       "      <td>True</td>\n",
       "      <td>2.0</td>\n",
       "      <td>2.0</td>\n",
       "      <td>11</td>\n",
       "      <td>11</td>\n",
       "      <td>4</td>\n",
       "      <td>12</td>\n",
       "      <td>2</td>\n",
       "      <td>False</td>\n",
       "      <td>1466156809</td>\n",
       "      <td>1466416009</td>\n",
       "    </tr>\n",
       "    <tr>\n",
       "      <th>4</th>\n",
       "      <td>7</td>\n",
       "      <td>1521634660</td>\n",
       "      <td>True</td>\n",
       "      <td>0.0</td>\n",
       "      <td>0.0</td>\n",
       "      <td>1</td>\n",
       "      <td>1</td>\n",
       "      <td>0</td>\n",
       "      <td>1</td>\n",
       "      <td>1</td>\n",
       "      <td>False</td>\n",
       "      <td>1521634660</td>\n",
       "      <td>1521893860</td>\n",
       "    </tr>\n",
       "  </tbody>\n",
       "</table>\n",
       "</div>"
      ],
      "text/plain": [
       "   user_id  last_timestamp  is_gone_user  correct  wrong  discovered  passed  \\\n",
       "0        1      1472827464          True      0.0    0.0           1       0   \n",
       "1        2      1519226966          True      2.0    0.0           9       9   \n",
       "2        3      1444581588          True     29.0   23.0          91      87   \n",
       "3        5      1499859939          True      2.0    2.0          11      11   \n",
       "4        7      1521634660          True      0.0    0.0           1       1   \n",
       "\n",
       "   started_attempt  viewed  day  passed_course  min_timestamp  \\\n",
       "0                0       1    1          False     1472827464   \n",
       "1                2      10    2          False     1514383364   \n",
       "2               30     192    7          False     1434358476   \n",
       "3                4      12    2          False     1466156809   \n",
       "4                0       1    1          False     1521634660   \n",
       "\n",
       "   user_learning_time_threshold  \n",
       "0                    1473086664  \n",
       "1                    1514642564  \n",
       "2                    1434617676  \n",
       "3                    1466416009  \n",
       "4                    1521893860  "
      ]
     },
     "execution_count": 22,
     "metadata": {},
     "output_type": "execute_result"
    }
   ],
   "source": [
    "# calculating threshold time for every user\n",
    "users_data['user_learning_time_threshold'] =\\\n",
    "                     users_data['min_timestamp'] + learning_time_threshold\n",
    "users_data.head()"
   ]
  },
  {
   "cell_type": "code",
   "execution_count": 23,
   "id": "c87f24cd",
   "metadata": {
    "execution": {
     "iopub.execute_input": "2022-03-09T14:31:15.480351Z",
     "iopub.status.busy": "2022-03-09T14:31:15.479801Z",
     "iopub.status.idle": "2022-03-09T14:31:16.438329Z",
     "shell.execute_reply": "2022-03-09T14:31:16.437886Z",
     "shell.execute_reply.started": "2022-03-09T14:26:08.889103Z"
    },
    "papermill": {
     "duration": 1.034916,
     "end_time": "2022-03-09T14:31:16.438491",
     "exception": false,
     "start_time": "2022-03-09T14:31:15.403575",
     "status": "completed"
    },
    "tags": []
   },
   "outputs": [
    {
     "data": {
      "text/html": [
       "<div>\n",
       "<style scoped>\n",
       "    .dataframe tbody tr th:only-of-type {\n",
       "        vertical-align: middle;\n",
       "    }\n",
       "\n",
       "    .dataframe tbody tr th {\n",
       "        vertical-align: top;\n",
       "    }\n",
       "\n",
       "    .dataframe thead th {\n",
       "        text-align: right;\n",
       "    }\n",
       "</style>\n",
       "<table border=\"1\" class=\"dataframe\">\n",
       "  <thead>\n",
       "    <tr style=\"text-align: right;\">\n",
       "      <th></th>\n",
       "      <th>step_id</th>\n",
       "      <th>timestamp</th>\n",
       "      <th>action</th>\n",
       "      <th>user_id</th>\n",
       "      <th>date</th>\n",
       "      <th>day</th>\n",
       "      <th>user_learning_time_threshold</th>\n",
       "    </tr>\n",
       "  </thead>\n",
       "  <tbody>\n",
       "    <tr>\n",
       "      <th>0</th>\n",
       "      <td>32815</td>\n",
       "      <td>1434340848</td>\n",
       "      <td>viewed</td>\n",
       "      <td>17632</td>\n",
       "      <td>2015-06-15 04:00:48</td>\n",
       "      <td>2015-06-15</td>\n",
       "      <td>1434600048</td>\n",
       "    </tr>\n",
       "    <tr>\n",
       "      <th>1</th>\n",
       "      <td>32815</td>\n",
       "      <td>1434340848</td>\n",
       "      <td>passed</td>\n",
       "      <td>17632</td>\n",
       "      <td>2015-06-15 04:00:48</td>\n",
       "      <td>2015-06-15</td>\n",
       "      <td>1434600048</td>\n",
       "    </tr>\n",
       "    <tr>\n",
       "      <th>2</th>\n",
       "      <td>32815</td>\n",
       "      <td>1434340848</td>\n",
       "      <td>discovered</td>\n",
       "      <td>17632</td>\n",
       "      <td>2015-06-15 04:00:48</td>\n",
       "      <td>2015-06-15</td>\n",
       "      <td>1434600048</td>\n",
       "    </tr>\n",
       "    <tr>\n",
       "      <th>3</th>\n",
       "      <td>32811</td>\n",
       "      <td>1434340895</td>\n",
       "      <td>discovered</td>\n",
       "      <td>17632</td>\n",
       "      <td>2015-06-15 04:01:35</td>\n",
       "      <td>2015-06-15</td>\n",
       "      <td>1434600048</td>\n",
       "    </tr>\n",
       "    <tr>\n",
       "      <th>4</th>\n",
       "      <td>32811</td>\n",
       "      <td>1434340895</td>\n",
       "      <td>viewed</td>\n",
       "      <td>17632</td>\n",
       "      <td>2015-06-15 04:01:35</td>\n",
       "      <td>2015-06-15</td>\n",
       "      <td>1434600048</td>\n",
       "    </tr>\n",
       "  </tbody>\n",
       "</table>\n",
       "</div>"
      ],
      "text/plain": [
       "   step_id   timestamp      action  user_id                date         day  \\\n",
       "0    32815  1434340848      viewed    17632 2015-06-15 04:00:48  2015-06-15   \n",
       "1    32815  1434340848      passed    17632 2015-06-15 04:00:48  2015-06-15   \n",
       "2    32815  1434340848  discovered    17632 2015-06-15 04:00:48  2015-06-15   \n",
       "3    32811  1434340895  discovered    17632 2015-06-15 04:01:35  2015-06-15   \n",
       "4    32811  1434340895      viewed    17632 2015-06-15 04:01:35  2015-06-15   \n",
       "\n",
       "   user_learning_time_threshold  \n",
       "0                    1434600048  \n",
       "1                    1434600048  \n",
       "2                    1434600048  \n",
       "3                    1434600048  \n",
       "4                    1434600048  "
      ]
     },
     "execution_count": 23,
     "metadata": {},
     "output_type": "execute_result"
    }
   ],
   "source": [
    "# copy threshold data from \"users_data\" to \"events_data\"\n",
    "events_data = events_data.merge(users_data\\\n",
    "                    [['user_id', 'user_learning_time_threshold']], how='outer')\n",
    "events_data.head()"
   ]
  },
  {
   "cell_type": "code",
   "execution_count": 24,
   "id": "d9e1b950",
   "metadata": {
    "execution": {
     "iopub.execute_input": "2022-03-09T14:31:16.590914Z",
     "iopub.status.busy": "2022-03-09T14:31:16.590271Z",
     "iopub.status.idle": "2022-03-09T14:31:16.594157Z",
     "shell.execute_reply": "2022-03-09T14:31:16.594616Z",
     "shell.execute_reply.started": "2022-03-09T14:26:09.818514Z"
    },
    "papermill": {
     "duration": 0.081343,
     "end_time": "2022-03-09T14:31:16.594763",
     "exception": false,
     "start_time": "2022-03-09T14:31:16.513420",
     "status": "completed"
    },
    "tags": []
   },
   "outputs": [
    {
     "data": {
      "text/plain": [
       "(3480703, 7)"
      ]
     },
     "execution_count": 24,
     "metadata": {},
     "output_type": "execute_result"
    }
   ],
   "source": [
    "events_data.shape"
   ]
  },
  {
   "cell_type": "code",
   "execution_count": 25,
   "id": "71965a7c",
   "metadata": {
    "execution": {
     "iopub.execute_input": "2022-03-09T14:31:16.750140Z",
     "iopub.status.busy": "2022-03-09T14:31:16.749557Z",
     "iopub.status.idle": "2022-03-09T14:31:17.175550Z",
     "shell.execute_reply": "2022-03-09T14:31:17.175030Z",
     "shell.execute_reply.started": "2022-03-09T14:26:09.826932Z"
    },
    "papermill": {
     "duration": 0.505521,
     "end_time": "2022-03-09T14:31:17.175683",
     "exception": false,
     "start_time": "2022-03-09T14:31:16.670162",
     "status": "completed"
    },
    "tags": []
   },
   "outputs": [
    {
     "data": {
      "text/html": [
       "<div>\n",
       "<style scoped>\n",
       "    .dataframe tbody tr th:only-of-type {\n",
       "        vertical-align: middle;\n",
       "    }\n",
       "\n",
       "    .dataframe tbody tr th {\n",
       "        vertical-align: top;\n",
       "    }\n",
       "\n",
       "    .dataframe thead th {\n",
       "        text-align: right;\n",
       "    }\n",
       "</style>\n",
       "<table border=\"1\" class=\"dataframe\">\n",
       "  <thead>\n",
       "    <tr style=\"text-align: right;\">\n",
       "      <th></th>\n",
       "      <th>step_id</th>\n",
       "      <th>timestamp</th>\n",
       "      <th>action</th>\n",
       "      <th>user_id</th>\n",
       "      <th>date</th>\n",
       "      <th>day</th>\n",
       "      <th>user_learning_time_threshold</th>\n",
       "    </tr>\n",
       "  </thead>\n",
       "  <tbody>\n",
       "    <tr>\n",
       "      <th>0</th>\n",
       "      <td>32815</td>\n",
       "      <td>1434340848</td>\n",
       "      <td>viewed</td>\n",
       "      <td>17632</td>\n",
       "      <td>2015-06-15 04:00:48</td>\n",
       "      <td>2015-06-15</td>\n",
       "      <td>1434600048</td>\n",
       "    </tr>\n",
       "    <tr>\n",
       "      <th>1</th>\n",
       "      <td>32815</td>\n",
       "      <td>1434340848</td>\n",
       "      <td>passed</td>\n",
       "      <td>17632</td>\n",
       "      <td>2015-06-15 04:00:48</td>\n",
       "      <td>2015-06-15</td>\n",
       "      <td>1434600048</td>\n",
       "    </tr>\n",
       "    <tr>\n",
       "      <th>2</th>\n",
       "      <td>32815</td>\n",
       "      <td>1434340848</td>\n",
       "      <td>discovered</td>\n",
       "      <td>17632</td>\n",
       "      <td>2015-06-15 04:00:48</td>\n",
       "      <td>2015-06-15</td>\n",
       "      <td>1434600048</td>\n",
       "    </tr>\n",
       "    <tr>\n",
       "      <th>3</th>\n",
       "      <td>32811</td>\n",
       "      <td>1434340895</td>\n",
       "      <td>discovered</td>\n",
       "      <td>17632</td>\n",
       "      <td>2015-06-15 04:01:35</td>\n",
       "      <td>2015-06-15</td>\n",
       "      <td>1434600048</td>\n",
       "    </tr>\n",
       "    <tr>\n",
       "      <th>4</th>\n",
       "      <td>32811</td>\n",
       "      <td>1434340895</td>\n",
       "      <td>viewed</td>\n",
       "      <td>17632</td>\n",
       "      <td>2015-06-15 04:01:35</td>\n",
       "      <td>2015-06-15</td>\n",
       "      <td>1434600048</td>\n",
       "    </tr>\n",
       "  </tbody>\n",
       "</table>\n",
       "</div>"
      ],
      "text/plain": [
       "   step_id   timestamp      action  user_id                date         day  \\\n",
       "0    32815  1434340848      viewed    17632 2015-06-15 04:00:48  2015-06-15   \n",
       "1    32815  1434340848      passed    17632 2015-06-15 04:00:48  2015-06-15   \n",
       "2    32815  1434340848  discovered    17632 2015-06-15 04:00:48  2015-06-15   \n",
       "3    32811  1434340895  discovered    17632 2015-06-15 04:01:35  2015-06-15   \n",
       "4    32811  1434340895      viewed    17632 2015-06-15 04:01:35  2015-06-15   \n",
       "\n",
       "   user_learning_time_threshold  \n",
       "0                    1434600048  \n",
       "1                    1434600048  \n",
       "2                    1434600048  \n",
       "3                    1434600048  \n",
       "4                    1434600048  "
      ]
     },
     "execution_count": 25,
     "metadata": {},
     "output_type": "execute_result"
    }
   ],
   "source": [
    "# selecting events before threshold\n",
    "events_data_train = events_data\\\n",
    "         [events_data.timestamp <= events_data.user_learning_time_threshold]\n",
    "events_data_train.head()"
   ]
  },
  {
   "cell_type": "code",
   "execution_count": 26,
   "id": "ac3a0b1a",
   "metadata": {
    "execution": {
     "iopub.execute_input": "2022-03-09T14:31:17.328812Z",
     "iopub.status.busy": "2022-03-09T14:31:17.327929Z",
     "iopub.status.idle": "2022-03-09T14:31:17.332736Z",
     "shell.execute_reply": "2022-03-09T14:31:17.333239Z",
     "shell.execute_reply.started": "2022-03-09T14:26:10.200738Z"
    },
    "papermill": {
     "duration": 0.082623,
     "end_time": "2022-03-09T14:31:17.333406",
     "exception": false,
     "start_time": "2022-03-09T14:31:17.250783",
     "status": "completed"
    },
    "tags": []
   },
   "outputs": [
    {
     "data": {
      "text/plain": [
       "(1014985, 7)"
      ]
     },
     "execution_count": 26,
     "metadata": {},
     "output_type": "execute_result"
    }
   ],
   "source": [
    "events_data_train.shape"
   ]
  },
  {
   "cell_type": "code",
   "execution_count": 27,
   "id": "d99887d1",
   "metadata": {
    "execution": {
     "iopub.execute_input": "2022-03-09T14:31:17.487947Z",
     "iopub.status.busy": "2022-03-09T14:31:17.485535Z",
     "iopub.status.idle": "2022-03-09T14:31:17.653747Z",
     "shell.execute_reply": "2022-03-09T14:31:17.653239Z",
     "shell.execute_reply.started": "2022-03-09T14:26:10.210109Z"
    },
    "papermill": {
     "duration": 0.245659,
     "end_time": "2022-03-09T14:31:17.653878",
     "exception": false,
     "start_time": "2022-03-09T14:31:17.408219",
     "status": "completed"
    },
    "tags": []
   },
   "outputs": [
    {
     "data": {
      "text/plain": [
       "4"
      ]
     },
     "execution_count": 27,
     "metadata": {},
     "output_type": "execute_result"
    }
   ],
   "source": [
    "# check numbers of calendar days for model training in Events\n",
    "events_data_train.groupby('user_id').day.nunique().max()"
   ]
  },
  {
   "cell_type": "code",
   "execution_count": 28,
   "id": "67fe4598",
   "metadata": {
    "execution": {
     "iopub.execute_input": "2022-03-09T14:31:17.812954Z",
     "iopub.status.busy": "2022-03-09T14:31:17.812069Z",
     "iopub.status.idle": "2022-03-09T14:31:17.930946Z",
     "shell.execute_reply": "2022-03-09T14:31:17.931378Z",
     "shell.execute_reply.started": "2022-03-09T14:26:10.464273Z"
    },
    "papermill": {
     "duration": 0.202042,
     "end_time": "2022-03-09T14:31:17.931552",
     "exception": false,
     "start_time": "2022-03-09T14:31:17.729510",
     "status": "completed"
    },
    "tags": []
   },
   "outputs": [
    {
     "data": {
      "text/html": [
       "<div>\n",
       "<style scoped>\n",
       "    .dataframe tbody tr th:only-of-type {\n",
       "        vertical-align: middle;\n",
       "    }\n",
       "\n",
       "    .dataframe tbody tr th {\n",
       "        vertical-align: top;\n",
       "    }\n",
       "\n",
       "    .dataframe thead th {\n",
       "        text-align: right;\n",
       "    }\n",
       "</style>\n",
       "<table border=\"1\" class=\"dataframe\">\n",
       "  <thead>\n",
       "    <tr style=\"text-align: right;\">\n",
       "      <th></th>\n",
       "      <th>step_id</th>\n",
       "      <th>timestamp</th>\n",
       "      <th>submission_status</th>\n",
       "      <th>user_id</th>\n",
       "      <th>date</th>\n",
       "      <th>day</th>\n",
       "      <th>user_learning_time_threshold</th>\n",
       "    </tr>\n",
       "  </thead>\n",
       "  <tbody>\n",
       "    <tr>\n",
       "      <th>0</th>\n",
       "      <td>31971.0</td>\n",
       "      <td>1.434349e+09</td>\n",
       "      <td>correct</td>\n",
       "      <td>15853</td>\n",
       "      <td>2015-06-15 06:21:15</td>\n",
       "      <td>2015-06-15</td>\n",
       "      <td>1434605177</td>\n",
       "    </tr>\n",
       "    <tr>\n",
       "      <th>1</th>\n",
       "      <td>31972.0</td>\n",
       "      <td>1.434348e+09</td>\n",
       "      <td>correct</td>\n",
       "      <td>15853</td>\n",
       "      <td>2015-06-15 06:05:00</td>\n",
       "      <td>2015-06-15</td>\n",
       "      <td>1434605177</td>\n",
       "    </tr>\n",
       "    <tr>\n",
       "      <th>4</th>\n",
       "      <td>31976.0</td>\n",
       "      <td>1.434348e+09</td>\n",
       "      <td>wrong</td>\n",
       "      <td>15853</td>\n",
       "      <td>2015-06-15 06:02:03</td>\n",
       "      <td>2015-06-15</td>\n",
       "      <td>1434605177</td>\n",
       "    </tr>\n",
       "    <tr>\n",
       "      <th>5</th>\n",
       "      <td>31976.0</td>\n",
       "      <td>1.434348e+09</td>\n",
       "      <td>correct</td>\n",
       "      <td>15853</td>\n",
       "      <td>2015-06-15 06:03:08</td>\n",
       "      <td>2015-06-15</td>\n",
       "      <td>1434605177</td>\n",
       "    </tr>\n",
       "    <tr>\n",
       "      <th>7</th>\n",
       "      <td>31977.0</td>\n",
       "      <td>1.434347e+09</td>\n",
       "      <td>correct</td>\n",
       "      <td>15853</td>\n",
       "      <td>2015-06-15 05:49:31</td>\n",
       "      <td>2015-06-15</td>\n",
       "      <td>1434605177</td>\n",
       "    </tr>\n",
       "    <tr>\n",
       "      <th>...</th>\n",
       "      <td>...</td>\n",
       "      <td>...</td>\n",
       "      <td>...</td>\n",
       "      <td>...</td>\n",
       "      <td>...</td>\n",
       "      <td>...</td>\n",
       "      <td>...</td>\n",
       "    </tr>\n",
       "    <tr>\n",
       "      <th>509099</th>\n",
       "      <td>120745.0</td>\n",
       "      <td>1.501947e+09</td>\n",
       "      <td>wrong</td>\n",
       "      <td>2615</td>\n",
       "      <td>2017-08-05 15:29:19</td>\n",
       "      <td>2017-08-05</td>\n",
       "      <td>1502205860</td>\n",
       "    </tr>\n",
       "    <tr>\n",
       "      <th>509100</th>\n",
       "      <td>120745.0</td>\n",
       "      <td>1.503060e+09</td>\n",
       "      <td>correct</td>\n",
       "      <td>13177</td>\n",
       "      <td>2017-08-18 12:38:47</td>\n",
       "      <td>2017-08-18</td>\n",
       "      <td>1503314487</td>\n",
       "    </tr>\n",
       "    <tr>\n",
       "      <th>509101</th>\n",
       "      <td>120745.0</td>\n",
       "      <td>1.506348e+09</td>\n",
       "      <td>wrong</td>\n",
       "      <td>15253</td>\n",
       "      <td>2017-09-25 14:02:33</td>\n",
       "      <td>2017-09-25</td>\n",
       "      <td>1506606463</td>\n",
       "    </tr>\n",
       "    <tr>\n",
       "      <th>509102</th>\n",
       "      <td>120745.0</td>\n",
       "      <td>1.523035e+09</td>\n",
       "      <td>wrong</td>\n",
       "      <td>1424</td>\n",
       "      <td>2018-04-06 17:21:56</td>\n",
       "      <td>2018-04-06</td>\n",
       "      <td>1523294469</td>\n",
       "    </tr>\n",
       "    <tr>\n",
       "      <th>509103</th>\n",
       "      <td>120745.0</td>\n",
       "      <td>1.523383e+09</td>\n",
       "      <td>wrong</td>\n",
       "      <td>9422</td>\n",
       "      <td>2018-04-10 17:53:45</td>\n",
       "      <td>2018-04-10</td>\n",
       "      <td>1523636200</td>\n",
       "    </tr>\n",
       "  </tbody>\n",
       "</table>\n",
       "<p>135599 rows × 7 columns</p>\n",
       "</div>"
      ],
      "text/plain": [
       "         step_id     timestamp submission_status  user_id                date  \\\n",
       "0        31971.0  1.434349e+09           correct    15853 2015-06-15 06:21:15   \n",
       "1        31972.0  1.434348e+09           correct    15853 2015-06-15 06:05:00   \n",
       "4        31976.0  1.434348e+09             wrong    15853 2015-06-15 06:02:03   \n",
       "5        31976.0  1.434348e+09           correct    15853 2015-06-15 06:03:08   \n",
       "7        31977.0  1.434347e+09           correct    15853 2015-06-15 05:49:31   \n",
       "...          ...           ...               ...      ...                 ...   \n",
       "509099  120745.0  1.501947e+09             wrong     2615 2017-08-05 15:29:19   \n",
       "509100  120745.0  1.503060e+09           correct    13177 2017-08-18 12:38:47   \n",
       "509101  120745.0  1.506348e+09             wrong    15253 2017-09-25 14:02:33   \n",
       "509102  120745.0  1.523035e+09             wrong     1424 2018-04-06 17:21:56   \n",
       "509103  120745.0  1.523383e+09             wrong     9422 2018-04-10 17:53:45   \n",
       "\n",
       "               day  user_learning_time_threshold  \n",
       "0       2015-06-15                    1434605177  \n",
       "1       2015-06-15                    1434605177  \n",
       "4       2015-06-15                    1434605177  \n",
       "5       2015-06-15                    1434605177  \n",
       "7       2015-06-15                    1434605177  \n",
       "...            ...                           ...  \n",
       "509099  2017-08-05                    1502205860  \n",
       "509100  2017-08-18                    1503314487  \n",
       "509101  2017-09-25                    1506606463  \n",
       "509102  2018-04-06                    1523294469  \n",
       "509103  2018-04-10                    1523636200  \n",
       "\n",
       "[135599 rows x 7 columns]"
      ]
     },
     "execution_count": 28,
     "metadata": {},
     "output_type": "execute_result"
    }
   ],
   "source": [
    "# selecting submissions before threshold\n",
    "submissions_data = submissions_data.merge(users_data[['user_id', 'user_learning_time_threshold']], how='outer')\n",
    "submissions_data_train = submissions_data[submissions_data.timestamp <= submissions_data.user_learning_time_threshold]\n",
    "submissions_data_train"
   ]
  },
  {
   "cell_type": "code",
   "execution_count": 29,
   "id": "eb9a0547",
   "metadata": {
    "execution": {
     "iopub.execute_input": "2022-03-09T14:31:18.086686Z",
     "iopub.status.busy": "2022-03-09T14:31:18.085777Z",
     "iopub.status.idle": "2022-03-09T14:31:18.119086Z",
     "shell.execute_reply": "2022-03-09T14:31:18.119562Z",
     "shell.execute_reply.started": "2022-03-09T14:26:10.601640Z"
    },
    "papermill": {
     "duration": 0.112442,
     "end_time": "2022-03-09T14:31:18.119732",
     "exception": false,
     "start_time": "2022-03-09T14:31:18.007290",
     "status": "completed"
    },
    "tags": []
   },
   "outputs": [
    {
     "data": {
      "text/plain": [
       "4"
      ]
     },
     "execution_count": 29,
     "metadata": {},
     "output_type": "execute_result"
    }
   ],
   "source": [
    "# check numbers of calendar days for model training in Submissions\n",
    "submissions_data_train.groupby('user_id').day.nunique().max()"
   ]
  },
  {
   "cell_type": "markdown",
   "id": "9cdbb960",
   "metadata": {
    "papermill": {
     "duration": 0.075725,
     "end_time": "2022-03-09T14:31:18.272046",
     "exception": false,
     "start_time": "2022-03-09T14:31:18.196321",
     "status": "completed"
    },
    "tags": []
   },
   "source": [
    "**Creating dataset for model training**"
   ]
  },
  {
   "cell_type": "code",
   "execution_count": 30,
   "id": "46ff2718",
   "metadata": {
    "execution": {
     "iopub.execute_input": "2022-03-09T14:31:18.427129Z",
     "iopub.status.busy": "2022-03-09T14:31:18.426599Z",
     "iopub.status.idle": "2022-03-09T14:31:18.460367Z",
     "shell.execute_reply": "2022-03-09T14:31:18.460908Z",
     "shell.execute_reply.started": "2022-03-09T14:26:10.654361Z"
    },
    "papermill": {
     "duration": 0.113413,
     "end_time": "2022-03-09T14:31:18.461061",
     "exception": false,
     "start_time": "2022-03-09T14:31:18.347648",
     "status": "completed"
    },
    "tags": []
   },
   "outputs": [
    {
     "data": {
      "text/html": [
       "<div>\n",
       "<style scoped>\n",
       "    .dataframe tbody tr th:only-of-type {\n",
       "        vertical-align: middle;\n",
       "    }\n",
       "\n",
       "    .dataframe tbody tr th {\n",
       "        vertical-align: top;\n",
       "    }\n",
       "\n",
       "    .dataframe thead th {\n",
       "        text-align: right;\n",
       "    }\n",
       "</style>\n",
       "<table border=\"1\" class=\"dataframe\">\n",
       "  <thead>\n",
       "    <tr style=\"text-align: right;\">\n",
       "      <th></th>\n",
       "      <th>user_id</th>\n",
       "      <th>days</th>\n",
       "    </tr>\n",
       "  </thead>\n",
       "  <tbody>\n",
       "    <tr>\n",
       "      <th>0</th>\n",
       "      <td>2</td>\n",
       "      <td>1</td>\n",
       "    </tr>\n",
       "    <tr>\n",
       "      <th>1</th>\n",
       "      <td>3</td>\n",
       "      <td>1</td>\n",
       "    </tr>\n",
       "    <tr>\n",
       "      <th>2</th>\n",
       "      <td>8</td>\n",
       "      <td>1</td>\n",
       "    </tr>\n",
       "    <tr>\n",
       "      <th>3</th>\n",
       "      <td>14</td>\n",
       "      <td>1</td>\n",
       "    </tr>\n",
       "    <tr>\n",
       "      <th>4</th>\n",
       "      <td>16</td>\n",
       "      <td>3</td>\n",
       "    </tr>\n",
       "    <tr>\n",
       "      <th>...</th>\n",
       "      <td>...</td>\n",
       "      <td>...</td>\n",
       "    </tr>\n",
       "    <tr>\n",
       "      <th>8908</th>\n",
       "      <td>26787</td>\n",
       "      <td>1</td>\n",
       "    </tr>\n",
       "    <tr>\n",
       "      <th>8909</th>\n",
       "      <td>26790</td>\n",
       "      <td>1</td>\n",
       "    </tr>\n",
       "    <tr>\n",
       "      <th>8910</th>\n",
       "      <td>26794</td>\n",
       "      <td>3</td>\n",
       "    </tr>\n",
       "    <tr>\n",
       "      <th>8911</th>\n",
       "      <td>26797</td>\n",
       "      <td>1</td>\n",
       "    </tr>\n",
       "    <tr>\n",
       "      <th>8912</th>\n",
       "      <td>26798</td>\n",
       "      <td>1</td>\n",
       "    </tr>\n",
       "  </tbody>\n",
       "</table>\n",
       "<p>8913 rows × 2 columns</p>\n",
       "</div>"
      ],
      "text/plain": [
       "      user_id  days\n",
       "0           2     1\n",
       "1           3     1\n",
       "2           8     1\n",
       "3          14     1\n",
       "4          16     3\n",
       "...       ...   ...\n",
       "8908    26787     1\n",
       "8909    26790     1\n",
       "8910    26794     3\n",
       "8911    26797     1\n",
       "8912    26798     1\n",
       "\n",
       "[8913 rows x 2 columns]"
      ]
     },
     "execution_count": 30,
     "metadata": {},
     "output_type": "execute_result"
    }
   ],
   "source": [
    "# creating training dataset\n",
    "X = submissions_data_train.groupby('user_id').day.nunique(). \\\n",
    "    to_frame().reset_index().rename(columns=({\n",
    "        'day': 'days'\n",
    "}))\n",
    "X"
   ]
  },
  {
   "cell_type": "code",
   "execution_count": 31,
   "id": "554000e2",
   "metadata": {
    "execution": {
     "iopub.execute_input": "2022-03-09T14:31:18.616226Z",
     "iopub.status.busy": "2022-03-09T14:31:18.615699Z",
     "iopub.status.idle": "2022-03-09T14:31:18.654098Z",
     "shell.execute_reply": "2022-03-09T14:31:18.654511Z",
     "shell.execute_reply.started": "2022-03-09T14:26:10.689334Z"
    },
    "papermill": {
     "duration": 0.11743,
     "end_time": "2022-03-09T14:31:18.654672",
     "exception": false,
     "start_time": "2022-03-09T14:31:18.537242",
     "status": "completed"
    },
    "tags": []
   },
   "outputs": [
    {
     "data": {
      "text/html": [
       "<div>\n",
       "<style scoped>\n",
       "    .dataframe tbody tr th:only-of-type {\n",
       "        vertical-align: middle;\n",
       "    }\n",
       "\n",
       "    .dataframe tbody tr th {\n",
       "        vertical-align: top;\n",
       "    }\n",
       "\n",
       "    .dataframe thead th {\n",
       "        text-align: right;\n",
       "    }\n",
       "</style>\n",
       "<table border=\"1\" class=\"dataframe\">\n",
       "  <thead>\n",
       "    <tr style=\"text-align: right;\">\n",
       "      <th></th>\n",
       "      <th>user_id</th>\n",
       "      <th>days</th>\n",
       "      <th>steps_tried</th>\n",
       "    </tr>\n",
       "  </thead>\n",
       "  <tbody>\n",
       "    <tr>\n",
       "      <th>0</th>\n",
       "      <td>2</td>\n",
       "      <td>1</td>\n",
       "      <td>2</td>\n",
       "    </tr>\n",
       "    <tr>\n",
       "      <th>1</th>\n",
       "      <td>3</td>\n",
       "      <td>1</td>\n",
       "      <td>4</td>\n",
       "    </tr>\n",
       "    <tr>\n",
       "      <th>2</th>\n",
       "      <td>8</td>\n",
       "      <td>1</td>\n",
       "      <td>11</td>\n",
       "    </tr>\n",
       "    <tr>\n",
       "      <th>3</th>\n",
       "      <td>14</td>\n",
       "      <td>1</td>\n",
       "      <td>1</td>\n",
       "    </tr>\n",
       "    <tr>\n",
       "      <th>4</th>\n",
       "      <td>16</td>\n",
       "      <td>3</td>\n",
       "      <td>23</td>\n",
       "    </tr>\n",
       "    <tr>\n",
       "      <th>...</th>\n",
       "      <td>...</td>\n",
       "      <td>...</td>\n",
       "      <td>...</td>\n",
       "    </tr>\n",
       "    <tr>\n",
       "      <th>8908</th>\n",
       "      <td>26787</td>\n",
       "      <td>1</td>\n",
       "      <td>3</td>\n",
       "    </tr>\n",
       "    <tr>\n",
       "      <th>8909</th>\n",
       "      <td>26790</td>\n",
       "      <td>1</td>\n",
       "      <td>1</td>\n",
       "    </tr>\n",
       "    <tr>\n",
       "      <th>8910</th>\n",
       "      <td>26794</td>\n",
       "      <td>3</td>\n",
       "      <td>27</td>\n",
       "    </tr>\n",
       "    <tr>\n",
       "      <th>8911</th>\n",
       "      <td>26797</td>\n",
       "      <td>1</td>\n",
       "      <td>2</td>\n",
       "    </tr>\n",
       "    <tr>\n",
       "      <th>8912</th>\n",
       "      <td>26798</td>\n",
       "      <td>1</td>\n",
       "      <td>2</td>\n",
       "    </tr>\n",
       "  </tbody>\n",
       "</table>\n",
       "<p>8913 rows × 3 columns</p>\n",
       "</div>"
      ],
      "text/plain": [
       "      user_id  days  steps_tried\n",
       "0           2     1            2\n",
       "1           3     1            4\n",
       "2           8     1           11\n",
       "3          14     1            1\n",
       "4          16     3           23\n",
       "...       ...   ...          ...\n",
       "8908    26787     1            3\n",
       "8909    26790     1            1\n",
       "8910    26794     3           27\n",
       "8911    26797     1            2\n",
       "8912    26798     1            2\n",
       "\n",
       "[8913 rows x 3 columns]"
      ]
     },
     "execution_count": 31,
     "metadata": {},
     "output_type": "execute_result"
    }
   ],
   "source": [
    "# add numbers of tried steps during first 3 days\n",
    "steps_tried = submissions_data_train.groupby('user_id').step_id \\\n",
    "    .nunique().to_frame().reset_index().rename(columns={\n",
    "        'step_id': 'steps_tried'\n",
    "})\n",
    "X = X.merge(steps_tried, on='user_id', how='outer')\n",
    "X"
   ]
  },
  {
   "cell_type": "code",
   "execution_count": 32,
   "id": "d1e346f9",
   "metadata": {
    "execution": {
     "iopub.execute_input": "2022-03-09T14:31:18.813414Z",
     "iopub.status.busy": "2022-03-09T14:31:18.812848Z",
     "iopub.status.idle": "2022-03-09T14:31:18.862197Z",
     "shell.execute_reply": "2022-03-09T14:31:18.861757Z",
     "shell.execute_reply.started": "2022-03-09T14:26:10.729642Z"
    },
    "papermill": {
     "duration": 0.12898,
     "end_time": "2022-03-09T14:31:18.862326",
     "exception": false,
     "start_time": "2022-03-09T14:31:18.733346",
     "status": "completed"
    },
    "tags": []
   },
   "outputs": [
    {
     "data": {
      "text/html": [
       "<div>\n",
       "<style scoped>\n",
       "    .dataframe tbody tr th:only-of-type {\n",
       "        vertical-align: middle;\n",
       "    }\n",
       "\n",
       "    .dataframe tbody tr th {\n",
       "        vertical-align: top;\n",
       "    }\n",
       "\n",
       "    .dataframe thead th {\n",
       "        text-align: right;\n",
       "    }\n",
       "</style>\n",
       "<table border=\"1\" class=\"dataframe\">\n",
       "  <thead>\n",
       "    <tr style=\"text-align: right;\">\n",
       "      <th></th>\n",
       "      <th>user_id</th>\n",
       "      <th>days</th>\n",
       "      <th>steps_tried</th>\n",
       "      <th>correct</th>\n",
       "      <th>wrong</th>\n",
       "    </tr>\n",
       "  </thead>\n",
       "  <tbody>\n",
       "    <tr>\n",
       "      <th>0</th>\n",
       "      <td>2</td>\n",
       "      <td>1</td>\n",
       "      <td>2</td>\n",
       "      <td>2</td>\n",
       "      <td>0</td>\n",
       "    </tr>\n",
       "    <tr>\n",
       "      <th>1</th>\n",
       "      <td>3</td>\n",
       "      <td>1</td>\n",
       "      <td>4</td>\n",
       "      <td>4</td>\n",
       "      <td>4</td>\n",
       "    </tr>\n",
       "    <tr>\n",
       "      <th>2</th>\n",
       "      <td>8</td>\n",
       "      <td>1</td>\n",
       "      <td>11</td>\n",
       "      <td>9</td>\n",
       "      <td>21</td>\n",
       "    </tr>\n",
       "    <tr>\n",
       "      <th>3</th>\n",
       "      <td>14</td>\n",
       "      <td>1</td>\n",
       "      <td>1</td>\n",
       "      <td>0</td>\n",
       "      <td>1</td>\n",
       "    </tr>\n",
       "    <tr>\n",
       "      <th>4</th>\n",
       "      <td>16</td>\n",
       "      <td>3</td>\n",
       "      <td>23</td>\n",
       "      <td>23</td>\n",
       "      <td>27</td>\n",
       "    </tr>\n",
       "    <tr>\n",
       "      <th>...</th>\n",
       "      <td>...</td>\n",
       "      <td>...</td>\n",
       "      <td>...</td>\n",
       "      <td>...</td>\n",
       "      <td>...</td>\n",
       "    </tr>\n",
       "    <tr>\n",
       "      <th>8908</th>\n",
       "      <td>26787</td>\n",
       "      <td>1</td>\n",
       "      <td>3</td>\n",
       "      <td>3</td>\n",
       "      <td>0</td>\n",
       "    </tr>\n",
       "    <tr>\n",
       "      <th>8909</th>\n",
       "      <td>26790</td>\n",
       "      <td>1</td>\n",
       "      <td>1</td>\n",
       "      <td>1</td>\n",
       "      <td>0</td>\n",
       "    </tr>\n",
       "    <tr>\n",
       "      <th>8910</th>\n",
       "      <td>26794</td>\n",
       "      <td>3</td>\n",
       "      <td>27</td>\n",
       "      <td>31</td>\n",
       "      <td>9</td>\n",
       "    </tr>\n",
       "    <tr>\n",
       "      <th>8911</th>\n",
       "      <td>26797</td>\n",
       "      <td>1</td>\n",
       "      <td>2</td>\n",
       "      <td>2</td>\n",
       "      <td>0</td>\n",
       "    </tr>\n",
       "    <tr>\n",
       "      <th>8912</th>\n",
       "      <td>26798</td>\n",
       "      <td>1</td>\n",
       "      <td>2</td>\n",
       "      <td>2</td>\n",
       "      <td>1</td>\n",
       "    </tr>\n",
       "  </tbody>\n",
       "</table>\n",
       "<p>8913 rows × 5 columns</p>\n",
       "</div>"
      ],
      "text/plain": [
       "      user_id  days  steps_tried  correct  wrong\n",
       "0           2     1            2        2      0\n",
       "1           3     1            4        4      4\n",
       "2           8     1           11        9     21\n",
       "3          14     1            1        0      1\n",
       "4          16     3           23       23     27\n",
       "...       ...   ...          ...      ...    ...\n",
       "8908    26787     1            3        3      0\n",
       "8909    26790     1            1        1      0\n",
       "8910    26794     3           27       31      9\n",
       "8911    26797     1            2        2      0\n",
       "8912    26798     1            2        2      1\n",
       "\n",
       "[8913 rows x 5 columns]"
      ]
     },
     "execution_count": 32,
     "metadata": {},
     "output_type": "execute_result"
    }
   ],
   "source": [
    "# add number of correct and wrong submissions\n",
    "X = X.merge(submissions_data_train.pivot_table(index='user_id',\n",
    "                        columns='submission_status',\n",
    "                        values='step_id', \n",
    "                        aggfunc='count', \n",
    "                        fill_value=0).reset_index())\n",
    "X"
   ]
  },
  {
   "cell_type": "code",
   "execution_count": 33,
   "id": "020f04a6",
   "metadata": {
    "execution": {
     "iopub.execute_input": "2022-03-09T14:31:19.024587Z",
     "iopub.status.busy": "2022-03-09T14:31:19.023973Z",
     "iopub.status.idle": "2022-03-09T14:31:19.026233Z",
     "shell.execute_reply": "2022-03-09T14:31:19.026800Z",
     "shell.execute_reply.started": "2022-03-09T14:26:10.793984Z"
    },
    "papermill": {
     "duration": 0.086548,
     "end_time": "2022-03-09T14:31:19.026982",
     "exception": false,
     "start_time": "2022-03-09T14:31:18.940434",
     "status": "completed"
    },
    "tags": []
   },
   "outputs": [],
   "source": [
    "X['correct_ratio'] = X.correct / (X.correct + X.wrong)"
   ]
  },
  {
   "cell_type": "code",
   "execution_count": 34,
   "id": "73011756",
   "metadata": {
    "execution": {
     "iopub.execute_input": "2022-03-09T14:31:19.186046Z",
     "iopub.status.busy": "2022-03-09T14:31:19.185464Z",
     "iopub.status.idle": "2022-03-09T14:31:19.416832Z",
     "shell.execute_reply": "2022-03-09T14:31:19.417347Z",
     "shell.execute_reply.started": "2022-03-09T14:26:10.801878Z"
    },
    "papermill": {
     "duration": 0.311817,
     "end_time": "2022-03-09T14:31:19.417545",
     "exception": false,
     "start_time": "2022-03-09T14:31:19.105728",
     "status": "completed"
    },
    "tags": []
   },
   "outputs": [
    {
     "data": {
      "text/html": [
       "<div>\n",
       "<style scoped>\n",
       "    .dataframe tbody tr th:only-of-type {\n",
       "        vertical-align: middle;\n",
       "    }\n",
       "\n",
       "    .dataframe tbody tr th {\n",
       "        vertical-align: top;\n",
       "    }\n",
       "\n",
       "    .dataframe thead th {\n",
       "        text-align: right;\n",
       "    }\n",
       "</style>\n",
       "<table border=\"1\" class=\"dataframe\">\n",
       "  <thead>\n",
       "    <tr style=\"text-align: right;\">\n",
       "      <th></th>\n",
       "      <th>user_id</th>\n",
       "      <th>days</th>\n",
       "      <th>steps_tried</th>\n",
       "      <th>correct</th>\n",
       "      <th>wrong</th>\n",
       "      <th>correct_ratio</th>\n",
       "      <th>viewed</th>\n",
       "    </tr>\n",
       "  </thead>\n",
       "  <tbody>\n",
       "    <tr>\n",
       "      <th>0</th>\n",
       "      <td>2</td>\n",
       "      <td>1.0</td>\n",
       "      <td>2.0</td>\n",
       "      <td>2.0</td>\n",
       "      <td>0.0</td>\n",
       "      <td>1.00</td>\n",
       "      <td>9</td>\n",
       "    </tr>\n",
       "    <tr>\n",
       "      <th>1</th>\n",
       "      <td>3</td>\n",
       "      <td>1.0</td>\n",
       "      <td>4.0</td>\n",
       "      <td>4.0</td>\n",
       "      <td>4.0</td>\n",
       "      <td>0.50</td>\n",
       "      <td>20</td>\n",
       "    </tr>\n",
       "    <tr>\n",
       "      <th>2</th>\n",
       "      <td>8</td>\n",
       "      <td>1.0</td>\n",
       "      <td>11.0</td>\n",
       "      <td>9.0</td>\n",
       "      <td>21.0</td>\n",
       "      <td>0.30</td>\n",
       "      <td>154</td>\n",
       "    </tr>\n",
       "    <tr>\n",
       "      <th>3</th>\n",
       "      <td>14</td>\n",
       "      <td>1.0</td>\n",
       "      <td>1.0</td>\n",
       "      <td>0.0</td>\n",
       "      <td>1.0</td>\n",
       "      <td>0.00</td>\n",
       "      <td>9</td>\n",
       "    </tr>\n",
       "    <tr>\n",
       "      <th>4</th>\n",
       "      <td>16</td>\n",
       "      <td>3.0</td>\n",
       "      <td>23.0</td>\n",
       "      <td>23.0</td>\n",
       "      <td>27.0</td>\n",
       "      <td>0.46</td>\n",
       "      <td>132</td>\n",
       "    </tr>\n",
       "    <tr>\n",
       "      <th>...</th>\n",
       "      <td>...</td>\n",
       "      <td>...</td>\n",
       "      <td>...</td>\n",
       "      <td>...</td>\n",
       "      <td>...</td>\n",
       "      <td>...</td>\n",
       "      <td>...</td>\n",
       "    </tr>\n",
       "    <tr>\n",
       "      <th>19229</th>\n",
       "      <td>26774</td>\n",
       "      <td>NaN</td>\n",
       "      <td>NaN</td>\n",
       "      <td>NaN</td>\n",
       "      <td>NaN</td>\n",
       "      <td>NaN</td>\n",
       "      <td>1</td>\n",
       "    </tr>\n",
       "    <tr>\n",
       "      <th>19230</th>\n",
       "      <td>26781</td>\n",
       "      <td>NaN</td>\n",
       "      <td>NaN</td>\n",
       "      <td>NaN</td>\n",
       "      <td>NaN</td>\n",
       "      <td>NaN</td>\n",
       "      <td>6</td>\n",
       "    </tr>\n",
       "    <tr>\n",
       "      <th>19231</th>\n",
       "      <td>26788</td>\n",
       "      <td>NaN</td>\n",
       "      <td>NaN</td>\n",
       "      <td>NaN</td>\n",
       "      <td>NaN</td>\n",
       "      <td>NaN</td>\n",
       "      <td>1</td>\n",
       "    </tr>\n",
       "    <tr>\n",
       "      <th>19232</th>\n",
       "      <td>26789</td>\n",
       "      <td>NaN</td>\n",
       "      <td>NaN</td>\n",
       "      <td>NaN</td>\n",
       "      <td>NaN</td>\n",
       "      <td>NaN</td>\n",
       "      <td>2</td>\n",
       "    </tr>\n",
       "    <tr>\n",
       "      <th>19233</th>\n",
       "      <td>26793</td>\n",
       "      <td>NaN</td>\n",
       "      <td>NaN</td>\n",
       "      <td>NaN</td>\n",
       "      <td>NaN</td>\n",
       "      <td>NaN</td>\n",
       "      <td>1</td>\n",
       "    </tr>\n",
       "  </tbody>\n",
       "</table>\n",
       "<p>19234 rows × 7 columns</p>\n",
       "</div>"
      ],
      "text/plain": [
       "       user_id  days  steps_tried  correct  wrong  correct_ratio  viewed\n",
       "0            2   1.0          2.0      2.0    0.0           1.00       9\n",
       "1            3   1.0          4.0      4.0    4.0           0.50      20\n",
       "2            8   1.0         11.0      9.0   21.0           0.30     154\n",
       "3           14   1.0          1.0      0.0    1.0           0.00       9\n",
       "4           16   3.0         23.0     23.0   27.0           0.46     132\n",
       "...        ...   ...          ...      ...    ...            ...     ...\n",
       "19229    26774   NaN          NaN      NaN    NaN            NaN       1\n",
       "19230    26781   NaN          NaN      NaN    NaN            NaN       6\n",
       "19231    26788   NaN          NaN      NaN    NaN            NaN       1\n",
       "19232    26789   NaN          NaN      NaN    NaN            NaN       2\n",
       "19233    26793   NaN          NaN      NaN    NaN            NaN       1\n",
       "\n",
       "[19234 rows x 7 columns]"
      ]
     },
     "execution_count": 34,
     "metadata": {},
     "output_type": "execute_result"
    }
   ],
   "source": [
    "# add number of viewed steps\n",
    "X = X.merge(events_data_train.pivot_table(index='user_id',\n",
    "                        columns='action',\n",
    "                        values='step_id', \n",
    "                        aggfunc='count', \n",
    "                        fill_value=0).reset_index()[['user_id', 'viewed']], how='outer')\n",
    "X"
   ]
  },
  {
   "cell_type": "code",
   "execution_count": 35,
   "id": "ee9fdb0f",
   "metadata": {
    "execution": {
     "iopub.execute_input": "2022-03-09T14:31:19.577106Z",
     "iopub.status.busy": "2022-03-09T14:31:19.576558Z",
     "iopub.status.idle": "2022-03-09T14:31:19.580745Z",
     "shell.execute_reply": "2022-03-09T14:31:19.581251Z",
     "shell.execute_reply.started": "2022-03-09T14:26:11.099337Z"
    },
    "papermill": {
     "duration": 0.085309,
     "end_time": "2022-03-09T14:31:19.581408",
     "exception": false,
     "start_time": "2022-03-09T14:31:19.496099",
     "status": "completed"
    },
    "tags": []
   },
   "outputs": [],
   "source": [
    "X = X.fillna(0)"
   ]
  },
  {
   "cell_type": "code",
   "execution_count": 36,
   "id": "6a4b24b7",
   "metadata": {
    "execution": {
     "iopub.execute_input": "2022-03-09T14:31:19.740261Z",
     "iopub.status.busy": "2022-03-09T14:31:19.739735Z",
     "iopub.status.idle": "2022-03-09T14:31:19.762084Z",
     "shell.execute_reply": "2022-03-09T14:31:19.762664Z",
     "shell.execute_reply.started": "2022-03-09T14:26:11.106617Z"
    },
    "papermill": {
     "duration": 0.103492,
     "end_time": "2022-03-09T14:31:19.762830",
     "exception": false,
     "start_time": "2022-03-09T14:31:19.659338",
     "status": "completed"
    },
    "tags": []
   },
   "outputs": [
    {
     "data": {
      "text/html": [
       "<div>\n",
       "<style scoped>\n",
       "    .dataframe tbody tr th:only-of-type {\n",
       "        vertical-align: middle;\n",
       "    }\n",
       "\n",
       "    .dataframe tbody tr th {\n",
       "        vertical-align: top;\n",
       "    }\n",
       "\n",
       "    .dataframe thead th {\n",
       "        text-align: right;\n",
       "    }\n",
       "</style>\n",
       "<table border=\"1\" class=\"dataframe\">\n",
       "  <thead>\n",
       "    <tr style=\"text-align: right;\">\n",
       "      <th></th>\n",
       "      <th>user_id</th>\n",
       "      <th>days</th>\n",
       "      <th>steps_tried</th>\n",
       "      <th>correct</th>\n",
       "      <th>wrong</th>\n",
       "      <th>correct_ratio</th>\n",
       "      <th>viewed</th>\n",
       "      <th>passed_course</th>\n",
       "      <th>is_gone_user</th>\n",
       "    </tr>\n",
       "  </thead>\n",
       "  <tbody>\n",
       "    <tr>\n",
       "      <th>0</th>\n",
       "      <td>2</td>\n",
       "      <td>1.0</td>\n",
       "      <td>2.0</td>\n",
       "      <td>2.0</td>\n",
       "      <td>0.0</td>\n",
       "      <td>1.00</td>\n",
       "      <td>9</td>\n",
       "      <td>False</td>\n",
       "      <td>True</td>\n",
       "    </tr>\n",
       "    <tr>\n",
       "      <th>1</th>\n",
       "      <td>3</td>\n",
       "      <td>1.0</td>\n",
       "      <td>4.0</td>\n",
       "      <td>4.0</td>\n",
       "      <td>4.0</td>\n",
       "      <td>0.50</td>\n",
       "      <td>20</td>\n",
       "      <td>False</td>\n",
       "      <td>True</td>\n",
       "    </tr>\n",
       "    <tr>\n",
       "      <th>2</th>\n",
       "      <td>8</td>\n",
       "      <td>1.0</td>\n",
       "      <td>11.0</td>\n",
       "      <td>9.0</td>\n",
       "      <td>21.0</td>\n",
       "      <td>0.30</td>\n",
       "      <td>154</td>\n",
       "      <td>False</td>\n",
       "      <td>True</td>\n",
       "    </tr>\n",
       "    <tr>\n",
       "      <th>3</th>\n",
       "      <td>14</td>\n",
       "      <td>1.0</td>\n",
       "      <td>1.0</td>\n",
       "      <td>0.0</td>\n",
       "      <td>1.0</td>\n",
       "      <td>0.00</td>\n",
       "      <td>9</td>\n",
       "      <td>False</td>\n",
       "      <td>True</td>\n",
       "    </tr>\n",
       "    <tr>\n",
       "      <th>4</th>\n",
       "      <td>16</td>\n",
       "      <td>3.0</td>\n",
       "      <td>23.0</td>\n",
       "      <td>23.0</td>\n",
       "      <td>27.0</td>\n",
       "      <td>0.46</td>\n",
       "      <td>132</td>\n",
       "      <td>True</td>\n",
       "      <td>True</td>\n",
       "    </tr>\n",
       "    <tr>\n",
       "      <th>...</th>\n",
       "      <td>...</td>\n",
       "      <td>...</td>\n",
       "      <td>...</td>\n",
       "      <td>...</td>\n",
       "      <td>...</td>\n",
       "      <td>...</td>\n",
       "      <td>...</td>\n",
       "      <td>...</td>\n",
       "      <td>...</td>\n",
       "    </tr>\n",
       "    <tr>\n",
       "      <th>19229</th>\n",
       "      <td>26774</td>\n",
       "      <td>0.0</td>\n",
       "      <td>0.0</td>\n",
       "      <td>0.0</td>\n",
       "      <td>0.0</td>\n",
       "      <td>0.00</td>\n",
       "      <td>1</td>\n",
       "      <td>False</td>\n",
       "      <td>True</td>\n",
       "    </tr>\n",
       "    <tr>\n",
       "      <th>19230</th>\n",
       "      <td>26781</td>\n",
       "      <td>0.0</td>\n",
       "      <td>0.0</td>\n",
       "      <td>0.0</td>\n",
       "      <td>0.0</td>\n",
       "      <td>0.00</td>\n",
       "      <td>6</td>\n",
       "      <td>True</td>\n",
       "      <td>True</td>\n",
       "    </tr>\n",
       "    <tr>\n",
       "      <th>19231</th>\n",
       "      <td>26788</td>\n",
       "      <td>0.0</td>\n",
       "      <td>0.0</td>\n",
       "      <td>0.0</td>\n",
       "      <td>0.0</td>\n",
       "      <td>0.00</td>\n",
       "      <td>1</td>\n",
       "      <td>False</td>\n",
       "      <td>True</td>\n",
       "    </tr>\n",
       "    <tr>\n",
       "      <th>19232</th>\n",
       "      <td>26789</td>\n",
       "      <td>0.0</td>\n",
       "      <td>0.0</td>\n",
       "      <td>0.0</td>\n",
       "      <td>0.0</td>\n",
       "      <td>0.00</td>\n",
       "      <td>2</td>\n",
       "      <td>False</td>\n",
       "      <td>True</td>\n",
       "    </tr>\n",
       "    <tr>\n",
       "      <th>19233</th>\n",
       "      <td>26793</td>\n",
       "      <td>0.0</td>\n",
       "      <td>0.0</td>\n",
       "      <td>0.0</td>\n",
       "      <td>0.0</td>\n",
       "      <td>0.00</td>\n",
       "      <td>1</td>\n",
       "      <td>False</td>\n",
       "      <td>True</td>\n",
       "    </tr>\n",
       "  </tbody>\n",
       "</table>\n",
       "<p>19234 rows × 9 columns</p>\n",
       "</div>"
      ],
      "text/plain": [
       "       user_id  days  steps_tried  correct  wrong  correct_ratio  viewed  \\\n",
       "0            2   1.0          2.0      2.0    0.0           1.00       9   \n",
       "1            3   1.0          4.0      4.0    4.0           0.50      20   \n",
       "2            8   1.0         11.0      9.0   21.0           0.30     154   \n",
       "3           14   1.0          1.0      0.0    1.0           0.00       9   \n",
       "4           16   3.0         23.0     23.0   27.0           0.46     132   \n",
       "...        ...   ...          ...      ...    ...            ...     ...   \n",
       "19229    26774   0.0          0.0      0.0    0.0           0.00       1   \n",
       "19230    26781   0.0          0.0      0.0    0.0           0.00       6   \n",
       "19231    26788   0.0          0.0      0.0    0.0           0.00       1   \n",
       "19232    26789   0.0          0.0      0.0    0.0           0.00       2   \n",
       "19233    26793   0.0          0.0      0.0    0.0           0.00       1   \n",
       "\n",
       "       passed_course  is_gone_user  \n",
       "0              False          True  \n",
       "1              False          True  \n",
       "2              False          True  \n",
       "3              False          True  \n",
       "4               True          True  \n",
       "...              ...           ...  \n",
       "19229          False          True  \n",
       "19230           True          True  \n",
       "19231          False          True  \n",
       "19232          False          True  \n",
       "19233          False          True  \n",
       "\n",
       "[19234 rows x 9 columns]"
      ]
     },
     "execution_count": 36,
     "metadata": {},
     "output_type": "execute_result"
    }
   ],
   "source": [
    "# add additional data for easy mark-up\n",
    "X = X.merge(users_data[['user_id', 'passed_course', 'is_gone_user']], how='outer')\n",
    "X"
   ]
  },
  {
   "cell_type": "code",
   "execution_count": 37,
   "id": "0e75a805",
   "metadata": {
    "execution": {
     "iopub.execute_input": "2022-03-09T14:31:19.923799Z",
     "iopub.status.busy": "2022-03-09T14:31:19.923215Z",
     "iopub.status.idle": "2022-03-09T14:31:19.942475Z",
     "shell.execute_reply": "2022-03-09T14:31:19.942935Z",
     "shell.execute_reply.started": "2022-03-09T14:26:11.147094Z"
    },
    "papermill": {
     "duration": 0.100882,
     "end_time": "2022-03-09T14:31:19.943091",
     "exception": false,
     "start_time": "2022-03-09T14:31:19.842209",
     "status": "completed"
    },
    "tags": []
   },
   "outputs": [
    {
     "data": {
      "text/html": [
       "<div>\n",
       "<style scoped>\n",
       "    .dataframe tbody tr th:only-of-type {\n",
       "        vertical-align: middle;\n",
       "    }\n",
       "\n",
       "    .dataframe tbody tr th {\n",
       "        vertical-align: top;\n",
       "    }\n",
       "\n",
       "    .dataframe thead th {\n",
       "        text-align: right;\n",
       "    }\n",
       "</style>\n",
       "<table border=\"1\" class=\"dataframe\">\n",
       "  <thead>\n",
       "    <tr style=\"text-align: right;\">\n",
       "      <th></th>\n",
       "      <th>user_id</th>\n",
       "      <th>days</th>\n",
       "      <th>steps_tried</th>\n",
       "      <th>correct</th>\n",
       "      <th>wrong</th>\n",
       "      <th>correct_ratio</th>\n",
       "      <th>viewed</th>\n",
       "      <th>passed_course</th>\n",
       "      <th>is_gone_user</th>\n",
       "    </tr>\n",
       "  </thead>\n",
       "  <tbody>\n",
       "    <tr>\n",
       "      <th>0</th>\n",
       "      <td>2</td>\n",
       "      <td>1.0</td>\n",
       "      <td>2.0</td>\n",
       "      <td>2.0</td>\n",
       "      <td>0.0</td>\n",
       "      <td>1.00</td>\n",
       "      <td>9</td>\n",
       "      <td>False</td>\n",
       "      <td>True</td>\n",
       "    </tr>\n",
       "    <tr>\n",
       "      <th>1</th>\n",
       "      <td>3</td>\n",
       "      <td>1.0</td>\n",
       "      <td>4.0</td>\n",
       "      <td>4.0</td>\n",
       "      <td>4.0</td>\n",
       "      <td>0.50</td>\n",
       "      <td>20</td>\n",
       "      <td>False</td>\n",
       "      <td>True</td>\n",
       "    </tr>\n",
       "    <tr>\n",
       "      <th>2</th>\n",
       "      <td>8</td>\n",
       "      <td>1.0</td>\n",
       "      <td>11.0</td>\n",
       "      <td>9.0</td>\n",
       "      <td>21.0</td>\n",
       "      <td>0.30</td>\n",
       "      <td>154</td>\n",
       "      <td>False</td>\n",
       "      <td>True</td>\n",
       "    </tr>\n",
       "    <tr>\n",
       "      <th>3</th>\n",
       "      <td>14</td>\n",
       "      <td>1.0</td>\n",
       "      <td>1.0</td>\n",
       "      <td>0.0</td>\n",
       "      <td>1.0</td>\n",
       "      <td>0.00</td>\n",
       "      <td>9</td>\n",
       "      <td>False</td>\n",
       "      <td>True</td>\n",
       "    </tr>\n",
       "    <tr>\n",
       "      <th>4</th>\n",
       "      <td>16</td>\n",
       "      <td>3.0</td>\n",
       "      <td>23.0</td>\n",
       "      <td>23.0</td>\n",
       "      <td>27.0</td>\n",
       "      <td>0.46</td>\n",
       "      <td>132</td>\n",
       "      <td>True</td>\n",
       "      <td>True</td>\n",
       "    </tr>\n",
       "    <tr>\n",
       "      <th>...</th>\n",
       "      <td>...</td>\n",
       "      <td>...</td>\n",
       "      <td>...</td>\n",
       "      <td>...</td>\n",
       "      <td>...</td>\n",
       "      <td>...</td>\n",
       "      <td>...</td>\n",
       "      <td>...</td>\n",
       "      <td>...</td>\n",
       "    </tr>\n",
       "    <tr>\n",
       "      <th>19229</th>\n",
       "      <td>26774</td>\n",
       "      <td>0.0</td>\n",
       "      <td>0.0</td>\n",
       "      <td>0.0</td>\n",
       "      <td>0.0</td>\n",
       "      <td>0.00</td>\n",
       "      <td>1</td>\n",
       "      <td>False</td>\n",
       "      <td>True</td>\n",
       "    </tr>\n",
       "    <tr>\n",
       "      <th>19230</th>\n",
       "      <td>26781</td>\n",
       "      <td>0.0</td>\n",
       "      <td>0.0</td>\n",
       "      <td>0.0</td>\n",
       "      <td>0.0</td>\n",
       "      <td>0.00</td>\n",
       "      <td>6</td>\n",
       "      <td>True</td>\n",
       "      <td>True</td>\n",
       "    </tr>\n",
       "    <tr>\n",
       "      <th>19231</th>\n",
       "      <td>26788</td>\n",
       "      <td>0.0</td>\n",
       "      <td>0.0</td>\n",
       "      <td>0.0</td>\n",
       "      <td>0.0</td>\n",
       "      <td>0.00</td>\n",
       "      <td>1</td>\n",
       "      <td>False</td>\n",
       "      <td>True</td>\n",
       "    </tr>\n",
       "    <tr>\n",
       "      <th>19232</th>\n",
       "      <td>26789</td>\n",
       "      <td>0.0</td>\n",
       "      <td>0.0</td>\n",
       "      <td>0.0</td>\n",
       "      <td>0.0</td>\n",
       "      <td>0.00</td>\n",
       "      <td>2</td>\n",
       "      <td>False</td>\n",
       "      <td>True</td>\n",
       "    </tr>\n",
       "    <tr>\n",
       "      <th>19233</th>\n",
       "      <td>26793</td>\n",
       "      <td>0.0</td>\n",
       "      <td>0.0</td>\n",
       "      <td>0.0</td>\n",
       "      <td>0.0</td>\n",
       "      <td>0.00</td>\n",
       "      <td>1</td>\n",
       "      <td>False</td>\n",
       "      <td>True</td>\n",
       "    </tr>\n",
       "  </tbody>\n",
       "</table>\n",
       "<p>17980 rows × 9 columns</p>\n",
       "</div>"
      ],
      "text/plain": [
       "       user_id  days  steps_tried  correct  wrong  correct_ratio  viewed  \\\n",
       "0            2   1.0          2.0      2.0    0.0           1.00       9   \n",
       "1            3   1.0          4.0      4.0    4.0           0.50      20   \n",
       "2            8   1.0         11.0      9.0   21.0           0.30     154   \n",
       "3           14   1.0          1.0      0.0    1.0           0.00       9   \n",
       "4           16   3.0         23.0     23.0   27.0           0.46     132   \n",
       "...        ...   ...          ...      ...    ...            ...     ...   \n",
       "19229    26774   0.0          0.0      0.0    0.0           0.00       1   \n",
       "19230    26781   0.0          0.0      0.0    0.0           0.00       6   \n",
       "19231    26788   0.0          0.0      0.0    0.0           0.00       1   \n",
       "19232    26789   0.0          0.0      0.0    0.0           0.00       2   \n",
       "19233    26793   0.0          0.0      0.0    0.0           0.00       1   \n",
       "\n",
       "       passed_course  is_gone_user  \n",
       "0              False          True  \n",
       "1              False          True  \n",
       "2              False          True  \n",
       "3              False          True  \n",
       "4               True          True  \n",
       "...              ...           ...  \n",
       "19229          False          True  \n",
       "19230           True          True  \n",
       "19231          False          True  \n",
       "19232          False          True  \n",
       "19233          False          True  \n",
       "\n",
       "[17980 rows x 9 columns]"
      ]
     },
     "execution_count": 37,
     "metadata": {},
     "output_type": "execute_result"
    }
   ],
   "source": [
    "# filtering users\n",
    "X= X[(X.is_gone_user == True) | (X.passed_course == True)]\n",
    "X"
   ]
  },
  {
   "cell_type": "code",
   "execution_count": 38,
   "id": "94c67e53",
   "metadata": {
    "execution": {
     "iopub.execute_input": "2022-03-09T14:31:20.106467Z",
     "iopub.status.busy": "2022-03-09T14:31:20.105900Z",
     "iopub.status.idle": "2022-03-09T14:31:20.113781Z",
     "shell.execute_reply": "2022-03-09T14:31:20.114280Z",
     "shell.execute_reply.started": "2022-03-09T14:26:11.172404Z"
    },
    "papermill": {
     "duration": 0.091241,
     "end_time": "2022-03-09T14:31:20.114456",
     "exception": false,
     "start_time": "2022-03-09T14:31:20.023215",
     "status": "completed"
    },
    "tags": []
   },
   "outputs": [
    {
     "data": {
      "text/plain": [
       "passed_course  is_gone_user\n",
       "False          True            16590\n",
       "True           False             136\n",
       "               True             1254\n",
       "Name: user_id, dtype: int64"
      ]
     },
     "execution_count": 38,
     "metadata": {},
     "output_type": "execute_result"
    }
   ],
   "source": [
    "# counting users\n",
    "X.groupby(['passed_course', 'is_gone_user']).user_id.count()"
   ]
  },
  {
   "cell_type": "code",
   "execution_count": 39,
   "id": "99b576d4",
   "metadata": {
    "execution": {
     "iopub.execute_input": "2022-03-09T14:31:20.281939Z",
     "iopub.status.busy": "2022-03-09T14:31:20.281062Z",
     "iopub.status.idle": "2022-03-09T14:31:20.292647Z",
     "shell.execute_reply": "2022-03-09T14:31:20.293083Z",
     "shell.execute_reply.started": "2022-03-09T14:26:11.184810Z"
    },
    "papermill": {
     "duration": 0.097335,
     "end_time": "2022-03-09T14:31:20.293235",
     "exception": false,
     "start_time": "2022-03-09T14:31:20.195900",
     "status": "completed"
    },
    "tags": []
   },
   "outputs": [
    {
     "data": {
      "text/plain": [
       "0        0\n",
       "1        0\n",
       "2        0\n",
       "3        0\n",
       "4        1\n",
       "        ..\n",
       "19229    0\n",
       "19230    1\n",
       "19231    0\n",
       "19232    0\n",
       "19233    0\n",
       "Name: passed_course, Length: 17980, dtype: int64"
      ]
     },
     "execution_count": 39,
     "metadata": {},
     "output_type": "execute_result"
    }
   ],
   "source": [
    "# creating target for model training\n",
    "y = X.passed_course.map(int)\n",
    "y"
   ]
  },
  {
   "cell_type": "code",
   "execution_count": 40,
   "id": "ce1bfe92",
   "metadata": {
    "execution": {
     "iopub.execute_input": "2022-03-09T14:31:20.459641Z",
     "iopub.status.busy": "2022-03-09T14:31:20.458709Z",
     "iopub.status.idle": "2022-03-09T14:31:20.476472Z",
     "shell.execute_reply": "2022-03-09T14:31:20.476919Z",
     "shell.execute_reply.started": "2022-03-09T14:26:11.198074Z"
    },
    "papermill": {
     "duration": 0.10274,
     "end_time": "2022-03-09T14:31:20.477070",
     "exception": false,
     "start_time": "2022-03-09T14:31:20.374330",
     "status": "completed"
    },
    "tags": []
   },
   "outputs": [
    {
     "data": {
      "text/html": [
       "<div>\n",
       "<style scoped>\n",
       "    .dataframe tbody tr th:only-of-type {\n",
       "        vertical-align: middle;\n",
       "    }\n",
       "\n",
       "    .dataframe tbody tr th {\n",
       "        vertical-align: top;\n",
       "    }\n",
       "\n",
       "    .dataframe thead th {\n",
       "        text-align: right;\n",
       "    }\n",
       "</style>\n",
       "<table border=\"1\" class=\"dataframe\">\n",
       "  <thead>\n",
       "    <tr style=\"text-align: right;\">\n",
       "      <th></th>\n",
       "      <th>days</th>\n",
       "      <th>steps_tried</th>\n",
       "      <th>correct</th>\n",
       "      <th>wrong</th>\n",
       "      <th>correct_ratio</th>\n",
       "      <th>viewed</th>\n",
       "    </tr>\n",
       "    <tr>\n",
       "      <th>user_id</th>\n",
       "      <th></th>\n",
       "      <th></th>\n",
       "      <th></th>\n",
       "      <th></th>\n",
       "      <th></th>\n",
       "      <th></th>\n",
       "    </tr>\n",
       "  </thead>\n",
       "  <tbody>\n",
       "    <tr>\n",
       "      <th>2</th>\n",
       "      <td>1.0</td>\n",
       "      <td>2.0</td>\n",
       "      <td>2.0</td>\n",
       "      <td>0.0</td>\n",
       "      <td>1.00</td>\n",
       "      <td>9</td>\n",
       "    </tr>\n",
       "    <tr>\n",
       "      <th>3</th>\n",
       "      <td>1.0</td>\n",
       "      <td>4.0</td>\n",
       "      <td>4.0</td>\n",
       "      <td>4.0</td>\n",
       "      <td>0.50</td>\n",
       "      <td>20</td>\n",
       "    </tr>\n",
       "    <tr>\n",
       "      <th>8</th>\n",
       "      <td>1.0</td>\n",
       "      <td>11.0</td>\n",
       "      <td>9.0</td>\n",
       "      <td>21.0</td>\n",
       "      <td>0.30</td>\n",
       "      <td>154</td>\n",
       "    </tr>\n",
       "    <tr>\n",
       "      <th>14</th>\n",
       "      <td>1.0</td>\n",
       "      <td>1.0</td>\n",
       "      <td>0.0</td>\n",
       "      <td>1.0</td>\n",
       "      <td>0.00</td>\n",
       "      <td>9</td>\n",
       "    </tr>\n",
       "    <tr>\n",
       "      <th>16</th>\n",
       "      <td>3.0</td>\n",
       "      <td>23.0</td>\n",
       "      <td>23.0</td>\n",
       "      <td>27.0</td>\n",
       "      <td>0.46</td>\n",
       "      <td>132</td>\n",
       "    </tr>\n",
       "    <tr>\n",
       "      <th>...</th>\n",
       "      <td>...</td>\n",
       "      <td>...</td>\n",
       "      <td>...</td>\n",
       "      <td>...</td>\n",
       "      <td>...</td>\n",
       "      <td>...</td>\n",
       "    </tr>\n",
       "    <tr>\n",
       "      <th>26774</th>\n",
       "      <td>0.0</td>\n",
       "      <td>0.0</td>\n",
       "      <td>0.0</td>\n",
       "      <td>0.0</td>\n",
       "      <td>0.00</td>\n",
       "      <td>1</td>\n",
       "    </tr>\n",
       "    <tr>\n",
       "      <th>26781</th>\n",
       "      <td>0.0</td>\n",
       "      <td>0.0</td>\n",
       "      <td>0.0</td>\n",
       "      <td>0.0</td>\n",
       "      <td>0.00</td>\n",
       "      <td>6</td>\n",
       "    </tr>\n",
       "    <tr>\n",
       "      <th>26788</th>\n",
       "      <td>0.0</td>\n",
       "      <td>0.0</td>\n",
       "      <td>0.0</td>\n",
       "      <td>0.0</td>\n",
       "      <td>0.00</td>\n",
       "      <td>1</td>\n",
       "    </tr>\n",
       "    <tr>\n",
       "      <th>26789</th>\n",
       "      <td>0.0</td>\n",
       "      <td>0.0</td>\n",
       "      <td>0.0</td>\n",
       "      <td>0.0</td>\n",
       "      <td>0.00</td>\n",
       "      <td>2</td>\n",
       "    </tr>\n",
       "    <tr>\n",
       "      <th>26793</th>\n",
       "      <td>0.0</td>\n",
       "      <td>0.0</td>\n",
       "      <td>0.0</td>\n",
       "      <td>0.0</td>\n",
       "      <td>0.00</td>\n",
       "      <td>1</td>\n",
       "    </tr>\n",
       "  </tbody>\n",
       "</table>\n",
       "<p>17980 rows × 6 columns</p>\n",
       "</div>"
      ],
      "text/plain": [
       "         days  steps_tried  correct  wrong  correct_ratio  viewed\n",
       "user_id                                                          \n",
       "2         1.0          2.0      2.0    0.0           1.00       9\n",
       "3         1.0          4.0      4.0    4.0           0.50      20\n",
       "8         1.0         11.0      9.0   21.0           0.30     154\n",
       "14        1.0          1.0      0.0    1.0           0.00       9\n",
       "16        3.0         23.0     23.0   27.0           0.46     132\n",
       "...       ...          ...      ...    ...            ...     ...\n",
       "26774     0.0          0.0      0.0    0.0           0.00       1\n",
       "26781     0.0          0.0      0.0    0.0           0.00       6\n",
       "26788     0.0          0.0      0.0    0.0           0.00       1\n",
       "26789     0.0          0.0      0.0    0.0           0.00       2\n",
       "26793     0.0          0.0      0.0    0.0           0.00       1\n",
       "\n",
       "[17980 rows x 6 columns]"
      ]
     },
     "execution_count": 40,
     "metadata": {},
     "output_type": "execute_result"
    }
   ],
   "source": [
    "# cleaning of training features\n",
    "X = X.drop(['passed_course', 'is_gone_user'], axis=1)\n",
    "X = X.set_index(X.user_id)\n",
    "X = X.drop('user_id', axis=1)\n",
    "X"
   ]
  },
  {
   "cell_type": "code",
   "execution_count": 41,
   "id": "0dbb170d",
   "metadata": {
    "execution": {
     "iopub.execute_input": "2022-03-09T14:31:20.643087Z",
     "iopub.status.busy": "2022-03-09T14:31:20.642454Z",
     "iopub.status.idle": "2022-03-09T14:31:20.797796Z",
     "shell.execute_reply": "2022-03-09T14:31:20.798284Z",
     "shell.execute_reply.started": "2022-03-09T14:26:11.223917Z"
    },
    "papermill": {
     "duration": 0.240734,
     "end_time": "2022-03-09T14:31:20.798478",
     "exception": false,
     "start_time": "2022-03-09T14:31:20.557744",
     "status": "completed"
    },
    "tags": []
   },
   "outputs": [],
   "source": [
    "# splitting the data for training and test\n",
    "from sklearn.model_selection import train_test_split\n",
    "X_train, X_test, y_train, y_test = train_test_split(X, y)"
   ]
  },
  {
   "cell_type": "code",
   "execution_count": 42,
   "id": "c193dc02",
   "metadata": {
    "execution": {
     "iopub.execute_input": "2022-03-09T14:31:20.978028Z",
     "iopub.status.busy": "2022-03-09T14:31:20.977372Z",
     "iopub.status.idle": "2022-03-09T14:31:20.981059Z",
     "shell.execute_reply": "2022-03-09T14:31:20.980610Z",
     "shell.execute_reply.started": "2022-03-09T14:26:11.415143Z"
    },
    "papermill": {
     "duration": 0.098858,
     "end_time": "2022-03-09T14:31:20.981183",
     "exception": false,
     "start_time": "2022-03-09T14:31:20.882325",
     "status": "completed"
    },
    "tags": []
   },
   "outputs": [
    {
     "data": {
      "text/html": [
       "<div>\n",
       "<style scoped>\n",
       "    .dataframe tbody tr th:only-of-type {\n",
       "        vertical-align: middle;\n",
       "    }\n",
       "\n",
       "    .dataframe tbody tr th {\n",
       "        vertical-align: top;\n",
       "    }\n",
       "\n",
       "    .dataframe thead th {\n",
       "        text-align: right;\n",
       "    }\n",
       "</style>\n",
       "<table border=\"1\" class=\"dataframe\">\n",
       "  <thead>\n",
       "    <tr style=\"text-align: right;\">\n",
       "      <th></th>\n",
       "      <th>days</th>\n",
       "      <th>steps_tried</th>\n",
       "      <th>correct</th>\n",
       "      <th>wrong</th>\n",
       "      <th>correct_ratio</th>\n",
       "      <th>viewed</th>\n",
       "    </tr>\n",
       "    <tr>\n",
       "      <th>user_id</th>\n",
       "      <th></th>\n",
       "      <th></th>\n",
       "      <th></th>\n",
       "      <th></th>\n",
       "      <th></th>\n",
       "      <th></th>\n",
       "    </tr>\n",
       "  </thead>\n",
       "  <tbody>\n",
       "    <tr>\n",
       "      <th>8391</th>\n",
       "      <td>2.0</td>\n",
       "      <td>13.0</td>\n",
       "      <td>13.0</td>\n",
       "      <td>2.0</td>\n",
       "      <td>0.866667</td>\n",
       "      <td>136</td>\n",
       "    </tr>\n",
       "    <tr>\n",
       "      <th>5528</th>\n",
       "      <td>0.0</td>\n",
       "      <td>0.0</td>\n",
       "      <td>0.0</td>\n",
       "      <td>0.0</td>\n",
       "      <td>0.000000</td>\n",
       "      <td>2</td>\n",
       "    </tr>\n",
       "    <tr>\n",
       "      <th>17253</th>\n",
       "      <td>1.0</td>\n",
       "      <td>5.0</td>\n",
       "      <td>5.0</td>\n",
       "      <td>1.0</td>\n",
       "      <td>0.833333</td>\n",
       "      <td>18</td>\n",
       "    </tr>\n",
       "    <tr>\n",
       "      <th>18571</th>\n",
       "      <td>3.0</td>\n",
       "      <td>68.0</td>\n",
       "      <td>68.0</td>\n",
       "      <td>3.0</td>\n",
       "      <td>0.957746</td>\n",
       "      <td>220</td>\n",
       "    </tr>\n",
       "    <tr>\n",
       "      <th>22681</th>\n",
       "      <td>3.0</td>\n",
       "      <td>36.0</td>\n",
       "      <td>36.0</td>\n",
       "      <td>16.0</td>\n",
       "      <td>0.692308</td>\n",
       "      <td>138</td>\n",
       "    </tr>\n",
       "    <tr>\n",
       "      <th>...</th>\n",
       "      <td>...</td>\n",
       "      <td>...</td>\n",
       "      <td>...</td>\n",
       "      <td>...</td>\n",
       "      <td>...</td>\n",
       "      <td>...</td>\n",
       "    </tr>\n",
       "    <tr>\n",
       "      <th>26554</th>\n",
       "      <td>0.0</td>\n",
       "      <td>0.0</td>\n",
       "      <td>0.0</td>\n",
       "      <td>0.0</td>\n",
       "      <td>0.000000</td>\n",
       "      <td>1</td>\n",
       "    </tr>\n",
       "    <tr>\n",
       "      <th>12115</th>\n",
       "      <td>2.0</td>\n",
       "      <td>5.0</td>\n",
       "      <td>5.0</td>\n",
       "      <td>7.0</td>\n",
       "      <td>0.416667</td>\n",
       "      <td>36</td>\n",
       "    </tr>\n",
       "    <tr>\n",
       "      <th>20039</th>\n",
       "      <td>0.0</td>\n",
       "      <td>0.0</td>\n",
       "      <td>0.0</td>\n",
       "      <td>0.0</td>\n",
       "      <td>0.000000</td>\n",
       "      <td>1</td>\n",
       "    </tr>\n",
       "    <tr>\n",
       "      <th>12882</th>\n",
       "      <td>3.0</td>\n",
       "      <td>27.0</td>\n",
       "      <td>26.0</td>\n",
       "      <td>71.0</td>\n",
       "      <td>0.268041</td>\n",
       "      <td>167</td>\n",
       "    </tr>\n",
       "    <tr>\n",
       "      <th>4221</th>\n",
       "      <td>0.0</td>\n",
       "      <td>0.0</td>\n",
       "      <td>0.0</td>\n",
       "      <td>0.0</td>\n",
       "      <td>0.000000</td>\n",
       "      <td>1</td>\n",
       "    </tr>\n",
       "  </tbody>\n",
       "</table>\n",
       "<p>13485 rows × 6 columns</p>\n",
       "</div>"
      ],
      "text/plain": [
       "         days  steps_tried  correct  wrong  correct_ratio  viewed\n",
       "user_id                                                          \n",
       "8391      2.0         13.0     13.0    2.0       0.866667     136\n",
       "5528      0.0          0.0      0.0    0.0       0.000000       2\n",
       "17253     1.0          5.0      5.0    1.0       0.833333      18\n",
       "18571     3.0         68.0     68.0    3.0       0.957746     220\n",
       "22681     3.0         36.0     36.0   16.0       0.692308     138\n",
       "...       ...          ...      ...    ...            ...     ...\n",
       "26554     0.0          0.0      0.0    0.0       0.000000       1\n",
       "12115     2.0          5.0      5.0    7.0       0.416667      36\n",
       "20039     0.0          0.0      0.0    0.0       0.000000       1\n",
       "12882     3.0         27.0     26.0   71.0       0.268041     167\n",
       "4221      0.0          0.0      0.0    0.0       0.000000       1\n",
       "\n",
       "[13485 rows x 6 columns]"
      ]
     },
     "execution_count": 42,
     "metadata": {},
     "output_type": "execute_result"
    }
   ],
   "source": [
    "X_train"
   ]
  },
  {
   "cell_type": "code",
   "execution_count": 43,
   "id": "ed34d17a",
   "metadata": {
    "execution": {
     "iopub.execute_input": "2022-03-09T14:31:21.161130Z",
     "iopub.status.busy": "2022-03-09T14:31:21.160548Z",
     "iopub.status.idle": "2022-03-09T14:31:21.163883Z",
     "shell.execute_reply": "2022-03-09T14:31:21.164342Z",
     "shell.execute_reply.started": "2022-03-09T14:26:11.437785Z"
    },
    "papermill": {
     "duration": 0.100469,
     "end_time": "2022-03-09T14:31:21.164517",
     "exception": false,
     "start_time": "2022-03-09T14:31:21.064048",
     "status": "completed"
    },
    "tags": []
   },
   "outputs": [
    {
     "data": {
      "text/html": [
       "<div>\n",
       "<style scoped>\n",
       "    .dataframe tbody tr th:only-of-type {\n",
       "        vertical-align: middle;\n",
       "    }\n",
       "\n",
       "    .dataframe tbody tr th {\n",
       "        vertical-align: top;\n",
       "    }\n",
       "\n",
       "    .dataframe thead th {\n",
       "        text-align: right;\n",
       "    }\n",
       "</style>\n",
       "<table border=\"1\" class=\"dataframe\">\n",
       "  <thead>\n",
       "    <tr style=\"text-align: right;\">\n",
       "      <th></th>\n",
       "      <th>days</th>\n",
       "      <th>steps_tried</th>\n",
       "      <th>correct</th>\n",
       "      <th>wrong</th>\n",
       "      <th>correct_ratio</th>\n",
       "      <th>viewed</th>\n",
       "    </tr>\n",
       "    <tr>\n",
       "      <th>user_id</th>\n",
       "      <th></th>\n",
       "      <th></th>\n",
       "      <th></th>\n",
       "      <th></th>\n",
       "      <th></th>\n",
       "      <th></th>\n",
       "    </tr>\n",
       "  </thead>\n",
       "  <tbody>\n",
       "    <tr>\n",
       "      <th>17192</th>\n",
       "      <td>0.0</td>\n",
       "      <td>0.0</td>\n",
       "      <td>0.0</td>\n",
       "      <td>0.0</td>\n",
       "      <td>0.000000</td>\n",
       "      <td>2</td>\n",
       "    </tr>\n",
       "    <tr>\n",
       "      <th>25103</th>\n",
       "      <td>2.0</td>\n",
       "      <td>4.0</td>\n",
       "      <td>4.0</td>\n",
       "      <td>3.0</td>\n",
       "      <td>0.571429</td>\n",
       "      <td>48</td>\n",
       "    </tr>\n",
       "    <tr>\n",
       "      <th>14738</th>\n",
       "      <td>1.0</td>\n",
       "      <td>7.0</td>\n",
       "      <td>7.0</td>\n",
       "      <td>2.0</td>\n",
       "      <td>0.777778</td>\n",
       "      <td>25</td>\n",
       "    </tr>\n",
       "    <tr>\n",
       "      <th>22744</th>\n",
       "      <td>0.0</td>\n",
       "      <td>0.0</td>\n",
       "      <td>0.0</td>\n",
       "      <td>0.0</td>\n",
       "      <td>0.000000</td>\n",
       "      <td>1</td>\n",
       "    </tr>\n",
       "    <tr>\n",
       "      <th>17144</th>\n",
       "      <td>2.0</td>\n",
       "      <td>8.0</td>\n",
       "      <td>7.0</td>\n",
       "      <td>8.0</td>\n",
       "      <td>0.466667</td>\n",
       "      <td>56</td>\n",
       "    </tr>\n",
       "    <tr>\n",
       "      <th>...</th>\n",
       "      <td>...</td>\n",
       "      <td>...</td>\n",
       "      <td>...</td>\n",
       "      <td>...</td>\n",
       "      <td>...</td>\n",
       "      <td>...</td>\n",
       "    </tr>\n",
       "    <tr>\n",
       "      <th>4137</th>\n",
       "      <td>0.0</td>\n",
       "      <td>0.0</td>\n",
       "      <td>0.0</td>\n",
       "      <td>0.0</td>\n",
       "      <td>0.000000</td>\n",
       "      <td>1</td>\n",
       "    </tr>\n",
       "    <tr>\n",
       "      <th>25768</th>\n",
       "      <td>1.0</td>\n",
       "      <td>2.0</td>\n",
       "      <td>2.0</td>\n",
       "      <td>0.0</td>\n",
       "      <td>1.000000</td>\n",
       "      <td>9</td>\n",
       "    </tr>\n",
       "    <tr>\n",
       "      <th>21204</th>\n",
       "      <td>1.0</td>\n",
       "      <td>2.0</td>\n",
       "      <td>2.0</td>\n",
       "      <td>0.0</td>\n",
       "      <td>1.000000</td>\n",
       "      <td>13</td>\n",
       "    </tr>\n",
       "    <tr>\n",
       "      <th>11447</th>\n",
       "      <td>0.0</td>\n",
       "      <td>0.0</td>\n",
       "      <td>0.0</td>\n",
       "      <td>0.0</td>\n",
       "      <td>0.000000</td>\n",
       "      <td>1</td>\n",
       "    </tr>\n",
       "    <tr>\n",
       "      <th>8555</th>\n",
       "      <td>1.0</td>\n",
       "      <td>2.0</td>\n",
       "      <td>2.0</td>\n",
       "      <td>0.0</td>\n",
       "      <td>1.000000</td>\n",
       "      <td>18</td>\n",
       "    </tr>\n",
       "  </tbody>\n",
       "</table>\n",
       "<p>4495 rows × 6 columns</p>\n",
       "</div>"
      ],
      "text/plain": [
       "         days  steps_tried  correct  wrong  correct_ratio  viewed\n",
       "user_id                                                          \n",
       "17192     0.0          0.0      0.0    0.0       0.000000       2\n",
       "25103     2.0          4.0      4.0    3.0       0.571429      48\n",
       "14738     1.0          7.0      7.0    2.0       0.777778      25\n",
       "22744     0.0          0.0      0.0    0.0       0.000000       1\n",
       "17144     2.0          8.0      7.0    8.0       0.466667      56\n",
       "...       ...          ...      ...    ...            ...     ...\n",
       "4137      0.0          0.0      0.0    0.0       0.000000       1\n",
       "25768     1.0          2.0      2.0    0.0       1.000000       9\n",
       "21204     1.0          2.0      2.0    0.0       1.000000      13\n",
       "11447     0.0          0.0      0.0    0.0       0.000000       1\n",
       "8555      1.0          2.0      2.0    0.0       1.000000      18\n",
       "\n",
       "[4495 rows x 6 columns]"
      ]
     },
     "execution_count": 43,
     "metadata": {},
     "output_type": "execute_result"
    }
   ],
   "source": [
    "X_test"
   ]
  },
  {
   "cell_type": "code",
   "execution_count": 44,
   "id": "d1a5973e",
   "metadata": {
    "execution": {
     "iopub.execute_input": "2022-03-09T14:31:21.332098Z",
     "iopub.status.busy": "2022-03-09T14:31:21.331550Z",
     "iopub.status.idle": "2022-03-09T14:31:21.337980Z",
     "shell.execute_reply": "2022-03-09T14:31:21.337434Z",
     "shell.execute_reply.started": "2022-03-09T14:26:11.465535Z"
    },
    "papermill": {
     "duration": 0.09135,
     "end_time": "2022-03-09T14:31:21.338100",
     "exception": false,
     "start_time": "2022-03-09T14:31:21.246750",
     "status": "completed"
    },
    "tags": []
   },
   "outputs": [
    {
     "data": {
      "text/plain": [
       "2844     0\n",
       "11029    0\n",
       "5782     0\n",
       "6189     0\n",
       "7530     0\n",
       "        ..\n",
       "19143    0\n",
       "4054     0\n",
       "16655    0\n",
       "4305     0\n",
       "10522    0\n",
       "Name: passed_course, Length: 13485, dtype: int64"
      ]
     },
     "execution_count": 44,
     "metadata": {},
     "output_type": "execute_result"
    }
   ],
   "source": [
    "y_train"
   ]
  },
  {
   "cell_type": "code",
   "execution_count": 45,
   "id": "84793c84",
   "metadata": {
    "execution": {
     "iopub.execute_input": "2022-03-09T14:31:21.510035Z",
     "iopub.status.busy": "2022-03-09T14:31:21.509468Z",
     "iopub.status.idle": "2022-03-09T14:31:21.511942Z",
     "shell.execute_reply": "2022-03-09T14:31:21.512468Z",
     "shell.execute_reply.started": "2022-03-09T14:26:11.472533Z"
    },
    "papermill": {
     "duration": 0.091475,
     "end_time": "2022-03-09T14:31:21.512628",
     "exception": false,
     "start_time": "2022-03-09T14:31:21.421153",
     "status": "completed"
    },
    "tags": []
   },
   "outputs": [
    {
     "data": {
      "text/plain": [
       "15536    0\n",
       "8335     0\n",
       "4947     0\n",
       "17690    0\n",
       "5745     0\n",
       "        ..\n",
       "10493    0\n",
       "8557     0\n",
       "7044     0\n",
       "13314    0\n",
       "2908     0\n",
       "Name: passed_course, Length: 4495, dtype: int64"
      ]
     },
     "execution_count": 45,
     "metadata": {},
     "output_type": "execute_result"
    }
   ],
   "source": [
    "y_test"
   ]
  },
  {
   "cell_type": "markdown",
   "id": "f8298d6e",
   "metadata": {
    "papermill": {
     "duration": 0.085491,
     "end_time": "2022-03-09T14:31:21.680514",
     "exception": false,
     "start_time": "2022-03-09T14:31:21.595023",
     "status": "completed"
    },
    "tags": []
   },
   "source": [
    "# Prediction model selection"
   ]
  },
  {
   "cell_type": "markdown",
   "id": "3f9a1919",
   "metadata": {
    "papermill": {
     "duration": 0.082776,
     "end_time": "2022-03-09T14:31:21.845423",
     "exception": false,
     "start_time": "2022-03-09T14:31:21.762647",
     "status": "completed"
    },
    "tags": []
   },
   "source": [
    "**Decision Tree Model**"
   ]
  },
  {
   "cell_type": "code",
   "execution_count": 46,
   "id": "cdd036f2",
   "metadata": {
    "execution": {
     "iopub.execute_input": "2022-03-09T14:31:22.014617Z",
     "iopub.status.busy": "2022-03-09T14:31:22.012874Z",
     "iopub.status.idle": "2022-03-09T14:31:22.152317Z",
     "shell.execute_reply": "2022-03-09T14:31:22.151785Z",
     "shell.execute_reply.started": "2022-03-09T14:26:11.485121Z"
    },
    "papermill": {
     "duration": 0.224033,
     "end_time": "2022-03-09T14:31:22.152481",
     "exception": false,
     "start_time": "2022-03-09T14:31:21.928448",
     "status": "completed"
    },
    "tags": []
   },
   "outputs": [],
   "source": [
    "from sklearn.tree import DecisionTreeClassifier\n",
    "dtc = DecisionTreeClassifier(criterion='entropy')"
   ]
  },
  {
   "cell_type": "code",
   "execution_count": 47,
   "id": "ea3daa54",
   "metadata": {
    "execution": {
     "iopub.execute_input": "2022-03-09T14:31:22.328088Z",
     "iopub.status.busy": "2022-03-09T14:31:22.327497Z",
     "iopub.status.idle": "2022-03-09T14:31:22.806322Z",
     "shell.execute_reply": "2022-03-09T14:31:22.805850Z",
     "shell.execute_reply.started": "2022-03-09T14:26:11.649997Z"
    },
    "papermill": {
     "duration": 0.570607,
     "end_time": "2022-03-09T14:31:22.806469",
     "exception": false,
     "start_time": "2022-03-09T14:31:22.235862",
     "status": "completed"
    },
    "tags": []
   },
   "outputs": [
    {
     "data": {
      "text/plain": [
       "DecisionTreeClassifier(criterion='entropy', max_depth=3, min_samples_leaf=200,\n",
       "                       min_samples_split=400)"
      ]
     },
     "execution_count": 47,
     "metadata": {},
     "output_type": "execute_result"
    }
   ],
   "source": [
    "# hyperparameters optimisation (randomized)\n",
    "from sklearn.model_selection import RandomizedSearchCV\n",
    "params = {'max_depth' : range(1,8), 'min_samples_leaf': range(50, 1000, 50), 'min_samples_split': range(50, 1000, 50)}\n",
    "search_random = RandomizedSearchCV(dtc, params, cv = 5)\n",
    "search_random.fit(X_train, y_train)\n",
    "best_tree_random = search_random.best_estimator_\n",
    "best_tree_random"
   ]
  },
  {
   "cell_type": "code",
   "execution_count": 48,
   "id": "8b1d4d1f",
   "metadata": {
    "execution": {
     "iopub.execute_input": "2022-03-09T14:31:22.976886Z",
     "iopub.status.busy": "2022-03-09T14:31:22.976274Z",
     "iopub.status.idle": "2022-03-09T14:31:22.983545Z",
     "shell.execute_reply": "2022-03-09T14:31:22.983984Z",
     "shell.execute_reply.started": "2022-03-09T14:26:12.230022Z"
    },
    "papermill": {
     "duration": 0.093531,
     "end_time": "2022-03-09T14:31:22.984132",
     "exception": false,
     "start_time": "2022-03-09T14:31:22.890601",
     "status": "completed"
    },
    "tags": []
   },
   "outputs": [
    {
     "data": {
      "text/plain": [
       "0.9227289581015944"
      ]
     },
     "execution_count": 48,
     "metadata": {},
     "output_type": "execute_result"
    }
   ],
   "source": [
    "best_tree_random.score(X_train, y_train)"
   ]
  },
  {
   "cell_type": "code",
   "execution_count": 49,
   "id": "35611fcf",
   "metadata": {
    "execution": {
     "iopub.execute_input": "2022-03-09T14:31:23.156588Z",
     "iopub.status.busy": "2022-03-09T14:31:23.156003Z",
     "iopub.status.idle": "2022-03-09T14:31:23.162281Z",
     "shell.execute_reply": "2022-03-09T14:31:23.162754Z",
     "shell.execute_reply.started": "2022-03-09T14:26:12.239553Z"
    },
    "papermill": {
     "duration": 0.092546,
     "end_time": "2022-03-09T14:31:23.162921",
     "exception": false,
     "start_time": "2022-03-09T14:31:23.070375",
     "status": "completed"
    },
    "tags": []
   },
   "outputs": [
    {
     "data": {
      "text/plain": [
       "0.925027808676307"
      ]
     },
     "execution_count": 49,
     "metadata": {},
     "output_type": "execute_result"
    }
   ],
   "source": [
    "best_tree_random.score(X_test, y_test)"
   ]
  },
  {
   "cell_type": "code",
   "execution_count": 50,
   "id": "41995c3d",
   "metadata": {
    "execution": {
     "iopub.execute_input": "2022-03-09T14:31:23.334273Z",
     "iopub.status.busy": "2022-03-09T14:31:23.333706Z",
     "iopub.status.idle": "2022-03-09T14:32:22.915716Z",
     "shell.execute_reply": "2022-03-09T14:32:22.916300Z",
     "shell.execute_reply.started": "2022-03-09T14:26:12.253698Z"
    },
    "papermill": {
     "duration": 59.670561,
     "end_time": "2022-03-09T14:32:22.916588",
     "exception": false,
     "start_time": "2022-03-09T14:31:23.246027",
     "status": "completed"
    },
    "tags": []
   },
   "outputs": [
    {
     "data": {
      "text/plain": [
       "GridSearchCV(cv=5, estimator=DecisionTreeClassifier(criterion='entropy'),\n",
       "             param_grid={'max_depth': range(1, 5),\n",
       "                         'min_samples_leaf': range(50, 1000, 50),\n",
       "                         'min_samples_split': range(50, 1000, 50)})"
      ]
     },
     "execution_count": 50,
     "metadata": {},
     "output_type": "execute_result"
    }
   ],
   "source": [
    "# hyperparameters optimisation (GridSearch)\n",
    "from sklearn.model_selection import GridSearchCV\n",
    "params = {'max_depth' : range(1,5), 'min_samples_leaf': range(50, 1000, 50), 'min_samples_split': range(50, 1000, 50)}\n",
    "search_grid = GridSearchCV(dtc, params, cv = 5)\n",
    "search_grid.fit(X_train, y_train)"
   ]
  },
  {
   "cell_type": "code",
   "execution_count": 51,
   "id": "d0f39970",
   "metadata": {
    "execution": {
     "iopub.execute_input": "2022-03-09T14:32:23.095888Z",
     "iopub.status.busy": "2022-03-09T14:32:23.095004Z",
     "iopub.status.idle": "2022-03-09T14:32:23.100519Z",
     "shell.execute_reply": "2022-03-09T14:32:23.101032Z",
     "shell.execute_reply.started": "2022-03-09T14:27:26.124722Z"
    },
    "papermill": {
     "duration": 0.094385,
     "end_time": "2022-03-09T14:32:23.101180",
     "exception": false,
     "start_time": "2022-03-09T14:32:23.006795",
     "status": "completed"
    },
    "tags": []
   },
   "outputs": [
    {
     "data": {
      "text/plain": [
       "DecisionTreeClassifier(criterion='entropy', max_depth=3, min_samples_leaf=50,\n",
       "                       min_samples_split=850)"
      ]
     },
     "execution_count": 51,
     "metadata": {},
     "output_type": "execute_result"
    }
   ],
   "source": [
    "best_tree = search_grid.best_estimator_\n",
    "best_tree"
   ]
  },
  {
   "cell_type": "code",
   "execution_count": 52,
   "id": "f105fdc8",
   "metadata": {
    "execution": {
     "iopub.execute_input": "2022-03-09T14:32:23.272123Z",
     "iopub.status.busy": "2022-03-09T14:32:23.271248Z",
     "iopub.status.idle": "2022-03-09T14:32:23.280539Z",
     "shell.execute_reply": "2022-03-09T14:32:23.281017Z",
     "shell.execute_reply.started": "2022-03-09T14:27:26.133504Z"
    },
    "papermill": {
     "duration": 0.096599,
     "end_time": "2022-03-09T14:32:23.281168",
     "exception": false,
     "start_time": "2022-03-09T14:32:23.184569",
     "status": "completed"
    },
    "tags": []
   },
   "outputs": [
    {
     "data": {
      "text/plain": [
       "0.9227289581015944"
      ]
     },
     "execution_count": 52,
     "metadata": {},
     "output_type": "execute_result"
    }
   ],
   "source": [
    "best_tree.score(X_train, y_train)"
   ]
  },
  {
   "cell_type": "code",
   "execution_count": 53,
   "id": "a50c39f8",
   "metadata": {
    "execution": {
     "iopub.execute_input": "2022-03-09T14:32:23.452551Z",
     "iopub.status.busy": "2022-03-09T14:32:23.451646Z",
     "iopub.status.idle": "2022-03-09T14:32:23.459400Z",
     "shell.execute_reply": "2022-03-09T14:32:23.459803Z",
     "shell.execute_reply.started": "2022-03-09T14:27:26.149376Z"
    },
    "papermill": {
     "duration": 0.095026,
     "end_time": "2022-03-09T14:32:23.459961",
     "exception": false,
     "start_time": "2022-03-09T14:32:23.364935",
     "status": "completed"
    },
    "tags": []
   },
   "outputs": [
    {
     "data": {
      "text/plain": [
       "0.925027808676307"
      ]
     },
     "execution_count": 53,
     "metadata": {},
     "output_type": "execute_result"
    }
   ],
   "source": [
    "best_tree.score(X_test, y_test)"
   ]
  },
  {
   "cell_type": "code",
   "execution_count": 54,
   "id": "1a1ffd33",
   "metadata": {
    "execution": {
     "iopub.execute_input": "2022-03-09T14:32:23.631988Z",
     "iopub.status.busy": "2022-03-09T14:32:23.631371Z",
     "iopub.status.idle": "2022-03-09T14:32:24.382177Z",
     "shell.execute_reply": "2022-03-09T14:32:24.382625Z",
     "shell.execute_reply.started": "2022-03-09T14:27:26.164124Z"
    },
    "papermill": {
     "duration": 0.838611,
     "end_time": "2022-03-09T14:32:24.382782",
     "exception": false,
     "start_time": "2022-03-09T14:32:23.544171",
     "status": "completed"
    },
    "tags": []
   },
   "outputs": [
    {
     "data": {
      "image/png": "[encoded data removed]",
      "text/plain": [
       "<Figure size 1080x720 with 1 Axes>"
      ]
     },
     "metadata": {
      "needs_background": "light"
     },
     "output_type": "display_data"
    }
   ],
   "source": [
    "# tree visualisation\n",
    "import matplotlib.pyplot as plt\n",
    "from sklearn.tree import plot_tree\n",
    "plt.figure(figsize = (15, 10))\n",
    "plot_tree(best_tree, filled=True, rounded=True) \n",
    "plt.show()\n"
   ]
  },
  {
   "cell_type": "markdown",
   "id": "4aa114cf",
   "metadata": {
    "papermill": {
     "duration": 0.08728,
     "end_time": "2022-03-09T14:32:24.558581",
     "exception": false,
     "start_time": "2022-03-09T14:32:24.471301",
     "status": "completed"
    },
    "tags": []
   },
   "source": []
  },
  {
   "cell_type": "code",
   "execution_count": 55,
   "id": "b5d3306a",
   "metadata": {
    "execution": {
     "iopub.execute_input": "2022-03-09T14:32:24.736358Z",
     "iopub.status.busy": "2022-03-09T14:32:24.735782Z",
     "iopub.status.idle": "2022-03-09T14:32:24.935227Z",
     "shell.execute_reply": "2022-03-09T14:32:24.935709Z",
     "shell.execute_reply.started": "2022-03-09T14:27:27.603142Z"
    },
    "papermill": {
     "duration": 0.289715,
     "end_time": "2022-03-09T14:32:24.935869",
     "exception": false,
     "start_time": "2022-03-09T14:32:24.646154",
     "status": "completed"
    },
    "tags": []
   },
   "outputs": [
    {
     "data": {
      "text/plain": [
       "<sklearn.metrics._plot.roc_curve.RocCurveDisplay at 0x7f5d39743f90>"
      ]
     },
     "execution_count": 55,
     "metadata": {},
     "output_type": "execute_result"
    },
    {
     "data": {
      "image/png": "[encoded data removed]",
      "text/plain": [
       "<Figure size 432x288 with 1 Axes>"
      ]
     },
     "metadata": {
      "needs_background": "light"
     },
     "output_type": "display_data"
    }
   ],
   "source": [
    "from sklearn.metrics import plot_roc_curve\n",
    "plot_roc_curve(best_tree, X_test, y_test)"
   ]
  },
  {
   "cell_type": "code",
   "execution_count": 56,
   "id": "ef12abaa",
   "metadata": {
    "execution": {
     "iopub.execute_input": "2022-03-09T14:32:25.119595Z",
     "iopub.status.busy": "2022-03-09T14:32:25.119008Z",
     "iopub.status.idle": "2022-03-09T14:32:25.336766Z",
     "shell.execute_reply": "2022-03-09T14:32:25.336199Z",
     "shell.execute_reply.started": "2022-03-09T14:27:27.791024Z"
    },
    "papermill": {
     "duration": 0.311947,
     "end_time": "2022-03-09T14:32:25.336893",
     "exception": false,
     "start_time": "2022-03-09T14:32:25.024946",
     "status": "completed"
    },
    "tags": []
   },
   "outputs": [
    {
     "data": {
      "text/plain": [
       "<sklearn.metrics._plot.confusion_matrix.ConfusionMatrixDisplay at 0x7f5d39769110>"
      ]
     },
     "execution_count": 56,
     "metadata": {},
     "output_type": "execute_result"
    },
    {
     "data": {
      "image/png": "[encoded data removed]",
      "text/plain": [
       "<Figure size 432x288 with 2 Axes>"
      ]
     },
     "metadata": {
      "needs_background": "light"
     },
     "output_type": "display_data"
    }
   ],
   "source": [
    "from sklearn.metrics import plot_confusion_matrix\n",
    "plot_confusion_matrix(best_tree, X_test, y_test)"
   ]
  },
  {
   "cell_type": "markdown",
   "id": "952f4591",
   "metadata": {
    "papermill": {
     "duration": 0.090913,
     "end_time": "2022-03-09T14:32:25.518283",
     "exception": false,
     "start_time": "2022-03-09T14:32:25.427370",
     "status": "completed"
    },
    "tags": []
   },
   "source": [
    "**Random Forest model**"
   ]
  },
  {
   "cell_type": "code",
   "execution_count": 57,
   "id": "1482855a",
   "metadata": {
    "execution": {
     "iopub.execute_input": "2022-03-09T14:32:25.701555Z",
     "iopub.status.busy": "2022-03-09T14:32:25.700947Z",
     "iopub.status.idle": "2022-03-09T14:32:25.737004Z",
     "shell.execute_reply": "2022-03-09T14:32:25.737530Z",
     "shell.execute_reply.started": "2022-03-09T14:27:28.009001Z"
    },
    "papermill": {
     "duration": 0.129362,
     "end_time": "2022-03-09T14:32:25.737698",
     "exception": false,
     "start_time": "2022-03-09T14:32:25.608336",
     "status": "completed"
    },
    "tags": []
   },
   "outputs": [],
   "source": [
    "from sklearn.ensemble import RandomForestClassifier\n",
    "clf_rf = RandomForestClassifier()"
   ]
  },
  {
   "cell_type": "code",
   "execution_count": 58,
   "id": "7b16e7da",
   "metadata": {
    "execution": {
     "iopub.execute_input": "2022-03-09T14:32:25.921191Z",
     "iopub.status.busy": "2022-03-09T14:32:25.920626Z",
     "iopub.status.idle": "2022-03-09T14:32:30.617344Z",
     "shell.execute_reply": "2022-03-09T14:32:30.618053Z",
     "shell.execute_reply.started": "2022-03-09T14:27:28.040730Z"
    },
    "papermill": {
     "duration": 4.790787,
     "end_time": "2022-03-09T14:32:30.618272",
     "exception": false,
     "start_time": "2022-03-09T14:32:25.827485",
     "status": "completed"
    },
    "tags": []
   },
   "outputs": [
    {
     "name": "stdout",
     "output_type": "stream",
     "text": [
      "Fitting 5 folds for each of 12 candidates, totalling 60 fits\n"
     ]
    },
    {
     "name": "stderr",
     "output_type": "stream",
     "text": [
      "[Parallel(n_jobs=-1)]: Using backend LokyBackend with 4 concurrent workers.\n",
      "[Parallel(n_jobs=-1)]: Done  42 tasks      | elapsed:    3.7s\n",
      "[Parallel(n_jobs=-1)]: Done  60 out of  60 | elapsed:    4.6s finished\n"
     ]
    },
    {
     "data": {
      "text/plain": [
       "GridSearchCV(cv=5, estimator=RandomForestClassifier(), n_jobs=-1,\n",
       "             param_grid={'max_depth': [2, 5, 7, 10],\n",
       "                         'n_estimators': [10, 20, 30]},\n",
       "             verbose=True)"
      ]
     },
     "execution_count": 58,
     "metadata": {},
     "output_type": "execute_result"
    }
   ],
   "source": [
    "# Random Forest optimisation\n",
    "params = {'n_estimators': [10, 20, 30], 'max_depth': [2, 5, 7, 10]}\n",
    "from sklearn.model_selection import GridSearchCV\n",
    "grid_search_cv_clf = GridSearchCV(clf_rf, params, cv=5, verbose=True, n_jobs=-1)\n",
    "grid_search_cv_clf.fit(X_train, y_train)\n"
   ]
  },
  {
   "cell_type": "code",
   "execution_count": 59,
   "id": "b85318c2",
   "metadata": {
    "execution": {
     "iopub.execute_input": "2022-03-09T14:32:30.804800Z",
     "iopub.status.busy": "2022-03-09T14:32:30.804186Z",
     "iopub.status.idle": "2022-03-09T14:32:30.809040Z",
     "shell.execute_reply": "2022-03-09T14:32:30.809483Z",
     "shell.execute_reply.started": "2022-03-09T14:27:32.825284Z"
    },
    "papermill": {
     "duration": 0.09964,
     "end_time": "2022-03-09T14:32:30.809655",
     "exception": false,
     "start_time": "2022-03-09T14:32:30.710015",
     "status": "completed"
    },
    "tags": []
   },
   "outputs": [
    {
     "data": {
      "text/plain": [
       "RandomForestClassifier(max_depth=5, n_estimators=20)"
      ]
     },
     "execution_count": 59,
     "metadata": {},
     "output_type": "execute_result"
    }
   ],
   "source": [
    "best_forest = grid_search_cv_clf.best_estimator_\n",
    "best_forest"
   ]
  },
  {
   "cell_type": "code",
   "execution_count": 60,
   "id": "efecb246",
   "metadata": {
    "execution": {
     "iopub.execute_input": "2022-03-09T14:32:30.998446Z",
     "iopub.status.busy": "2022-03-09T14:32:30.995501Z",
     "iopub.status.idle": "2022-03-09T14:32:31.024909Z",
     "shell.execute_reply": "2022-03-09T14:32:31.024446Z",
     "shell.execute_reply.started": "2022-03-09T14:27:32.834066Z"
    },
    "papermill": {
     "duration": 0.124484,
     "end_time": "2022-03-09T14:32:31.025040",
     "exception": false,
     "start_time": "2022-03-09T14:32:30.900556",
     "status": "completed"
    },
    "tags": []
   },
   "outputs": [
    {
     "data": {
      "text/plain": [
       "0.9261401557285873"
      ]
     },
     "execution_count": 60,
     "metadata": {},
     "output_type": "execute_result"
    }
   ],
   "source": [
    "best_forest.score(X_train, y_train)"
   ]
  },
  {
   "cell_type": "code",
   "execution_count": 61,
   "id": "ae58aa2d",
   "metadata": {
    "execution": {
     "iopub.execute_input": "2022-03-09T14:32:31.213731Z",
     "iopub.status.busy": "2022-03-09T14:32:31.212942Z",
     "iopub.status.idle": "2022-03-09T14:32:31.228315Z",
     "shell.execute_reply": "2022-03-09T14:32:31.228812Z",
     "shell.execute_reply.started": "2022-03-09T14:27:32.890473Z"
    },
    "papermill": {
     "duration": 0.109705,
     "end_time": "2022-03-09T14:32:31.228965",
     "exception": false,
     "start_time": "2022-03-09T14:32:31.119260",
     "status": "completed"
    },
    "tags": []
   },
   "outputs": [
    {
     "data": {
      "text/plain": [
       "0.9292547274749722"
      ]
     },
     "execution_count": 61,
     "metadata": {},
     "output_type": "execute_result"
    }
   ],
   "source": [
    "best_forest.score(X_test, y_test)"
   ]
  },
  {
   "cell_type": "code",
   "execution_count": 62,
   "id": "8dca4ae6",
   "metadata": {
    "execution": {
     "iopub.execute_input": "2022-03-09T14:32:31.414523Z",
     "iopub.status.busy": "2022-03-09T14:32:31.413945Z",
     "iopub.status.idle": "2022-03-09T14:32:31.624860Z",
     "shell.execute_reply": "2022-03-09T14:32:31.625331Z",
     "shell.execute_reply.started": "2022-03-09T14:27:32.917111Z"
    },
    "papermill": {
     "duration": 0.305081,
     "end_time": "2022-03-09T14:32:31.625522",
     "exception": false,
     "start_time": "2022-03-09T14:32:31.320441",
     "status": "completed"
    },
    "tags": []
   },
   "outputs": [
    {
     "data": {
      "text/plain": [
       "<sklearn.metrics._plot.roc_curve.RocCurveDisplay at 0x7f5d398a76d0>"
      ]
     },
     "execution_count": 62,
     "metadata": {},
     "output_type": "execute_result"
    },
    {
     "data": {
      "image/png": "[encoded data removed]",
      "text/plain": [
       "<Figure size 432x288 with 1 Axes>"
      ]
     },
     "metadata": {
      "needs_background": "light"
     },
     "output_type": "display_data"
    }
   ],
   "source": [
    "plot_roc_curve(best_forest, X_test, y_test)"
   ]
  },
  {
   "cell_type": "code",
   "execution_count": 63,
   "id": "a72a1c45",
   "metadata": {
    "execution": {
     "iopub.execute_input": "2022-03-09T14:32:31.813371Z",
     "iopub.status.busy": "2022-03-09T14:32:31.812835Z",
     "iopub.status.idle": "2022-03-09T14:32:32.046048Z",
     "shell.execute_reply": "2022-03-09T14:32:32.046554Z",
     "shell.execute_reply.started": "2022-03-09T14:27:33.123173Z"
    },
    "papermill": {
     "duration": 0.32859,
     "end_time": "2022-03-09T14:32:32.046725",
     "exception": false,
     "start_time": "2022-03-09T14:32:31.718135",
     "status": "completed"
    },
    "tags": []
   },
   "outputs": [
    {
     "data": {
      "text/plain": [
       "<sklearn.metrics._plot.confusion_matrix.ConfusionMatrixDisplay at 0x7f5d7662fd50>"
      ]
     },
     "execution_count": 63,
     "metadata": {},
     "output_type": "execute_result"
    },
    {
     "data": {
      "image/png": "[encoded data removed]",
      "text/plain": [
       "<Figure size 432x288 with 2 Axes>"
      ]
     },
     "metadata": {
      "needs_background": "light"
     },
     "output_type": "display_data"
    }
   ],
   "source": [
    "plot_confusion_matrix(best_forest, X_test, y_test)"
   ]
  },
  {
   "cell_type": "code",
   "execution_count": 64,
   "id": "7c5e7216",
   "metadata": {
    "execution": {
     "iopub.execute_input": "2022-03-09T14:32:32.239858Z",
     "iopub.status.busy": "2022-03-09T14:32:32.238950Z",
     "iopub.status.idle": "2022-03-09T14:32:32.417843Z",
     "shell.execute_reply": "2022-03-09T14:32:32.417308Z",
     "shell.execute_reply.started": "2022-03-09T14:27:33.360507Z"
    },
    "papermill": {
     "duration": 0.276213,
     "end_time": "2022-03-09T14:32:32.417986",
     "exception": false,
     "start_time": "2022-03-09T14:32:32.141773",
     "status": "completed"
    },
    "tags": []
   },
   "outputs": [
    {
     "data": {
      "text/plain": [
       "<AxesSubplot:>"
      ]
     },
     "execution_count": 64,
     "metadata": {},
     "output_type": "execute_result"
    },
    {
     "data": {
      "image/png": "[encoded data removed]",
      "text/plain": [
       "<Figure size 864x576 with 1 Axes>"
      ]
     },
     "metadata": {
      "needs_background": "light"
     },
     "output_type": "display_data"
    }
   ],
   "source": [
    "importances = pd.DataFrame(best_forest.feature_importances_, index=X.columns, columns=['importance'])\n",
    "importances.sort_values('importance').plot(kind='barh', figsize=(12, 8))"
   ]
  },
  {
   "cell_type": "markdown",
   "id": "8d914f0f",
   "metadata": {
    "papermill": {
     "duration": 0.095638,
     "end_time": "2022-03-09T14:32:32.608940",
     "exception": false,
     "start_time": "2022-03-09T14:32:32.513302",
     "status": "completed"
    },
    "tags": []
   },
   "source": [
    "**KNeighbors Model**"
   ]
  },
  {
   "cell_type": "code",
   "execution_count": 65,
   "id": "ff9fd29c",
   "metadata": {
    "execution": {
     "iopub.execute_input": "2022-03-09T14:32:32.805015Z",
     "iopub.status.busy": "2022-03-09T14:32:32.804372Z",
     "iopub.status.idle": "2022-03-09T14:32:32.865997Z",
     "shell.execute_reply": "2022-03-09T14:32:32.865515Z",
     "shell.execute_reply.started": "2022-03-09T14:27:33.578635Z"
    },
    "papermill": {
     "duration": 0.162052,
     "end_time": "2022-03-09T14:32:32.866135",
     "exception": false,
     "start_time": "2022-03-09T14:32:32.704083",
     "status": "completed"
    },
    "tags": []
   },
   "outputs": [
    {
     "data": {
      "text/plain": [
       "KNeighborsClassifier()"
      ]
     },
     "execution_count": 65,
     "metadata": {},
     "output_type": "execute_result"
    }
   ],
   "source": [
    "from sklearn.neighbors import KNeighborsClassifier\n",
    "knn = KNeighborsClassifier()\n",
    "knn.fit(X_train, y_train)"
   ]
  },
  {
   "cell_type": "code",
   "execution_count": 66,
   "id": "0586294b",
   "metadata": {
    "execution": {
     "iopub.execute_input": "2022-03-09T14:32:33.061481Z",
     "iopub.status.busy": "2022-03-09T14:32:33.060592Z",
     "iopub.status.idle": "2022-03-09T14:32:33.291419Z",
     "shell.execute_reply": "2022-03-09T14:32:33.290946Z",
     "shell.execute_reply.started": "2022-03-09T14:27:33.665114Z"
    },
    "papermill": {
     "duration": 0.329357,
     "end_time": "2022-03-09T14:32:33.291555",
     "exception": false,
     "start_time": "2022-03-09T14:32:32.962198",
     "status": "completed"
    },
    "tags": []
   },
   "outputs": [
    {
     "data": {
      "text/plain": [
       "0.9196885428253615"
      ]
     },
     "execution_count": 66,
     "metadata": {},
     "output_type": "execute_result"
    }
   ],
   "source": [
    "knn.score(X_test, y_test)"
   ]
  },
  {
   "cell_type": "code",
   "execution_count": 67,
   "id": "5e2cbfa9",
   "metadata": {
    "execution": {
     "iopub.execute_input": "2022-03-09T14:32:33.486215Z",
     "iopub.status.busy": "2022-03-09T14:32:33.485284Z",
     "iopub.status.idle": "2022-03-09T14:32:33.749151Z",
     "shell.execute_reply": "2022-03-09T14:32:33.749599Z",
     "shell.execute_reply.started": "2022-03-09T14:27:33.959379Z"
    },
    "papermill": {
     "duration": 0.36293,
     "end_time": "2022-03-09T14:32:33.749757",
     "exception": false,
     "start_time": "2022-03-09T14:32:33.386827",
     "status": "completed"
    },
    "tags": []
   },
   "outputs": [
    {
     "data": {
      "text/plain": [
       "<sklearn.metrics._plot.roc_curve.RocCurveDisplay at 0x7f5d75c854d0>"
      ]
     },
     "execution_count": 67,
     "metadata": {},
     "output_type": "execute_result"
    },
    {
     "data": {
      "image/png": "[encoded data removed]",
      "text/plain": [
       "<Figure size 432x288 with 1 Axes>"
      ]
     },
     "metadata": {
      "needs_background": "light"
     },
     "output_type": "display_data"
    }
   ],
   "source": [
    "plot_roc_curve(knn, X_test, y_test)"
   ]
  },
  {
   "cell_type": "code",
   "execution_count": 68,
   "id": "bf7f98a3",
   "metadata": {
    "execution": {
     "iopub.execute_input": "2022-03-09T14:32:33.996689Z",
     "iopub.status.busy": "2022-03-09T14:32:33.996101Z",
     "iopub.status.idle": "2022-03-09T14:32:34.448560Z",
     "shell.execute_reply": "2022-03-09T14:32:34.448039Z",
     "shell.execute_reply.started": "2022-03-09T14:27:34.291273Z"
    },
    "papermill": {
     "duration": 0.590117,
     "end_time": "2022-03-09T14:32:34.448699",
     "exception": false,
     "start_time": "2022-03-09T14:32:33.858582",
     "status": "completed"
    },
    "tags": []
   },
   "outputs": [
    {
     "data": {
      "text/plain": [
       "<sklearn.metrics._plot.confusion_matrix.ConfusionMatrixDisplay at 0x7f5d75bcfa90>"
      ]
     },
     "execution_count": 68,
     "metadata": {},
     "output_type": "execute_result"
    },
    {
     "data": {
      "image/png": "[encoded data removed]",
      "text/plain": [
       "<Figure size 432x288 with 2 Axes>"
      ]
     },
     "metadata": {
      "needs_background": "light"
     },
     "output_type": "display_data"
    }
   ],
   "source": [
    "plot_confusion_matrix(knn, X_test, y_test)"
   ]
  },
  {
   "cell_type": "markdown",
   "id": "b5f3265f",
   "metadata": {
    "papermill": {
     "duration": 0.108155,
     "end_time": "2022-03-09T14:32:34.655398",
     "exception": false,
     "start_time": "2022-03-09T14:32:34.547243",
     "status": "completed"
    },
    "tags": []
   },
   "source": [
    "**Logistic Regression model**"
   ]
  },
  {
   "cell_type": "code",
   "execution_count": 69,
   "id": "1e6260ab",
   "metadata": {
    "execution": {
     "iopub.execute_input": "2022-03-09T14:32:34.872074Z",
     "iopub.status.busy": "2022-03-09T14:32:34.870843Z",
     "iopub.status.idle": "2022-03-09T14:32:37.010773Z",
     "shell.execute_reply": "2022-03-09T14:32:37.011229Z",
     "shell.execute_reply.started": "2022-03-09T14:27:34.794261Z"
    },
    "papermill": {
     "duration": 2.250141,
     "end_time": "2022-03-09T14:32:37.011406",
     "exception": false,
     "start_time": "2022-03-09T14:32:34.761265",
     "status": "completed"
    },
    "tags": []
   },
   "outputs": [
    {
     "data": {
      "text/plain": [
       "LogisticRegressionCV(cv=5)"
      ]
     },
     "execution_count": 69,
     "metadata": {},
     "output_type": "execute_result"
    }
   ],
   "source": [
    "from sklearn.linear_model import LogisticRegressionCV\n",
    "lr = LogisticRegressionCV(cv=5)\n",
    "lr.fit(X_train, y_train)"
   ]
  },
  {
   "cell_type": "code",
   "execution_count": 70,
   "id": "9361ab7e",
   "metadata": {
    "execution": {
     "iopub.execute_input": "2022-03-09T14:32:37.275051Z",
     "iopub.status.busy": "2022-03-09T14:32:37.274091Z",
     "iopub.status.idle": "2022-03-09T14:32:37.282058Z",
     "shell.execute_reply": "2022-03-09T14:32:37.282956Z",
     "shell.execute_reply.started": "2022-03-09T14:27:36.853342Z"
    },
    "papermill": {
     "duration": 0.114764,
     "end_time": "2022-03-09T14:32:37.283195",
     "exception": false,
     "start_time": "2022-03-09T14:32:37.168431",
     "status": "completed"
    },
    "tags": []
   },
   "outputs": [
    {
     "data": {
      "text/plain": [
       "0.9270300333704116"
      ]
     },
     "execution_count": 70,
     "metadata": {},
     "output_type": "execute_result"
    }
   ],
   "source": [
    "lr.score(X_test, y_test)"
   ]
  },
  {
   "cell_type": "code",
   "execution_count": 71,
   "id": "e6d67758",
   "metadata": {
    "execution": {
     "iopub.execute_input": "2022-03-09T14:32:37.543422Z",
     "iopub.status.busy": "2022-03-09T14:32:37.542412Z",
     "iopub.status.idle": "2022-03-09T14:32:37.758830Z",
     "shell.execute_reply": "2022-03-09T14:32:37.759233Z",
     "shell.execute_reply.started": "2022-03-09T14:27:36.866599Z"
    },
    "papermill": {
     "duration": 0.320922,
     "end_time": "2022-03-09T14:32:37.759408",
     "exception": false,
     "start_time": "2022-03-09T14:32:37.438486",
     "status": "completed"
    },
    "tags": []
   },
   "outputs": [
    {
     "data": {
      "text/plain": [
       "<sklearn.metrics._plot.roc_curve.RocCurveDisplay at 0x7f5d75b3a390>"
      ]
     },
     "execution_count": 71,
     "metadata": {},
     "output_type": "execute_result"
    },
    {
     "data": {
      "image/png": "[encoded data removed]",
      "text/plain": [
       "<Figure size 432x288 with 1 Axes>"
      ]
     },
     "metadata": {
      "needs_background": "light"
     },
     "output_type": "display_data"
    }
   ],
   "source": [
    "plot_roc_curve(lr, X_test, y_test)"
   ]
  },
  {
   "cell_type": "code",
   "execution_count": 72,
   "id": "6126bfa2",
   "metadata": {
    "execution": {
     "iopub.execute_input": "2022-03-09T14:32:37.965928Z",
     "iopub.status.busy": "2022-03-09T14:32:37.965026Z",
     "iopub.status.idle": "2022-03-09T14:32:38.241152Z",
     "shell.execute_reply": "2022-03-09T14:32:38.240581Z",
     "shell.execute_reply.started": "2022-03-09T14:27:37.055212Z"
    },
    "papermill": {
     "duration": 0.382389,
     "end_time": "2022-03-09T14:32:38.241283",
     "exception": false,
     "start_time": "2022-03-09T14:32:37.858894",
     "status": "completed"
    },
    "tags": []
   },
   "outputs": [
    {
     "data": {
      "text/plain": [
       "<sklearn.metrics._plot.confusion_matrix.ConfusionMatrixDisplay at 0x7f5d75b95550>"
      ]
     },
     "execution_count": 72,
     "metadata": {},
     "output_type": "execute_result"
    },
    {
     "data": {
      "image/png": "[encoded data removed]",
      "text/plain": [
       "<Figure size 432x288 with 2 Axes>"
      ]
     },
     "metadata": {
      "needs_background": "light"
     },
     "output_type": "display_data"
    }
   ],
   "source": [
    "plot_confusion_matrix(lr, X_test, y_test)"
   ]
  },
  {
   "cell_type": "markdown",
   "id": "dfa8d622",
   "metadata": {
    "papermill": {
     "duration": 0.100374,
     "end_time": "2022-03-09T14:32:38.443744",
     "exception": false,
     "start_time": "2022-03-09T14:32:38.343370",
     "status": "completed"
    },
    "tags": []
   },
   "source": [
    "**SVC model**"
   ]
  },
  {
   "cell_type": "code",
   "execution_count": 73,
   "id": "5c4ee95b",
   "metadata": {
    "execution": {
     "iopub.execute_input": "2022-03-09T14:32:38.652055Z",
     "iopub.status.busy": "2022-03-09T14:32:38.651106Z",
     "iopub.status.idle": "2022-03-09T14:32:40.492335Z",
     "shell.execute_reply": "2022-03-09T14:32:40.491889Z",
     "shell.execute_reply.started": "2022-03-09T14:27:37.244353Z"
    },
    "papermill": {
     "duration": 1.948353,
     "end_time": "2022-03-09T14:32:40.492510",
     "exception": false,
     "start_time": "2022-03-09T14:32:38.544157",
     "status": "completed"
    },
    "tags": []
   },
   "outputs": [
    {
     "data": {
      "text/plain": [
       "SVC()"
      ]
     },
     "execution_count": 73,
     "metadata": {},
     "output_type": "execute_result"
    }
   ],
   "source": [
    "from sklearn.svm import SVC\n",
    "svc = SVC(gamma='scale')\n",
    "svc.fit(X_train, y_train)\n"
   ]
  },
  {
   "cell_type": "code",
   "execution_count": 74,
   "id": "1d2af314",
   "metadata": {
    "execution": {
     "iopub.execute_input": "2022-03-09T14:32:40.696889Z",
     "iopub.status.busy": "2022-03-09T14:32:40.696263Z",
     "iopub.status.idle": "2022-03-09T14:32:40.905555Z",
     "shell.execute_reply": "2022-03-09T14:32:40.905990Z",
     "shell.execute_reply.started": "2022-03-09T14:27:39.936957Z"
    },
    "papermill": {
     "duration": 0.312579,
     "end_time": "2022-03-09T14:32:40.906144",
     "exception": false,
     "start_time": "2022-03-09T14:32:40.593565",
     "status": "completed"
    },
    "tags": []
   },
   "outputs": [
    {
     "data": {
      "text/plain": [
       "0.9276974416017798"
      ]
     },
     "execution_count": 74,
     "metadata": {},
     "output_type": "execute_result"
    }
   ],
   "source": [
    "svc.score(X_test, y_test)"
   ]
  },
  {
   "cell_type": "code",
   "execution_count": 75,
   "id": "b3c79912",
   "metadata": {
    "execution": {
     "iopub.execute_input": "2022-03-09T14:32:41.116176Z",
     "iopub.status.busy": "2022-03-09T14:32:41.115615Z",
     "iopub.status.idle": "2022-03-09T14:32:41.517838Z",
     "shell.execute_reply": "2022-03-09T14:32:41.518348Z",
     "shell.execute_reply.started": "2022-03-09T14:27:40.532826Z"
    },
    "papermill": {
     "duration": 0.509195,
     "end_time": "2022-03-09T14:32:41.518527",
     "exception": false,
     "start_time": "2022-03-09T14:32:41.009332",
     "status": "completed"
    },
    "tags": []
   },
   "outputs": [
    {
     "data": {
      "text/plain": [
       "<sklearn.metrics._plot.roc_curve.RocCurveDisplay at 0x7f5d75993650>"
      ]
     },
     "execution_count": 75,
     "metadata": {},
     "output_type": "execute_result"
    },
    {
     "data": {
      "image/png": "[encoded data removed]",
      "text/plain": [
       "<Figure size 432x288 with 1 Axes>"
      ]
     },
     "metadata": {
      "needs_background": "light"
     },
     "output_type": "display_data"
    }
   ],
   "source": [
    "plot_roc_curve(svc, X_test, y_test)"
   ]
  },
  {
   "cell_type": "code",
   "execution_count": 76,
   "id": "54197f67",
   "metadata": {
    "execution": {
     "iopub.execute_input": "2022-03-09T14:32:41.726998Z",
     "iopub.status.busy": "2022-03-09T14:32:41.726367Z",
     "iopub.status.idle": "2022-03-09T14:32:42.150341Z",
     "shell.execute_reply": "2022-03-09T14:32:42.150802Z",
     "shell.execute_reply.started": "2022-03-09T14:27:41.278171Z"
    },
    "papermill": {
     "duration": 0.530245,
     "end_time": "2022-03-09T14:32:42.151017",
     "exception": false,
     "start_time": "2022-03-09T14:32:41.620772",
     "status": "completed"
    },
    "tags": []
   },
   "outputs": [
    {
     "data": {
      "text/plain": [
       "<sklearn.metrics._plot.confusion_matrix.ConfusionMatrixDisplay at 0x7f5d75927110>"
      ]
     },
     "execution_count": 76,
     "metadata": {},
     "output_type": "execute_result"
    },
    {
     "data": {
      "image/png": "[encoded data removed]",
      "text/plain": [
       "<Figure size 432x288 with 2 Axes>"
      ]
     },
     "metadata": {
      "needs_background": "light"
     },
     "output_type": "display_data"
    }
   ],
   "source": [
    "plot_confusion_matrix(svc, X_test, y_test)"
   ]
  },
  {
   "cell_type": "markdown",
   "id": "501c4d14",
   "metadata": {
    "papermill": {
     "duration": 0.104414,
     "end_time": "2022-03-09T14:32:42.359701",
     "exception": false,
     "start_time": "2022-03-09T14:32:42.255287",
     "status": "completed"
    },
    "tags": []
   },
   "source": [
    "**Gaussian Naive Bayes model**"
   ]
  },
  {
   "cell_type": "code",
   "execution_count": 77,
   "id": "fc9ebabf",
   "metadata": {
    "execution": {
     "iopub.execute_input": "2022-03-09T14:32:42.570273Z",
     "iopub.status.busy": "2022-03-09T14:32:42.569694Z",
     "iopub.status.idle": "2022-03-09T14:32:42.582299Z",
     "shell.execute_reply": "2022-03-09T14:32:42.582860Z",
     "shell.execute_reply.started": "2022-03-09T14:27:42.083368Z"
    },
    "papermill": {
     "duration": 0.119735,
     "end_time": "2022-03-09T14:32:42.583039",
     "exception": false,
     "start_time": "2022-03-09T14:32:42.463304",
     "status": "completed"
    },
    "tags": []
   },
   "outputs": [
    {
     "data": {
      "text/plain": [
       "GaussianNB()"
      ]
     },
     "execution_count": 77,
     "metadata": {},
     "output_type": "execute_result"
    }
   ],
   "source": [
    "from sklearn.naive_bayes import GaussianNB\n",
    "gnb = GaussianNB()\n",
    "gnb.fit(X_train, y_train)"
   ]
  },
  {
   "cell_type": "code",
   "execution_count": 78,
   "id": "ddcd3fec",
   "metadata": {
    "execution": {
     "iopub.execute_input": "2022-03-09T14:32:42.796012Z",
     "iopub.status.busy": "2022-03-09T14:32:42.795372Z",
     "iopub.status.idle": "2022-03-09T14:32:42.802074Z",
     "shell.execute_reply": "2022-03-09T14:32:42.802663Z",
     "shell.execute_reply.started": "2022-03-09T14:27:42.099469Z"
    },
    "papermill": {
     "duration": 0.114518,
     "end_time": "2022-03-09T14:32:42.802817",
     "exception": false,
     "start_time": "2022-03-09T14:32:42.688299",
     "status": "completed"
    },
    "tags": []
   },
   "outputs": [
    {
     "data": {
      "text/plain": [
       "0.8909899888765295"
      ]
     },
     "execution_count": 78,
     "metadata": {},
     "output_type": "execute_result"
    }
   ],
   "source": [
    "gnb.score(X_test, y_test)"
   ]
  },
  {
   "cell_type": "code",
   "execution_count": 79,
   "id": "f24411da",
   "metadata": {
    "execution": {
     "iopub.execute_input": "2022-03-09T14:32:43.017706Z",
     "iopub.status.busy": "2022-03-09T14:32:43.016827Z",
     "iopub.status.idle": "2022-03-09T14:32:43.213205Z",
     "shell.execute_reply": "2022-03-09T14:32:43.212660Z",
     "shell.execute_reply.started": "2022-03-09T14:27:42.107797Z"
    },
    "papermill": {
     "duration": 0.305725,
     "end_time": "2022-03-09T14:32:43.213329",
     "exception": false,
     "start_time": "2022-03-09T14:32:42.907604",
     "status": "completed"
    },
    "tags": []
   },
   "outputs": [
    {
     "data": {
      "text/plain": [
       "<sklearn.metrics._plot.roc_curve.RocCurveDisplay at 0x7f5d75831350>"
      ]
     },
     "execution_count": 79,
     "metadata": {},
     "output_type": "execute_result"
    },
    {
     "data": {
      "image/png": "[encoded data removed]",
      "text/plain": [
       "<Figure size 432x288 with 1 Axes>"
      ]
     },
     "metadata": {
      "needs_background": "light"
     },
     "output_type": "display_data"
    }
   ],
   "source": [
    "plot_roc_curve(gnb, X_test, y_test)"
   ]
  },
  {
   "cell_type": "code",
   "execution_count": 80,
   "id": "2a957c1c",
   "metadata": {
    "execution": {
     "iopub.execute_input": "2022-03-09T14:32:43.427630Z",
     "iopub.status.busy": "2022-03-09T14:32:43.427060Z",
     "iopub.status.idle": "2022-03-09T14:32:43.642768Z",
     "shell.execute_reply": "2022-03-09T14:32:43.643159Z",
     "shell.execute_reply.started": "2022-03-09T14:27:42.278910Z"
    },
    "papermill": {
     "duration": 0.324759,
     "end_time": "2022-03-09T14:32:43.643317",
     "exception": false,
     "start_time": "2022-03-09T14:32:43.318558",
     "status": "completed"
    },
    "tags": []
   },
   "outputs": [
    {
     "data": {
      "text/plain": [
       "<sklearn.metrics._plot.confusion_matrix.ConfusionMatrixDisplay at 0x7f5d759c2110>"
      ]
     },
     "execution_count": 80,
     "metadata": {},
     "output_type": "execute_result"
    },
    {
     "data": {
      "image/png": "[encoded data removed]",
      "text/plain": [
       "<Figure size 432x288 with 2 Axes>"
      ]
     },
     "metadata": {
      "needs_background": "light"
     },
     "output_type": "display_data"
    }
   ],
   "source": [
    "plot_confusion_matrix(gnb, X_test, y_test)"
   ]
  },
  {
   "cell_type": "markdown",
   "id": "a9bb5e5c",
   "metadata": {
    "papermill": {
     "duration": 0.112827,
     "end_time": "2022-03-09T14:32:43.863941",
     "exception": false,
     "start_time": "2022-03-09T14:32:43.751114",
     "status": "completed"
    },
    "tags": []
   },
   "source": [
    "# Evaluations of the models"
   ]
  },
  {
   "cell_type": "code",
   "execution_count": 81,
   "id": "550a5e89",
   "metadata": {
    "execution": {
     "iopub.execute_input": "2022-03-09T14:32:44.086353Z",
     "iopub.status.busy": "2022-03-09T14:32:44.085444Z",
     "iopub.status.idle": "2022-03-09T14:32:44.087574Z",
     "shell.execute_reply": "2022-03-09T14:32:44.088098Z",
     "shell.execute_reply.started": "2022-03-09T14:27:42.454494Z"
    },
    "papermill": {
     "duration": 0.115145,
     "end_time": "2022-03-09T14:32:44.088248",
     "exception": false,
     "start_time": "2022-03-09T14:32:43.973103",
     "status": "completed"
    },
    "tags": []
   },
   "outputs": [],
   "source": [
    "# list of used classification models\n",
    "from sklearn.model_selection import KFold\n",
    "from sklearn.model_selection import cross_val_score\n",
    "estimators = {\n",
    "     'KNeighborsClassifier': knn, \n",
    "     'SVC': svc,\n",
    "     'GaussianNB':gnb,\n",
    "     'DecisionTree': best_tree,\n",
    "     'RandomForest': best_forest,\n",
    "     'LogisticRegression': lr\n",
    "          }"
   ]
  },
  {
   "cell_type": "code",
   "execution_count": 82,
   "id": "f80e9643",
   "metadata": {
    "execution": {
     "iopub.execute_input": "2022-03-09T14:32:44.337616Z",
     "iopub.status.busy": "2022-03-09T14:32:44.336603Z",
     "iopub.status.idle": "2022-03-09T14:32:45.358766Z",
     "shell.execute_reply": "2022-03-09T14:32:45.359550Z",
     "shell.execute_reply.started": "2022-03-09T14:27:42.461063Z"
    },
    "papermill": {
     "duration": 1.149645,
     "end_time": "2022-03-09T14:32:45.359810",
     "exception": false,
     "start_time": "2022-03-09T14:32:44.210165",
     "status": "completed"
    },
    "tags": []
   },
   "outputs": [
    {
     "name": "stdout",
     "output_type": "stream",
     "text": [
      "KNeighborsClassifier\n",
      "ROC AUC score: 57.41%\n",
      "              precision    recall  f1-score   support\n",
      "\n",
      "           0       0.94      0.98      0.96      4163\n",
      "           1       0.40      0.17      0.24       332\n",
      "\n",
      "    accuracy                           0.92      4495\n",
      "   macro avg       0.67      0.57      0.60      4495\n",
      "weighted avg       0.90      0.92      0.90      4495\n",
      "\n",
      "\n",
      "\n",
      "SVC\n",
      "ROC AUC score: 51.61%\n",
      "              precision    recall  f1-score   support\n",
      "\n",
      "           0       0.93      1.00      0.96      4163\n",
      "           1       0.73      0.03      0.06       332\n",
      "\n",
      "    accuracy                           0.93      4495\n",
      "   macro avg       0.83      0.52      0.51      4495\n",
      "weighted avg       0.91      0.93      0.90      4495\n",
      "\n",
      "\n",
      "\n",
      "GaussianNB\n",
      "ROC AUC score: 70.42%\n",
      "              precision    recall  f1-score   support\n",
      "\n",
      "           0       0.96      0.92      0.94      4163\n",
      "           1       0.34      0.48      0.40       332\n",
      "\n",
      "    accuracy                           0.89      4495\n",
      "   macro avg       0.65      0.70      0.67      4495\n",
      "weighted avg       0.91      0.89      0.90      4495\n",
      "\n",
      "\n",
      "\n",
      "DecisionTree\n",
      "ROC AUC score: 57.29%\n",
      "              precision    recall  f1-score   support\n",
      "\n",
      "           0       0.94      0.99      0.96      4163\n",
      "           1       0.48      0.16      0.24       332\n",
      "\n",
      "    accuracy                           0.93      4495\n",
      "   macro avg       0.71      0.57      0.60      4495\n",
      "weighted avg       0.90      0.93      0.91      4495\n",
      "\n",
      "\n",
      "\n",
      "RandomForest\n",
      "ROC AUC score: 53.77%\n",
      "              precision    recall  f1-score   support\n",
      "\n",
      "           0       0.93      1.00      0.96      4163\n",
      "           1       0.68      0.08      0.14       332\n",
      "\n",
      "    accuracy                           0.93      4495\n",
      "   macro avg       0.81      0.54      0.55      4495\n",
      "weighted avg       0.91      0.93      0.90      4495\n",
      "\n",
      "\n",
      "\n",
      "LogisticRegression\n",
      "ROC AUC score: 56.42%\n",
      "              precision    recall  f1-score   support\n",
      "\n",
      "           0       0.94      0.99      0.96      4163\n",
      "           1       0.52      0.14      0.22       332\n",
      "\n",
      "    accuracy                           0.93      4495\n",
      "   macro avg       0.73      0.56      0.59      4495\n",
      "weighted avg       0.90      0.93      0.91      4495\n",
      "\n",
      "\n",
      "\n"
     ]
    }
   ],
   "source": [
    "# printing classification reports\n",
    "from sklearn.metrics import classification_report, roc_auc_score\n",
    "for estimator_name, estimator_object in estimators.items():\n",
    "    print(estimator_name)\n",
    "    print(f'ROC AUC score: {roc_auc_score(y_test, estimator_object.predict(X_test)):.2%}')\n",
    "    print(classification_report(y_test, estimator_object.predict(X_test)))\n",
    "    print()\n",
    "    print()"
   ]
  },
  {
   "cell_type": "code",
   "execution_count": 83,
   "id": "af216204",
   "metadata": {
    "execution": {
     "iopub.execute_input": "2022-03-09T14:32:45.629833Z",
     "iopub.status.busy": "2022-03-09T14:32:45.628479Z",
     "iopub.status.idle": "2022-03-09T14:33:36.496673Z",
     "shell.execute_reply": "2022-03-09T14:33:36.497149Z",
     "shell.execute_reply.started": "2022-03-09T14:27:44.382830Z"
    },
    "papermill": {
     "duration": 50.980487,
     "end_time": "2022-03-09T14:33:36.497304",
     "exception": false,
     "start_time": "2022-03-09T14:32:45.516817",
     "status": "completed"
    },
    "tags": []
   },
   "outputs": [
    {
     "name": "stdout",
     "output_type": "stream",
     "text": [
      "KNeighborsClassifier: mean accuracy=91.51%; standard deviation=0.64%\n",
      "                 SVC: mean accuracy=92.42%; standard deviation=0.47%\n",
      "          GaussianNB: mean accuracy=89.03%; standard deviation=0.73%\n",
      "        DecisionTree: mean accuracy=92.32%; standard deviation=0.45%\n",
      "        RandomForest: mean accuracy=92.45%; standard deviation=0.47%\n",
      "  LogisticRegression: mean accuracy=92.37%; standard deviation=0.60%\n"
     ]
    }
   ],
   "source": [
    "# evaluation on Cross_val_score\n",
    "for estimator_name, estimator_object in estimators.items():\n",
    "    kfold = KFold(n_splits=10, random_state=11, shuffle=True)\n",
    "    scores = cross_val_score(estimator=estimator_object, \n",
    "         X=X, y=y, cv=kfold)\n",
    "    print(f'{estimator_name:>20}: ' + \n",
    "           f'mean accuracy={scores.mean():.2%}; ' +\n",
    "           f'standard deviation={scores.std():.2%}')"
   ]
  }
 ],
 "metadata": {
  "kernelspec": {
   "display_name": "Python 3",
   "language": "python",
   "name": "python3"
  },
  "language_info": {
   "codemirror_mode": {
    "name": "ipython",
    "version": 3
   },
   "file_extension": ".py",
   "mimetype": "text/x-python",
   "name": "python",
   "nbconvert_exporter": "python",
   "pygments_lexer": "ipython3",
   "version": "3.7.12"
  },
  "papermill": {
   "default_parameters": {},
   "duration": 162.251697,
   "end_time": "2022-03-09T14:33:37.617982",
   "environment_variables": {},
   "exception": null,
   "input_path": "__notebook__.ipynb",
   "output_path": "__notebook__.ipynb",
   "parameters": {},
   "start_time": "2022-03-09T14:30:55.366285",
   "version": "2.3.3"
  }
 },
 "nbformat": 4,
 "nbformat_minor": 5
}
